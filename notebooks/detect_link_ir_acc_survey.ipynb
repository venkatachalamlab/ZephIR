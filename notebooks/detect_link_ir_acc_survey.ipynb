{
 "cells": [
  {
   "cell_type": "code",
   "execution_count": 1,
   "id": "fa6dd214",
   "metadata": {
    "ExecuteTime": {
     "end_time": "2023-11-18T20:17:39.699919Z",
     "start_time": "2023-11-18T20:17:33.542393Z"
    }
   },
   "outputs": [],
   "source": [
    "from collections import OrderedDict\n",
    "import copy\n",
    "import torch.nn as nn\n",
    "import torch.optim as optim\n",
    "from itertools import product\n",
    "from scipy.interpolate import griddata\n",
    "\n",
    "from zephir.methods import *\n",
    "from zephir.methods.build_pdists import get_all_pdists\n",
    "from zephir.models.container import Container\n",
    "from zephir.models.losses import corr_loss, reg_n\n",
    "from zephir.utils.io import *\n",
    "from zephir.utils.utils import *\n",
    "\n",
    "from zephir.methods.recommend_frames import recommend_frames\n",
    "from zephir.methods.extract_traces import extract_traces\n",
    "\n",
    "%matplotlib inline\n",
    "import matplotlib.pyplot as plt\n",
    "from tqdm.notebook import tqdm"
   ]
  },
  {
   "cell_type": "code",
   "execution_count": 2,
   "id": "163ec553",
   "metadata": {
    "ExecuteTime": {
     "end_time": "2023-11-18T20:17:39.702690Z",
     "start_time": "2023-11-18T20:17:39.702047Z"
    }
   },
   "outputs": [],
   "source": [
    "# path to dataset\n",
    "dataset = Path('/Users/jimmie/Downloads/ZM9624')"
   ]
  },
  {
   "cell_type": "code",
   "execution_count": 3,
   "id": "40c4b47e",
   "metadata": {
    "ExecuteTime": {
     "end_time": "2023-11-18T20:17:39.764535Z",
     "start_time": "2023-11-18T20:17:39.703995Z"
    }
   },
   "outputs": [
    {
     "data": {
      "text/plain": "{'--help': False,\n '--version': False,\n '--dataset': '.',\n '--dimmer_ratio': '0.1',\n '--n_epoch_d': '0',\n '--motion_predict': 'True',\n '--grid_shape': '49',\n '--fovea_sigma': '10.0',\n '--lr_coef': '2.0',\n '--t_track': None,\n '--allow_rotation': 'True',\n '--z_compensator': '4.0',\n '--n_epoch': '40',\n '--channel': '1',\n '--include_all': 'False',\n '--save_mode': 'w',\n '--gamma': '2',\n '--lambda_n_mode': 'norm',\n '--exclusive_prov': None,\n '--lr_floor': '0.01',\n '--load_checkpoint': 'False',\n '--lambda_t': '-1.0',\n '--load_args': 'True',\n '--wlid_ref': None,\n '--cuda': 'True',\n '--nn_max': '5',\n '--sort_mode': 'similarity',\n '--n_chunks': '1',\n '--lambda_n': '0.1',\n '--lambda_d': '0.1',\n '--clip_grad': '-1',\n '--n_frame': '1',\n '--t_ignore': None,\n '--t_ref': '498,444,463',\n '--load_nn': 'False',\n '--n_ref': None,\n '--lr_ceiling': '0.1',\n '--exclude_self': 'True'}"
     },
     "execution_count": 3,
     "metadata": {},
     "output_type": "execute_result"
    }
   ],
   "source": [
    "dev = 'cpu'\n",
    "with open(str(dataset / 'args.json')) as json_file:\n",
    "    args = json.load(json_file)\n",
    "args"
   ]
  },
  {
   "cell_type": "code",
   "execution_count": 4,
   "id": "67a3aaf7",
   "metadata": {
    "ExecuteTime": {
     "end_time": "2023-11-18T20:17:44.194079Z",
     "start_time": "2023-11-18T20:17:39.760572Z"
    }
   },
   "outputs": [
    {
     "name": "stdout",
     "output_type": "stream",
     "text": [
      "Checkpoint updated for ['container'] @ [2023-11-18 15:17:39.795082]\n",
      "Using frame #0 as initial reference with 178 annotations found...\n",
      "\n",
      "Annotations loaded for frames [0, 95, 98, 100, 149, 200, 271, 298, 389, 400, 444, 463, 498, 600, 640, 656, 672, 700, 764, 800, 806, 881, 900, 1000, 1038] with shape: (25, 178, 3)\n",
      "*** Partial annotations found for 1035 frames\n",
      "Checkpoint updated for ['container'] @ [2023-11-18 15:17:43.213774]\n",
      "Checkpoint updated for ['results'] @ [2023-11-18 15:17:43.263718]\n",
      "\n",
      "Compiling models and loss function...\n",
      "*** CUDA NOT AVAILABLE! Mapping Zephod parameters to CPU...\n",
      "Checkpoint updated for ['container'] @ [2023-11-18 15:17:43.356901]\n",
      "Checkpoint updated for ['zephir_kwargs', 'zephir', 'zephod'] @ [2023-11-18 15:17:43.403685]\n",
      "\n",
      "Building neighbor tree...\n",
      "Checkpoint updated for ['container'] @ [2023-11-18 15:17:43.487975]\n",
      "\n",
      "Building frame correlation graph...\n",
      "\n",
      "Sorting frames by similarity to parent...\n",
      "\n",
      "Frames sorted with max/mean distance\t0.5786 / 0.0169\n",
      "Checkpoint updated for ['container'] @ [2023-11-18 15:17:44.148398]\n"
     ]
    }
   ],
   "source": [
    "container = Container(\n",
    "    dataset=dataset,\n",
    "    allow_rotation=args['--allow_rotation'] in ['True', 'Y', 'y'],\n",
    "    channel=int(args['--channel']) if args['--channel'] else None,\n",
    "    dev=dev,\n",
    "    exclude_self=args['--exclude_self'] in ['True', 'Y', 'y'],\n",
    "    exclusive_prov=(bytes(args['--exclusive_prov'], 'utf-8')\n",
    "                    if args['--exclusive_prov'] else None),\n",
    "    gamma=float(args['--gamma']),\n",
    "    include_all=args['--include_all'] in ['True', 'Y', 'y'],\n",
    "    lr_coef=float(args['--lr_coef']),\n",
    "    n_frame=int(args['--n_frame']),\n",
    "    z_compensator=float(args['--z_compensator']),\n",
    ")\n",
    "\n",
    "container, results = build_annotations(\n",
    "    container=container,\n",
    "    annotation=None,\n",
    "#     t_ref=eval(args['--t_ref']) if args['--t_ref'] else None,\n",
    "    t_ref=None,\n",
    "    wlid_ref=eval(args['--wlid_ref']) if args['--wlid_ref'] else None,\n",
    "    n_ref=int(args['--n_ref']) if args['--n_ref'] else None,\n",
    ")\n",
    "\n",
    "container, zephir, zephod = build_models(\n",
    "    container=container,\n",
    "    dimmer_ratio=float(args['--dimmer_ratio']),\n",
    "    grid_shape=(5, 2 * (int(args['--grid_shape']) // 2) + 1,\n",
    "                2 * (int(args['--grid_shape']) // 2) + 1),\n",
    "    fovea_sigma=(1, float(args['--fovea_sigma']),\n",
    "                 float(args['--fovea_sigma'])),\n",
    "    n_chunks=int(args['--n_chunks']),\n",
    ")\n",
    "\n",
    "container = build_springs(\n",
    "    container=container,\n",
    "    load_nn=args['--load_nn'] in ['True', 'Y', 'y'],\n",
    "    nn_max=int(args['--nn_max']),\n",
    ")\n",
    "\n",
    "container = build_tree(\n",
    "    container=container,\n",
    "    sort_mode=str(args['--sort_mode']),\n",
    "#     t_ignore=eval(args['--t_ignore']) if args['--t_ignore'] else None,\n",
    "    t_ignore=None,\n",
    "#     t_track=eval(args['--t_track']) if args['--t_track'] else None,\n",
    "    t_track=None,\n",
    ")"
   ]
  },
  {
   "cell_type": "code",
   "execution_count": 5,
   "id": "cc93e96b",
   "metadata": {
    "ExecuteTime": {
     "end_time": "2023-11-18T20:17:44.199578Z",
     "start_time": "2023-11-18T20:17:44.193972Z"
    }
   },
   "outputs": [],
   "source": [
    "img_shape = np.array(container.get('img_shape'))[::-1]\n",
    "clip_grad=float(args['--clip_grad'])\n",
    "lambda_t=float(args['--lambda_t'])\n",
    "lambda_n=float(args['--lambda_n'])\n",
    "lambda_n_mode=args['--lambda_n_mode']\n",
    "lr_ceiling=float(args['--lr_ceiling'])\n",
    "lr_floor=float(args['--lr_floor'])\n",
    "n_epoch=int(args['--n_epoch'])\n",
    "lr_coef = container.get('lr_coef')\n",
    "s_list = container.get('s_list')\n",
    "neighbors = container.get('neighbors')\n",
    "covar = container.get('covar')\n",
    "z_compensator = container.get('z_compensator')\n",
    "nb_delta=(2, 1)\n",
    "nb_epoch=5\n",
    "\n",
    "# calculate initial learning rate based on parent-child distance\n",
    "d_full = get_all_pdists(dataset, container.get('shape_t'), 1, pbar=True)\n",
    "\n",
    "n_corr_ir = []\n",
    "n_corr_ir_dl = []\n",
    "n_corr_dl_c = []\n",
    "n_corr_dl_i = []"
   ]
  },
  {
   "cell_type": "code",
   "execution_count": 6,
   "id": "01014b75",
   "metadata": {
    "ExecuteTime": {
     "end_time": "2023-11-18T21:31:16.931912Z",
     "start_time": "2023-11-18T20:17:56.043414Z"
    }
   },
   "outputs": [
    {
     "data": {
      "text/plain": "  0%|          | 0/25 [00:00<?, ?it/s]",
      "application/vnd.jupyter.widget-view+json": {
       "version_major": 2,
       "version_minor": 0,
       "model_id": "53fb26bb1d4c4568949e5d154f4c903a"
      }
     },
     "metadata": {},
     "output_type": "display_data"
    },
    {
     "name": "stdout",
     "output_type": "stream",
     "text": [
      "Mean diff between min and next min: \n",
      "\tCorrect (69): 0.06649 | 0.15021\n",
      "\tIncorrect (109): 0.01994 | 0.11105\n",
      "Thresholded at 0.05: \n",
      "\tCorrect (43) \t|\t\tIncorrect (9)\n",
      "\n",
      "Frame #95\t\tParent #0\t\tDistance to parent: d=0.3244\n",
      "*** Partial annotations available for 52 keypoints\n"
     ]
    },
    {
     "data": {
      "text/plain": "Tracking:   0%|          | 0/40 [00:00<?, ?epochs/s]",
      "application/vnd.jupyter.widget-view+json": {
       "version_major": 2,
       "version_minor": 0,
       "model_id": "2a24ead9ef974961890e3ef464b742ca"
      }
     },
     "metadata": {},
     "output_type": "display_data"
    },
    {
     "name": "stdout",
     "output_type": "stream",
     "text": [
      "Mean diff between min and next min: \n",
      "\tCorrect (82): 0.06791 | 0.16859\n",
      "\tIncorrect (96): 0.02600 | 0.12634\n",
      "Thresholded at 0.05: \n",
      "\tCorrect (42) \t|\t\tIncorrect (16)\n",
      "\n",
      "Frame #98\t\tParent #0\t\tDistance to parent: d=0.2947\n",
      "*** Partial annotations available for 58 keypoints\n"
     ]
    },
    {
     "data": {
      "text/plain": "Tracking:   0%|          | 0/40 [00:00<?, ?epochs/s]",
      "application/vnd.jupyter.widget-view+json": {
       "version_major": 2,
       "version_minor": 0,
       "model_id": "ea1b771999584915857d281e1e67d08a"
      }
     },
     "metadata": {},
     "output_type": "display_data"
    },
    {
     "name": "stdout",
     "output_type": "stream",
     "text": [
      "Mean diff between min and next min: \n",
      "\tCorrect (105): 0.07379 | 0.23147\n",
      "\tIncorrect (73): 0.02416 | 0.08943\n",
      "Thresholded at 0.05: \n",
      "\tCorrect (70) \t|\t\tIncorrect (11)\n",
      "\n",
      "Frame #100\t\tParent #0\t\tDistance to parent: d=0.1497\n",
      "*** Partial annotations available for 81 keypoints\n"
     ]
    },
    {
     "data": {
      "text/plain": "Tracking:   0%|          | 0/40 [00:00<?, ?epochs/s]",
      "application/vnd.jupyter.widget-view+json": {
       "version_major": 2,
       "version_minor": 0,
       "model_id": "82d24b317ad04f54bfbc6f058f23706d"
      }
     },
     "metadata": {},
     "output_type": "display_data"
    },
    {
     "name": "stdout",
     "output_type": "stream",
     "text": [
      "Mean diff between min and next min: \n",
      "\tCorrect (131): 0.08759 | 0.23969\n",
      "\tIncorrect (47): 0.02962 | 0.13873\n",
      "Thresholded at 0.05: \n",
      "\tCorrect (102) \t|\t\tIncorrect (7)\n",
      "\n",
      "Frame #149\t\tParent #0\t\tDistance to parent: d=0.1019\n",
      "*** Partial annotations available for 109 keypoints\n"
     ]
    },
    {
     "data": {
      "text/plain": "Tracking:   0%|          | 0/40 [00:00<?, ?epochs/s]",
      "application/vnd.jupyter.widget-view+json": {
       "version_major": 2,
       "version_minor": 0,
       "model_id": "cd1a199230ef4b5fa5c73ac786421a66"
      }
     },
     "metadata": {},
     "output_type": "display_data"
    },
    {
     "name": "stdout",
     "output_type": "stream",
     "text": [
      "Mean diff between min and next min: \n",
      "\tCorrect (55): 0.03785 | 0.12460\n",
      "\tIncorrect (123): 0.02280 | 0.06816\n",
      "Thresholded at 0.05: \n",
      "\tCorrect (16) \t|\t\tIncorrect (14)\n",
      "\n",
      "Frame #200\t\tParent #0\t\tDistance to parent: d=0.4353\n",
      "*** Partial annotations available for 30 keypoints\n"
     ]
    },
    {
     "data": {
      "text/plain": "Tracking:   0%|          | 0/40 [00:00<?, ?epochs/s]",
      "application/vnd.jupyter.widget-view+json": {
       "version_major": 2,
       "version_minor": 0,
       "model_id": "62d95ba3862d4de280a8009a3a59edfb"
      }
     },
     "metadata": {},
     "output_type": "display_data"
    },
    {
     "name": "stdout",
     "output_type": "stream",
     "text": [
      "Mean diff between min and next min: \n",
      "\tCorrect (90): 0.04483 | 0.11425\n",
      "\tIncorrect (88): 0.02025 | 0.08525\n",
      "Thresholded at 0.05: \n",
      "\tCorrect (38) \t|\t\tIncorrect (12)\n",
      "\n",
      "Frame #271\t\tParent #0\t\tDistance to parent: d=0.2241\n",
      "*** Partial annotations available for 50 keypoints\n"
     ]
    },
    {
     "data": {
      "text/plain": "Tracking:   0%|          | 0/40 [00:00<?, ?epochs/s]",
      "application/vnd.jupyter.widget-view+json": {
       "version_major": 2,
       "version_minor": 0,
       "model_id": "295a25b068074786b14ec6fa4e3be599"
      }
     },
     "metadata": {},
     "output_type": "display_data"
    },
    {
     "name": "stdout",
     "output_type": "stream",
     "text": [
      "Mean diff between min and next min: \n",
      "\tCorrect (37): 0.03849 | 0.10181\n",
      "\tIncorrect (141): 0.01839 | 0.10593\n",
      "Thresholded at 0.05: \n",
      "\tCorrect (9) \t|\t\tIncorrect (8)\n",
      "\n",
      "Frame #298\t\tParent #0\t\tDistance to parent: d=0.4106\n",
      "*** Partial annotations available for 17 keypoints\n"
     ]
    },
    {
     "data": {
      "text/plain": "Tracking:   0%|          | 0/40 [00:00<?, ?epochs/s]",
      "application/vnd.jupyter.widget-view+json": {
       "version_major": 2,
       "version_minor": 0,
       "model_id": "686eb3168c8444dbab72719ea3dbc468"
      }
     },
     "metadata": {},
     "output_type": "display_data"
    },
    {
     "name": "stdout",
     "output_type": "stream",
     "text": [
      "Mean diff between min and next min: \n",
      "\tCorrect (42): 0.04694 | 0.16483\n",
      "\tIncorrect (136): 0.01970 | 0.10622\n",
      "Thresholded at 0.05: \n",
      "\tCorrect (17) \t|\t\tIncorrect (10)\n",
      "\n",
      "Frame #389\t\tParent #0\t\tDistance to parent: d=0.5229\n",
      "*** Partial annotations available for 27 keypoints\n"
     ]
    },
    {
     "data": {
      "text/plain": "Tracking:   0%|          | 0/40 [00:00<?, ?epochs/s]",
      "application/vnd.jupyter.widget-view+json": {
       "version_major": 2,
       "version_minor": 0,
       "model_id": "b576ea23690a4c6384b50579f82bee82"
      }
     },
     "metadata": {},
     "output_type": "display_data"
    },
    {
     "name": "stdout",
     "output_type": "stream",
     "text": [
      "Mean diff between min and next min: \n",
      "\tCorrect (40): 0.05200 | 0.12278\n",
      "\tIncorrect (138): 0.02000 | 0.11175\n",
      "Thresholded at 0.05: \n",
      "\tCorrect (18) \t|\t\tIncorrect (10)\n",
      "\n",
      "Frame #400\t\tParent #0\t\tDistance to parent: d=0.6668\n",
      "*** Partial annotations available for 28 keypoints\n"
     ]
    },
    {
     "data": {
      "text/plain": "Tracking:   0%|          | 0/40 [00:00<?, ?epochs/s]",
      "application/vnd.jupyter.widget-view+json": {
       "version_major": 2,
       "version_minor": 0,
       "model_id": "5721ec33f4a84a5fa04a743c0773ae78"
      }
     },
     "metadata": {},
     "output_type": "display_data"
    },
    {
     "name": "stdout",
     "output_type": "stream",
     "text": [
      "Mean diff between min and next min: \n",
      "\tCorrect (132): 0.07519 | 0.24716\n",
      "\tIncorrect (46): 0.01960 | 0.06890\n",
      "Thresholded at 0.05: \n",
      "\tCorrect (91) \t|\t\tIncorrect (3)\n",
      "\n",
      "Frame #444\t\tParent #0\t\tDistance to parent: d=0.1857\n",
      "*** Partial annotations available for 94 keypoints\n"
     ]
    },
    {
     "data": {
      "text/plain": "Tracking:   0%|          | 0/40 [00:00<?, ?epochs/s]",
      "application/vnd.jupyter.widget-view+json": {
       "version_major": 2,
       "version_minor": 0,
       "model_id": "25d09111a0a2455cb3eb8e4be00952b7"
      }
     },
     "metadata": {},
     "output_type": "display_data"
    },
    {
     "name": "stdout",
     "output_type": "stream",
     "text": [
      "Mean diff between min and next min: \n",
      "\tCorrect (75): 0.05890 | 0.15648\n",
      "\tIncorrect (103): 0.02301 | 0.07853\n",
      "Thresholded at 0.05: \n",
      "\tCorrect (42) \t|\t\tIncorrect (10)\n",
      "\n",
      "Frame #463\t\tParent #0\t\tDistance to parent: d=0.3810\n",
      "*** Partial annotations available for 52 keypoints\n"
     ]
    },
    {
     "data": {
      "text/plain": "Tracking:   0%|          | 0/40 [00:00<?, ?epochs/s]",
      "application/vnd.jupyter.widget-view+json": {
       "version_major": 2,
       "version_minor": 0,
       "model_id": "23ea4193d6f0465f89ea7e6c529f74d6"
      }
     },
     "metadata": {},
     "output_type": "display_data"
    },
    {
     "name": "stdout",
     "output_type": "stream",
     "text": [
      "Mean diff between min and next min: \n",
      "\tCorrect (92): 0.07225 | 0.17980\n",
      "\tIncorrect (86): 0.01771 | 0.07233\n",
      "Thresholded at 0.05: \n",
      "\tCorrect (63) \t|\t\tIncorrect (4)\n",
      "\n",
      "Frame #498\t\tParent #0\t\tDistance to parent: d=0.3112\n",
      "*** Partial annotations available for 67 keypoints\n"
     ]
    },
    {
     "data": {
      "text/plain": "Tracking:   0%|          | 0/40 [00:00<?, ?epochs/s]",
      "application/vnd.jupyter.widget-view+json": {
       "version_major": 2,
       "version_minor": 0,
       "model_id": "3c154675db7d49369f442c10f776deb6"
      }
     },
     "metadata": {},
     "output_type": "display_data"
    },
    {
     "name": "stdout",
     "output_type": "stream",
     "text": [
      "Mean diff between min and next min: \n",
      "\tCorrect (87): 0.06399 | 0.18350\n",
      "\tIncorrect (91): 0.01989 | 0.07383\n",
      "Thresholded at 0.05: \n",
      "\tCorrect (51) \t|\t\tIncorrect (6)\n",
      "\n",
      "Frame #600\t\tParent #0\t\tDistance to parent: d=0.3218\n",
      "*** Partial annotations available for 57 keypoints\n"
     ]
    },
    {
     "data": {
      "text/plain": "Tracking:   0%|          | 0/40 [00:00<?, ?epochs/s]",
      "application/vnd.jupyter.widget-view+json": {
       "version_major": 2,
       "version_minor": 0,
       "model_id": "65b028bef2e04a238503b923b507fd4b"
      }
     },
     "metadata": {},
     "output_type": "display_data"
    },
    {
     "name": "stdout",
     "output_type": "stream",
     "text": [
      "Mean diff between min and next min: \n",
      "\tCorrect (76): 0.05625 | 0.16964\n",
      "\tIncorrect (102): 0.01925 | 0.08177\n",
      "Thresholded at 0.05: \n",
      "\tCorrect (36) \t|\t\tIncorrect (4)\n",
      "\n",
      "Frame #640\t\tParent #0\t\tDistance to parent: d=0.3111\n",
      "*** Partial annotations available for 40 keypoints\n"
     ]
    },
    {
     "data": {
      "text/plain": "Tracking:   0%|          | 0/40 [00:00<?, ?epochs/s]",
      "application/vnd.jupyter.widget-view+json": {
       "version_major": 2,
       "version_minor": 0,
       "model_id": "c70408810aca46ec9110804ec6cbf028"
      }
     },
     "metadata": {},
     "output_type": "display_data"
    },
    {
     "name": "stdout",
     "output_type": "stream",
     "text": [
      "Mean diff between min and next min: \n",
      "\tCorrect (48): 0.04043 | 0.13052\n",
      "\tIncorrect (130): 0.02391 | 0.09056\n",
      "Thresholded at 0.05: \n",
      "\tCorrect (16) \t|\t\tIncorrect (16)\n",
      "\n",
      "Frame #656\t\tParent #0\t\tDistance to parent: d=0.1772\n",
      "*** Partial annotations available for 32 keypoints\n"
     ]
    },
    {
     "data": {
      "text/plain": "Tracking:   0%|          | 0/40 [00:00<?, ?epochs/s]",
      "application/vnd.jupyter.widget-view+json": {
       "version_major": 2,
       "version_minor": 0,
       "model_id": "e82f2b7812f94cd7b4ea72d970ecc31a"
      }
     },
     "metadata": {},
     "output_type": "display_data"
    },
    {
     "name": "stdout",
     "output_type": "stream",
     "text": [
      "Mean diff between min and next min: \n",
      "\tCorrect (35): 0.02560 | 0.09106\n",
      "\tIncorrect (143): 0.01654 | 0.08856\n",
      "Thresholded at 0.05: \n",
      "\tCorrect (5) \t|\t\tIncorrect (6)\n",
      "\n",
      "Frame #672\t\tParent #0\t\tDistance to parent: d=0.4174\n",
      "*** Partial annotations available for 11 keypoints\n"
     ]
    },
    {
     "data": {
      "text/plain": "Tracking:   0%|          | 0/40 [00:00<?, ?epochs/s]",
      "application/vnd.jupyter.widget-view+json": {
       "version_major": 2,
       "version_minor": 0,
       "model_id": "dc5117999c0c4f40a19d90a74341fed3"
      }
     },
     "metadata": {},
     "output_type": "display_data"
    },
    {
     "name": "stdout",
     "output_type": "stream",
     "text": [
      "Mean diff between min and next min: \n",
      "\tCorrect (51): 0.03613 | 0.13237\n",
      "\tIncorrect (127): 0.01959 | 0.09077\n",
      "Thresholded at 0.05: \n",
      "\tCorrect (15) \t|\t\tIncorrect (10)\n",
      "\n",
      "Frame #700\t\tParent #0\t\tDistance to parent: d=0.1947\n",
      "*** Partial annotations available for 25 keypoints\n"
     ]
    },
    {
     "data": {
      "text/plain": "Tracking:   0%|          | 0/40 [00:00<?, ?epochs/s]",
      "application/vnd.jupyter.widget-view+json": {
       "version_major": 2,
       "version_minor": 0,
       "model_id": "70e5f6be7597474c8462072fdcf9867a"
      }
     },
     "metadata": {},
     "output_type": "display_data"
    },
    {
     "name": "stdout",
     "output_type": "stream",
     "text": [
      "Mean diff between min and next min: \n",
      "\tCorrect (34): 0.03083 | 0.10027\n",
      "\tIncorrect (144): 0.02384 | 0.07483\n",
      "Thresholded at 0.05: \n",
      "\tCorrect (5) \t|\t\tIncorrect (19)\n",
      "\n",
      "Frame #764\t\tParent #0\t\tDistance to parent: d=0.4663\n",
      "*** Partial annotations available for 24 keypoints\n"
     ]
    },
    {
     "data": {
      "text/plain": "Tracking:   0%|          | 0/40 [00:00<?, ?epochs/s]",
      "application/vnd.jupyter.widget-view+json": {
       "version_major": 2,
       "version_minor": 0,
       "model_id": "ae3944696f1540b8a8e98e9f74d152b4"
      }
     },
     "metadata": {},
     "output_type": "display_data"
    },
    {
     "name": "stdout",
     "output_type": "stream",
     "text": [
      "Mean diff between min and next min: \n",
      "\tCorrect (72): 0.03582 | 0.13983\n",
      "\tIncorrect (106): 0.02296 | 0.11615\n",
      "Thresholded at 0.05: \n",
      "\tCorrect (24) \t|\t\tIncorrect (11)\n",
      "\n",
      "Frame #800\t\tParent #0\t\tDistance to parent: d=0.2847\n",
      "*** Partial annotations available for 35 keypoints\n"
     ]
    },
    {
     "data": {
      "text/plain": "Tracking:   0%|          | 0/40 [00:00<?, ?epochs/s]",
      "application/vnd.jupyter.widget-view+json": {
       "version_major": 2,
       "version_minor": 0,
       "model_id": "45cc81316ae644b39c43ea9e746084d4"
      }
     },
     "metadata": {},
     "output_type": "display_data"
    },
    {
     "name": "stdout",
     "output_type": "stream",
     "text": [
      "Mean diff between min and next min: \n",
      "\tCorrect (66): 0.03885 | 0.15211\n",
      "\tIncorrect (112): 0.02161 | 0.08986\n",
      "Thresholded at 0.05: \n",
      "\tCorrect (21) \t|\t\tIncorrect (12)\n",
      "\n",
      "Frame #806\t\tParent #0\t\tDistance to parent: d=0.2208\n",
      "*** Partial annotations available for 33 keypoints\n"
     ]
    },
    {
     "data": {
      "text/plain": "Tracking:   0%|          | 0/40 [00:00<?, ?epochs/s]",
      "application/vnd.jupyter.widget-view+json": {
       "version_major": 2,
       "version_minor": 0,
       "model_id": "6648a307217d4231b2ec278086c5d0e7"
      }
     },
     "metadata": {},
     "output_type": "display_data"
    },
    {
     "name": "stdout",
     "output_type": "stream",
     "text": [
      "Mean diff between min and next min: \n",
      "\tCorrect (57): 0.04756 | 0.14803\n",
      "\tIncorrect (121): 0.01940 | 0.08099\n",
      "Thresholded at 0.05: \n",
      "\tCorrect (22) \t|\t\tIncorrect (9)\n",
      "\n",
      "Frame #881\t\tParent #0\t\tDistance to parent: d=0.3780\n",
      "*** Partial annotations available for 31 keypoints\n"
     ]
    },
    {
     "data": {
      "text/plain": "Tracking:   0%|          | 0/40 [00:00<?, ?epochs/s]",
      "application/vnd.jupyter.widget-view+json": {
       "version_major": 2,
       "version_minor": 0,
       "model_id": "469f163f92db4ae0a586ede8e6720bbd"
      }
     },
     "metadata": {},
     "output_type": "display_data"
    },
    {
     "name": "stdout",
     "output_type": "stream",
     "text": [
      "Mean diff between min and next min: \n",
      "\tCorrect (24): 0.04140 | 0.13166\n",
      "\tIncorrect (154): 0.02006 | 0.10734\n",
      "Thresholded at 0.05: \n",
      "\tCorrect (7) \t|\t\tIncorrect (7)\n",
      "\n",
      "Frame #900\t\tParent #0\t\tDistance to parent: d=0.4299\n",
      "*** Partial annotations available for 14 keypoints\n"
     ]
    },
    {
     "data": {
      "text/plain": "Tracking:   0%|          | 0/40 [00:00<?, ?epochs/s]",
      "application/vnd.jupyter.widget-view+json": {
       "version_major": 2,
       "version_minor": 0,
       "model_id": "7f8012afff2840989efda60c46bd73db"
      }
     },
     "metadata": {},
     "output_type": "display_data"
    },
    {
     "name": "stdout",
     "output_type": "stream",
     "text": [
      "Mean diff between min and next min: \n",
      "\tCorrect (42): 0.04152 | 0.12883\n",
      "\tIncorrect (136): 0.02258 | 0.13583\n",
      "Thresholded at 0.05: \n",
      "\tCorrect (13) \t|\t\tIncorrect (15)\n",
      "\n",
      "Frame #1000\t\tParent #0\t\tDistance to parent: d=0.3992\n",
      "*** Partial annotations available for 28 keypoints\n"
     ]
    },
    {
     "data": {
      "text/plain": "Tracking:   0%|          | 0/40 [00:00<?, ?epochs/s]",
      "application/vnd.jupyter.widget-view+json": {
       "version_major": 2,
       "version_minor": 0,
       "model_id": "50f6e7c8a20b468e809f450a859320b7"
      }
     },
     "metadata": {},
     "output_type": "display_data"
    },
    {
     "name": "stdout",
     "output_type": "stream",
     "text": [
      "Mean diff between min and next min: \n",
      "\tCorrect (39): 0.03547 | 0.12200\n",
      "\tIncorrect (139): 0.01940 | 0.07769\n",
      "Thresholded at 0.05: \n",
      "\tCorrect (11) \t|\t\tIncorrect (11)\n",
      "\n",
      "Frame #1038\t\tParent #0\t\tDistance to parent: d=0.3935\n",
      "*** Partial annotations available for 22 keypoints\n"
     ]
    },
    {
     "data": {
      "text/plain": "Tracking:   0%|          | 0/40 [00:00<?, ?epochs/s]",
      "application/vnd.jupyter.widget-view+json": {
       "version_major": 2,
       "version_minor": 0,
       "model_id": "d2d2431419674ce99e645f6ce108e752"
      }
     },
     "metadata": {},
     "output_type": "display_data"
    },
    {
     "name": "stdout",
     "output_type": "stream",
     "text": [
      "Mean diff between min and next min: \n",
      "\tCorrect (156): 0.11404 | 0.27590\n",
      "\tIncorrect (22): 0.02257 | 0.10918\n",
      "Thresholded at 0.05: \n",
      "\tCorrect (133) \t|\t\tIncorrect (2)\n",
      "\n",
      "Frame #98\t\tParent #95\t\tDistance to parent: d=0.0376\n",
      "*** Partial annotations available for 135 keypoints\n"
     ]
    },
    {
     "data": {
      "text/plain": "Tracking:   0%|          | 0/40 [00:00<?, ?epochs/s]",
      "application/vnd.jupyter.widget-view+json": {
       "version_major": 2,
       "version_minor": 0,
       "model_id": "9706a1e01926437a93bb1643f86c34d6"
      }
     },
     "metadata": {},
     "output_type": "display_data"
    },
    {
     "name": "stdout",
     "output_type": "stream",
     "text": [
      "Mean diff between min and next min: \n",
      "\tCorrect (86): 0.07508 | 0.27342\n",
      "\tIncorrect (92): 0.02910 | 0.11873\n",
      "Thresholded at 0.05: \n",
      "\tCorrect (55) \t|\t\tIncorrect (17)\n",
      "\n",
      "Frame #100\t\tParent #95\t\tDistance to parent: d=0.1588\n",
      "*** Partial annotations available for 72 keypoints\n"
     ]
    },
    {
     "data": {
      "text/plain": "Tracking:   0%|          | 0/40 [00:00<?, ?epochs/s]",
      "application/vnd.jupyter.widget-view+json": {
       "version_major": 2,
       "version_minor": 0,
       "model_id": "35cde7bdfb1947cbbd7e86faa7025c21"
      }
     },
     "metadata": {},
     "output_type": "display_data"
    },
    {
     "name": "stdout",
     "output_type": "stream",
     "text": [
      "Mean diff between min and next min: \n",
      "\tCorrect (68): 0.06412 | 0.19149\n",
      "\tIncorrect (110): 0.02647 | 0.11946\n",
      "Thresholded at 0.05: \n",
      "\tCorrect (38) \t|\t\tIncorrect (15)\n",
      "\n",
      "Frame #149\t\tParent #95\t\tDistance to parent: d=0.3160\n",
      "*** Partial annotations available for 53 keypoints\n"
     ]
    },
    {
     "data": {
      "text/plain": "Tracking:   0%|          | 0/40 [00:00<?, ?epochs/s]",
      "application/vnd.jupyter.widget-view+json": {
       "version_major": 2,
       "version_minor": 0,
       "model_id": "19b6d2fafa6248f8af5d665c2d7bfd93"
      }
     },
     "metadata": {},
     "output_type": "display_data"
    },
    {
     "name": "stdout",
     "output_type": "stream",
     "text": [
      "Mean diff between min and next min: \n",
      "\tCorrect (119): 0.07319 | 0.21674\n",
      "\tIncorrect (59): 0.01635 | 0.08195\n",
      "Thresholded at 0.05: \n",
      "\tCorrect (78) \t|\t\tIncorrect (4)\n",
      "\n",
      "Frame #200\t\tParent #95\t\tDistance to parent: d=0.0862\n",
      "*** Partial annotations available for 82 keypoints\n"
     ]
    },
    {
     "data": {
      "text/plain": "Tracking:   0%|          | 0/40 [00:00<?, ?epochs/s]",
      "application/vnd.jupyter.widget-view+json": {
       "version_major": 2,
       "version_minor": 0,
       "model_id": "c9fce7cea8454426bb40df7788eb9adc"
      }
     },
     "metadata": {},
     "output_type": "display_data"
    },
    {
     "name": "stdout",
     "output_type": "stream",
     "text": [
      "Mean diff between min and next min: \n",
      "\tCorrect (30): 0.03294 | 0.09673\n",
      "\tIncorrect (148): 0.02085 | 0.12303\n",
      "Thresholded at 0.05: \n",
      "\tCorrect (8) \t|\t\tIncorrect (11)\n",
      "\n",
      "Frame #271\t\tParent #95\t\tDistance to parent: d=0.4000\n",
      "*** Partial annotations available for 19 keypoints\n"
     ]
    },
    {
     "data": {
      "text/plain": "Tracking:   0%|          | 0/40 [00:00<?, ?epochs/s]",
      "application/vnd.jupyter.widget-view+json": {
       "version_major": 2,
       "version_minor": 0,
       "model_id": "0583b6c03ac54e6e985561f079ca41cc"
      }
     },
     "metadata": {},
     "output_type": "display_data"
    },
    {
     "name": "stdout",
     "output_type": "stream",
     "text": [
      "Mean diff between min and next min: \n",
      "\tCorrect (110): 0.07492 | 0.21495\n",
      "\tIncorrect (68): 0.02253 | 0.10569\n",
      "Thresholded at 0.05: \n",
      "\tCorrect (71) \t|\t\tIncorrect (8)\n",
      "\n",
      "Frame #298\t\tParent #95\t\tDistance to parent: d=0.1229\n",
      "*** Partial annotations available for 79 keypoints\n"
     ]
    },
    {
     "data": {
      "text/plain": "Tracking:   0%|          | 0/40 [00:00<?, ?epochs/s]",
      "application/vnd.jupyter.widget-view+json": {
       "version_major": 2,
       "version_minor": 0,
       "model_id": "1033f50e148b46f5adea4bfddd989f46"
      }
     },
     "metadata": {},
     "output_type": "display_data"
    },
    {
     "name": "stdout",
     "output_type": "stream",
     "text": [
      "Mean diff between min and next min: \n",
      "\tCorrect (21): 0.03100 | 0.11808\n",
      "\tIncorrect (157): 0.02272 | 0.12481\n",
      "Thresholded at 0.05: \n",
      "\tCorrect (2) \t|\t\tIncorrect (17)\n",
      "\n",
      "Frame #389\t\tParent #95\t\tDistance to parent: d=0.6651\n",
      "*** Partial annotations available for 19 keypoints\n"
     ]
    },
    {
     "data": {
      "text/plain": "Tracking:   0%|          | 0/40 [00:00<?, ?epochs/s]",
      "application/vnd.jupyter.widget-view+json": {
       "version_major": 2,
       "version_minor": 0,
       "model_id": "b6956149ee0741588bc3a63b3505ad7d"
      }
     },
     "metadata": {},
     "output_type": "display_data"
    },
    {
     "name": "stdout",
     "output_type": "stream",
     "text": [
      "Mean diff between min and next min: \n",
      "\tCorrect (89): 0.07347 | 0.22665\n",
      "\tIncorrect (89): 0.03097 | 0.15065\n",
      "Thresholded at 0.05: \n",
      "\tCorrect (53) \t|\t\tIncorrect (17)\n",
      "\n",
      "Frame #400\t\tParent #95\t\tDistance to parent: d=0.4330\n",
      "*** Partial annotations available for 70 keypoints\n"
     ]
    },
    {
     "data": {
      "text/plain": "Tracking:   0%|          | 0/40 [00:00<?, ?epochs/s]",
      "application/vnd.jupyter.widget-view+json": {
       "version_major": 2,
       "version_minor": 0,
       "model_id": "b54dea806ef84ed1a9f8b446fe82d389"
      }
     },
     "metadata": {},
     "output_type": "display_data"
    },
    {
     "name": "stdout",
     "output_type": "stream",
     "text": [
      "Mean diff between min and next min: \n",
      "\tCorrect (48): 0.04345 | 0.14327\n",
      "\tIncorrect (130): 0.02206 | 0.10110\n",
      "Thresholded at 0.05: \n",
      "\tCorrect (20) \t|\t\tIncorrect (13)\n",
      "\n",
      "Frame #444\t\tParent #95\t\tDistance to parent: d=0.3615\n",
      "*** Partial annotations available for 33 keypoints\n"
     ]
    },
    {
     "data": {
      "text/plain": "Tracking:   0%|          | 0/40 [00:00<?, ?epochs/s]",
      "application/vnd.jupyter.widget-view+json": {
       "version_major": 2,
       "version_minor": 0,
       "model_id": "a48a8a7cebd943c0b9b5d2f3cd17955d"
      }
     },
     "metadata": {},
     "output_type": "display_data"
    },
    {
     "name": "stdout",
     "output_type": "stream",
     "text": [
      "Mean diff between min and next min: \n",
      "\tCorrect (158): 0.10333 | 0.21650\n",
      "\tIncorrect (20): 0.01521 | 0.04714\n",
      "Thresholded at 0.05: \n",
      "\tCorrect (136) \t|\t\tIncorrect (0)\n",
      "\n",
      "Frame #463\t\tParent #95\t\tDistance to parent: d=0.0510\n",
      "*** Partial annotations available for 136 keypoints\n"
     ]
    },
    {
     "data": {
      "text/plain": "Tracking:   0%|          | 0/40 [00:00<?, ?epochs/s]",
      "application/vnd.jupyter.widget-view+json": {
       "version_major": 2,
       "version_minor": 0,
       "model_id": "65de7fa266fe451b9b763afb2ac6d708"
      }
     },
     "metadata": {},
     "output_type": "display_data"
    },
    {
     "name": "stdout",
     "output_type": "stream",
     "text": [
      "Mean diff between min and next min: \n",
      "\tCorrect (95): 0.06065 | 0.17606\n",
      "\tIncorrect (83): 0.02275 | 0.11106\n",
      "Thresholded at 0.05: \n",
      "\tCorrect (50) \t|\t\tIncorrect (9)\n",
      "\n",
      "Frame #498\t\tParent #95\t\tDistance to parent: d=0.1328\n",
      "*** Partial annotations available for 59 keypoints\n"
     ]
    },
    {
     "data": {
      "text/plain": "Tracking:   0%|          | 0/40 [00:00<?, ?epochs/s]",
      "application/vnd.jupyter.widget-view+json": {
       "version_major": 2,
       "version_minor": 0,
       "model_id": "033af74f32f848b093e9cedbaf7f5687"
      }
     },
     "metadata": {},
     "output_type": "display_data"
    },
    {
     "name": "stdout",
     "output_type": "stream",
     "text": [
      "Mean diff between min and next min: \n",
      "\tCorrect (98): 0.05944 | 0.17921\n",
      "\tIncorrect (80): 0.02302 | 0.12062\n",
      "Thresholded at 0.05: \n",
      "\tCorrect (54) \t|\t\tIncorrect (9)\n",
      "\n",
      "Frame #600\t\tParent #95\t\tDistance to parent: d=0.1229\n",
      "*** Partial annotations available for 63 keypoints\n"
     ]
    },
    {
     "data": {
      "text/plain": "Tracking:   0%|          | 0/40 [00:00<?, ?epochs/s]",
      "application/vnd.jupyter.widget-view+json": {
       "version_major": 2,
       "version_minor": 0,
       "model_id": "a53bdf4cf3b749e99a6b30e26340d6af"
      }
     },
     "metadata": {},
     "output_type": "display_data"
    },
    {
     "name": "stdout",
     "output_type": "stream",
     "text": [
      "Mean diff between min and next min: \n",
      "\tCorrect (85): 0.06548 | 0.19102\n",
      "\tIncorrect (93): 0.01983 | 0.07935\n",
      "Thresholded at 0.05: \n",
      "\tCorrect (48) \t|\t\tIncorrect (9)\n",
      "\n",
      "Frame #640\t\tParent #95\t\tDistance to parent: d=0.1774\n",
      "*** Partial annotations available for 57 keypoints\n"
     ]
    },
    {
     "data": {
      "text/plain": "Tracking:   0%|          | 0/40 [00:00<?, ?epochs/s]",
      "application/vnd.jupyter.widget-view+json": {
       "version_major": 2,
       "version_minor": 0,
       "model_id": "2a93e012e5634c078f68c568eddc4f8c"
      }
     },
     "metadata": {},
     "output_type": "display_data"
    },
    {
     "name": "stdout",
     "output_type": "stream",
     "text": [
      "Mean diff between min and next min: \n",
      "\tCorrect (32): 0.03138 | 0.15076\n",
      "\tIncorrect (146): 0.02441 | 0.12031\n",
      "Thresholded at 0.05: \n",
      "\tCorrect (6) \t|\t\tIncorrect (20)\n",
      "\n",
      "Frame #656\t\tParent #95\t\tDistance to parent: d=0.3195\n",
      "*** Partial annotations available for 26 keypoints\n"
     ]
    },
    {
     "data": {
      "text/plain": "Tracking:   0%|          | 0/40 [00:00<?, ?epochs/s]",
      "application/vnd.jupyter.widget-view+json": {
       "version_major": 2,
       "version_minor": 0,
       "model_id": "072b014954d54d50a8cca39a909c6104"
      }
     },
     "metadata": {},
     "output_type": "display_data"
    },
    {
     "name": "stdout",
     "output_type": "stream",
     "text": [
      "Mean diff between min and next min: \n",
      "\tCorrect (93): 0.06751 | 0.19548\n",
      "\tIncorrect (85): 0.02372 | 0.09283\n",
      "Thresholded at 0.05: \n",
      "\tCorrect (54) \t|\t\tIncorrect (8)\n",
      "\n",
      "Frame #672\t\tParent #95\t\tDistance to parent: d=0.1397\n",
      "*** Partial annotations available for 62 keypoints\n"
     ]
    },
    {
     "data": {
      "text/plain": "Tracking:   0%|          | 0/40 [00:00<?, ?epochs/s]",
      "application/vnd.jupyter.widget-view+json": {
       "version_major": 2,
       "version_minor": 0,
       "model_id": "5954740361cb4746b5983d1981c0ef01"
      }
     },
     "metadata": {},
     "output_type": "display_data"
    },
    {
     "name": "stdout",
     "output_type": "stream",
     "text": [
      "Mean diff between min and next min: \n",
      "\tCorrect (27): 0.03071 | 0.11577\n",
      "\tIncorrect (151): 0.02181 | 0.12413\n",
      "Thresholded at 0.05: \n",
      "\tCorrect (2) \t|\t\tIncorrect (11)\n",
      "\n",
      "Frame #700\t\tParent #95\t\tDistance to parent: d=0.4236\n",
      "*** Partial annotations available for 13 keypoints\n"
     ]
    },
    {
     "data": {
      "text/plain": "Tracking:   0%|          | 0/40 [00:00<?, ?epochs/s]",
      "application/vnd.jupyter.widget-view+json": {
       "version_major": 2,
       "version_minor": 0,
       "model_id": "ef62747aac9b48ae82709113727139c5"
      }
     },
     "metadata": {},
     "output_type": "display_data"
    },
    {
     "name": "stdout",
     "output_type": "stream",
     "text": [
      "Mean diff between min and next min: \n",
      "\tCorrect (108): 0.06777 | 0.18385\n",
      "\tIncorrect (70): 0.02664 | 0.08084\n",
      "Thresholded at 0.05: \n",
      "\tCorrect (65) \t|\t\tIncorrect (12)\n",
      "\n",
      "Frame #764\t\tParent #95\t\tDistance to parent: d=0.1414\n",
      "*** Partial annotations available for 77 keypoints\n"
     ]
    },
    {
     "data": {
      "text/plain": "Tracking:   0%|          | 0/40 [00:00<?, ?epochs/s]",
      "application/vnd.jupyter.widget-view+json": {
       "version_major": 2,
       "version_minor": 0,
       "model_id": "1eec8a4b330a44e3860b3d19d217f76f"
      }
     },
     "metadata": {},
     "output_type": "display_data"
    },
    {
     "name": "stdout",
     "output_type": "stream",
     "text": [
      "Mean diff between min and next min: \n",
      "\tCorrect (53): 0.05151 | 0.13753\n",
      "\tIncorrect (125): 0.02225 | 0.12202\n",
      "Thresholded at 0.05: \n",
      "\tCorrect (22) \t|\t\tIncorrect (14)\n",
      "\n",
      "Frame #800\t\tParent #95\t\tDistance to parent: d=0.2228\n",
      "*** Partial annotations available for 36 keypoints\n"
     ]
    },
    {
     "data": {
      "text/plain": "Tracking:   0%|          | 0/40 [00:00<?, ?epochs/s]",
      "application/vnd.jupyter.widget-view+json": {
       "version_major": 2,
       "version_minor": 0,
       "model_id": "8d9ab0d185e344178ae46143dafc30a2"
      }
     },
     "metadata": {},
     "output_type": "display_data"
    },
    {
     "name": "stdout",
     "output_type": "stream",
     "text": [
      "Mean diff between min and next min: \n",
      "\tCorrect (35): 0.03887 | 0.10752\n",
      "\tIncorrect (143): 0.02343 | 0.12464\n",
      "Thresholded at 0.05: \n",
      "\tCorrect (10) \t|\t\tIncorrect (20)\n",
      "\n",
      "Frame #806\t\tParent #95\t\tDistance to parent: d=0.3630\n",
      "*** Partial annotations available for 30 keypoints\n"
     ]
    },
    {
     "data": {
      "text/plain": "Tracking:   0%|          | 0/40 [00:00<?, ?epochs/s]",
      "application/vnd.jupyter.widget-view+json": {
       "version_major": 2,
       "version_minor": 0,
       "model_id": "513aa1786af244019f545e38fecd0431"
      }
     },
     "metadata": {},
     "output_type": "display_data"
    },
    {
     "name": "stdout",
     "output_type": "stream",
     "text": [
      "Mean diff between min and next min: \n",
      "\tCorrect (60): 0.05538 | 0.15921\n",
      "\tIncorrect (118): 0.02388 | 0.12040\n",
      "Thresholded at 0.05: \n",
      "\tCorrect (26) \t|\t\tIncorrect (14)\n",
      "\n",
      "Frame #881\t\tParent #95\t\tDistance to parent: d=0.1541\n",
      "*** Partial annotations available for 40 keypoints\n"
     ]
    },
    {
     "data": {
      "text/plain": "Tracking:   0%|          | 0/40 [00:00<?, ?epochs/s]",
      "application/vnd.jupyter.widget-view+json": {
       "version_major": 2,
       "version_minor": 0,
       "model_id": "b35ae19faad54c9e9eca4c62a57e1e4a"
      }
     },
     "metadata": {},
     "output_type": "display_data"
    },
    {
     "name": "stdout",
     "output_type": "stream",
     "text": [
      "Mean diff between min and next min: \n",
      "\tCorrect (87): 0.06538 | 0.17054\n",
      "\tIncorrect (91): 0.02461 | 0.09974\n",
      "Thresholded at 0.05: \n",
      "\tCorrect (56) \t|\t\tIncorrect (8)\n",
      "\n",
      "Frame #900\t\tParent #95\t\tDistance to parent: d=0.1301\n",
      "*** Partial annotations available for 64 keypoints\n"
     ]
    },
    {
     "data": {
      "text/plain": "Tracking:   0%|          | 0/40 [00:00<?, ?epochs/s]",
      "application/vnd.jupyter.widget-view+json": {
       "version_major": 2,
       "version_minor": 0,
       "model_id": "95f375a852894e038a0a074c20e2298b"
      }
     },
     "metadata": {},
     "output_type": "display_data"
    },
    {
     "name": "stdout",
     "output_type": "stream",
     "text": [
      "Mean diff between min and next min: \n",
      "\tCorrect (67): 0.06519 | 0.16828\n",
      "\tIncorrect (111): 0.02456 | 0.10413\n",
      "Thresholded at 0.05: \n",
      "\tCorrect (36) \t|\t\tIncorrect (13)\n",
      "\n",
      "Frame #1000\t\tParent #95\t\tDistance to parent: d=0.1416\n",
      "*** Partial annotations available for 49 keypoints\n"
     ]
    },
    {
     "data": {
      "text/plain": "Tracking:   0%|          | 0/40 [00:00<?, ?epochs/s]",
      "application/vnd.jupyter.widget-view+json": {
       "version_major": 2,
       "version_minor": 0,
       "model_id": "5492bb9735f64cb38b5d8247a4fe57cf"
      }
     },
     "metadata": {},
     "output_type": "display_data"
    },
    {
     "name": "stdout",
     "output_type": "stream",
     "text": [
      "Mean diff between min and next min: \n",
      "\tCorrect (74): 0.06238 | 0.17726\n",
      "\tIncorrect (104): 0.02137 | 0.10130\n",
      "Thresholded at 0.05: \n",
      "\tCorrect (41) \t|\t\tIncorrect (11)\n",
      "\n",
      "Frame #1038\t\tParent #95\t\tDistance to parent: d=0.1313\n",
      "*** Partial annotations available for 52 keypoints\n"
     ]
    },
    {
     "data": {
      "text/plain": "Tracking:   0%|          | 0/40 [00:00<?, ?epochs/s]",
      "application/vnd.jupyter.widget-view+json": {
       "version_major": 2,
       "version_minor": 0,
       "model_id": "a55d9adfa0e642edb605755f0cfc1aae"
      }
     },
     "metadata": {},
     "output_type": "display_data"
    },
    {
     "name": "stdout",
     "output_type": "stream",
     "text": [
      "Mean diff between min and next min: \n",
      "\tCorrect (96): 0.07579 | 0.21758\n",
      "\tIncorrect (82): 0.03121 | 0.12663\n",
      "Thresholded at 0.05: \n",
      "\tCorrect (62) \t|\t\tIncorrect (17)\n",
      "\n",
      "Frame #100\t\tParent #98\t\tDistance to parent: d=0.1104\n",
      "*** Partial annotations available for 79 keypoints\n"
     ]
    },
    {
     "data": {
      "text/plain": "Tracking:   0%|          | 0/40 [00:00<?, ?epochs/s]",
      "application/vnd.jupyter.widget-view+json": {
       "version_major": 2,
       "version_minor": 0,
       "model_id": "333b7f6d0a504d5d8767bddc136a552b"
      }
     },
     "metadata": {},
     "output_type": "display_data"
    },
    {
     "name": "stdout",
     "output_type": "stream",
     "text": [
      "Mean diff between min and next min: \n",
      "\tCorrect (83): 0.06403 | 0.20212\n",
      "\tIncorrect (95): 0.02808 | 0.11921\n",
      "Thresholded at 0.05: \n",
      "\tCorrect (47) \t|\t\tIncorrect (14)\n",
      "\n",
      "Frame #149\t\tParent #98\t\tDistance to parent: d=0.2747\n",
      "*** Partial annotations available for 61 keypoints\n"
     ]
    },
    {
     "data": {
      "text/plain": "Tracking:   0%|          | 0/40 [00:00<?, ?epochs/s]",
      "application/vnd.jupyter.widget-view+json": {
       "version_major": 2,
       "version_minor": 0,
       "model_id": "1850fe4c4cee4150a111fee14434867a"
      }
     },
     "metadata": {},
     "output_type": "display_data"
    },
    {
     "name": "stdout",
     "output_type": "stream",
     "text": [
      "Mean diff between min and next min: \n",
      "\tCorrect (99): 0.06155 | 0.17608\n",
      "\tIncorrect (79): 0.02155 | 0.07982\n",
      "Thresholded at 0.05: \n",
      "\tCorrect (59) \t|\t\tIncorrect (6)\n",
      "\n",
      "Frame #200\t\tParent #98\t\tDistance to parent: d=0.1418\n",
      "*** Partial annotations available for 65 keypoints\n"
     ]
    },
    {
     "data": {
      "text/plain": "Tracking:   0%|          | 0/40 [00:00<?, ?epochs/s]",
      "application/vnd.jupyter.widget-view+json": {
       "version_major": 2,
       "version_minor": 0,
       "model_id": "cd40ded466c54483aceb78caa91039a3"
      }
     },
     "metadata": {},
     "output_type": "display_data"
    },
    {
     "name": "stdout",
     "output_type": "stream",
     "text": [
      "Mean diff between min and next min: \n",
      "\tCorrect (34): 0.03193 | 0.10333\n",
      "\tIncorrect (144): 0.02114 | 0.14900\n",
      "Thresholded at 0.05: \n",
      "\tCorrect (7) \t|\t\tIncorrect (13)\n",
      "\n",
      "Frame #271\t\tParent #98\t\tDistance to parent: d=0.3602\n",
      "*** Partial annotations available for 20 keypoints\n"
     ]
    },
    {
     "data": {
      "text/plain": "Tracking:   0%|          | 0/40 [00:00<?, ?epochs/s]",
      "application/vnd.jupyter.widget-view+json": {
       "version_major": 2,
       "version_minor": 0,
       "model_id": "8287ba3ae46c479ea3ca2e1bbcdfa048"
      }
     },
     "metadata": {},
     "output_type": "display_data"
    },
    {
     "name": "stdout",
     "output_type": "stream",
     "text": [
      "Mean diff between min and next min: \n",
      "\tCorrect (95): 0.06494 | 0.21507\n",
      "\tIncorrect (83): 0.02322 | 0.12059\n",
      "Thresholded at 0.05: \n",
      "\tCorrect (49) \t|\t\tIncorrect (10)\n",
      "\n",
      "Frame #298\t\tParent #98\t\tDistance to parent: d=0.1632\n",
      "*** Partial annotations available for 59 keypoints\n"
     ]
    },
    {
     "data": {
      "text/plain": "Tracking:   0%|          | 0/40 [00:00<?, ?epochs/s]",
      "application/vnd.jupyter.widget-view+json": {
       "version_major": 2,
       "version_minor": 0,
       "model_id": "1548dd743309476696c812c9d3008fa5"
      }
     },
     "metadata": {},
     "output_type": "display_data"
    },
    {
     "name": "stdout",
     "output_type": "stream",
     "text": [
      "Mean diff between min and next min: \n",
      "\tCorrect (24): 0.02846 | 0.10784\n",
      "\tIncorrect (154): 0.02290 | 0.12877\n",
      "Thresholded at 0.05: \n",
      "\tCorrect (2) \t|\t\tIncorrect (15)\n",
      "\n",
      "Frame #389\t\tParent #98\t\tDistance to parent: d=0.6348\n",
      "*** Partial annotations available for 17 keypoints\n"
     ]
    },
    {
     "data": {
      "text/plain": "Tracking:   0%|          | 0/40 [00:00<?, ?epochs/s]",
      "application/vnd.jupyter.widget-view+json": {
       "version_major": 2,
       "version_minor": 0,
       "model_id": "0e7e7715ff7b451e8b78c7b5a376892f"
      }
     },
     "metadata": {},
     "output_type": "display_data"
    },
    {
     "name": "stdout",
     "output_type": "stream",
     "text": [
      "Mean diff between min and next min: \n",
      "\tCorrect (77): 0.06997 | 0.20962\n",
      "\tIncorrect (101): 0.03132 | 0.15566\n",
      "Thresholded at 0.05: \n",
      "\tCorrect (49) \t|\t\tIncorrect (20)\n",
      "\n",
      "Frame #400\t\tParent #98\t\tDistance to parent: d=0.4368\n",
      "*** Partial annotations available for 69 keypoints\n"
     ]
    },
    {
     "data": {
      "text/plain": "Tracking:   0%|          | 0/40 [00:00<?, ?epochs/s]",
      "application/vnd.jupyter.widget-view+json": {
       "version_major": 2,
       "version_minor": 0,
       "model_id": "5cf6a076662549f1be813cd73f3d0884"
      }
     },
     "metadata": {},
     "output_type": "display_data"
    },
    {
     "name": "stdout",
     "output_type": "stream",
     "text": [
      "Mean diff between min and next min: \n",
      "\tCorrect (50): 0.04550 | 0.16776\n",
      "\tIncorrect (128): 0.02208 | 0.09865\n",
      "Thresholded at 0.05: \n",
      "\tCorrect (19) \t|\t\tIncorrect (11)\n",
      "\n",
      "Frame #444\t\tParent #98\t\tDistance to parent: d=0.3121\n",
      "*** Partial annotations available for 30 keypoints\n"
     ]
    },
    {
     "data": {
      "text/plain": "Tracking:   0%|          | 0/40 [00:00<?, ?epochs/s]",
      "application/vnd.jupyter.widget-view+json": {
       "version_major": 2,
       "version_minor": 0,
       "model_id": "aa13726d52274ba18841e7bdbccaf2a6"
      }
     },
     "metadata": {},
     "output_type": "display_data"
    },
    {
     "name": "stdout",
     "output_type": "stream",
     "text": [
      "Mean diff between min and next min: \n",
      "\tCorrect (134): 0.07929 | 0.19014\n",
      "\tIncorrect (44): 0.02063 | 0.07196\n",
      "Thresholded at 0.05: \n",
      "\tCorrect (91) \t|\t\tIncorrect (3)\n",
      "\n",
      "Frame #463\t\tParent #98\t\tDistance to parent: d=0.0933\n",
      "*** Partial annotations available for 94 keypoints\n"
     ]
    },
    {
     "data": {
      "text/plain": "Tracking:   0%|          | 0/40 [00:00<?, ?epochs/s]",
      "application/vnd.jupyter.widget-view+json": {
       "version_major": 2,
       "version_minor": 0,
       "model_id": "0251b3d42c8840569ce3624579756faf"
      }
     },
     "metadata": {},
     "output_type": "display_data"
    },
    {
     "name": "stdout",
     "output_type": "stream",
     "text": [
      "Mean diff between min and next min: \n",
      "\tCorrect (89): 0.06008 | 0.14411\n",
      "\tIncorrect (89): 0.02565 | 0.11378\n",
      "Thresholded at 0.05: \n",
      "\tCorrect (54) \t|\t\tIncorrect (13)\n",
      "\n",
      "Frame #498\t\tParent #98\t\tDistance to parent: d=0.1239\n",
      "*** Partial annotations available for 67 keypoints\n"
     ]
    },
    {
     "data": {
      "text/plain": "Tracking:   0%|          | 0/40 [00:00<?, ?epochs/s]",
      "application/vnd.jupyter.widget-view+json": {
       "version_major": 2,
       "version_minor": 0,
       "model_id": "2d6aa24da9124532b82f943cac0a39b2"
      }
     },
     "metadata": {},
     "output_type": "display_data"
    },
    {
     "name": "stdout",
     "output_type": "stream",
     "text": [
      "Mean diff between min and next min: \n",
      "\tCorrect (92): 0.05980 | 0.15188\n",
      "\tIncorrect (86): 0.02688 | 0.12885\n",
      "Thresholded at 0.05: \n",
      "\tCorrect (49) \t|\t\tIncorrect (13)\n",
      "\n",
      "Frame #600\t\tParent #98\t\tDistance to parent: d=0.1132\n",
      "*** Partial annotations available for 62 keypoints\n"
     ]
    },
    {
     "data": {
      "text/plain": "Tracking:   0%|          | 0/40 [00:00<?, ?epochs/s]",
      "application/vnd.jupyter.widget-view+json": {
       "version_major": 2,
       "version_minor": 0,
       "model_id": "9943a30fe8754cafa1051d45a10bb757"
      }
     },
     "metadata": {},
     "output_type": "display_data"
    },
    {
     "name": "stdout",
     "output_type": "stream",
     "text": [
      "Mean diff between min and next min: \n",
      "\tCorrect (86): 0.05881 | 0.16527\n",
      "\tIncorrect (92): 0.02600 | 0.08426\n",
      "Thresholded at 0.05: \n",
      "\tCorrect (44) \t|\t\tIncorrect (10)\n",
      "\n",
      "Frame #640\t\tParent #98\t\tDistance to parent: d=0.1481\n",
      "*** Partial annotations available for 54 keypoints\n"
     ]
    },
    {
     "data": {
      "text/plain": "Tracking:   0%|          | 0/40 [00:00<?, ?epochs/s]",
      "application/vnd.jupyter.widget-view+json": {
       "version_major": 2,
       "version_minor": 0,
       "model_id": "2719fa0eb10543af9654ca052a645c5d"
      }
     },
     "metadata": {},
     "output_type": "display_data"
    },
    {
     "name": "stdout",
     "output_type": "stream",
     "text": [
      "Mean diff between min and next min: \n",
      "\tCorrect (32): 0.03788 | 0.11253\n",
      "\tIncorrect (146): 0.02359 | 0.12056\n",
      "Thresholded at 0.05: \n",
      "\tCorrect (6) \t|\t\tIncorrect (16)\n",
      "\n",
      "Frame #656\t\tParent #98\t\tDistance to parent: d=0.3231\n",
      "*** Partial annotations available for 22 keypoints\n"
     ]
    },
    {
     "data": {
      "text/plain": "Tracking:   0%|          | 0/40 [00:00<?, ?epochs/s]",
      "application/vnd.jupyter.widget-view+json": {
       "version_major": 2,
       "version_minor": 0,
       "model_id": "4f4794ab386b40958e7d80ee1a79a419"
      }
     },
     "metadata": {},
     "output_type": "display_data"
    },
    {
     "name": "stdout",
     "output_type": "stream",
     "text": [
      "Mean diff between min and next min: \n",
      "\tCorrect (79): 0.05440 | 0.14443\n",
      "\tIncorrect (99): 0.02449 | 0.12701\n",
      "Thresholded at 0.05: \n",
      "\tCorrect (35) \t|\t\tIncorrect (13)\n",
      "\n",
      "Frame #672\t\tParent #98\t\tDistance to parent: d=0.1924\n",
      "*** Partial annotations available for 48 keypoints\n"
     ]
    },
    {
     "data": {
      "text/plain": "Tracking:   0%|          | 0/40 [00:00<?, ?epochs/s]",
      "application/vnd.jupyter.widget-view+json": {
       "version_major": 2,
       "version_minor": 0,
       "model_id": "b31a84b950af44be9a5b026a52a1ab82"
      }
     },
     "metadata": {},
     "output_type": "display_data"
    },
    {
     "name": "stdout",
     "output_type": "stream",
     "text": [
      "Mean diff between min and next min: \n",
      "\tCorrect (23): 0.03788 | 0.08413\n",
      "\tIncorrect (155): 0.02003 | 0.11546\n",
      "Thresholded at 0.05: \n",
      "\tCorrect (5) \t|\t\tIncorrect (13)\n",
      "\n",
      "Frame #700\t\tParent #98\t\tDistance to parent: d=0.4029\n",
      "*** Partial annotations available for 18 keypoints\n"
     ]
    },
    {
     "data": {
      "text/plain": "Tracking:   0%|          | 0/40 [00:00<?, ?epochs/s]",
      "application/vnd.jupyter.widget-view+json": {
       "version_major": 2,
       "version_minor": 0,
       "model_id": "f72e853f160344438a5b6df5f2001b1b"
      }
     },
     "metadata": {},
     "output_type": "display_data"
    },
    {
     "name": "stdout",
     "output_type": "stream",
     "text": [
      "Mean diff between min and next min: \n",
      "\tCorrect (84): 0.04645 | 0.12402\n",
      "\tIncorrect (94): 0.03024 | 0.15967\n",
      "Thresholded at 0.05: \n",
      "\tCorrect (33) \t|\t\tIncorrect (20)\n",
      "\n",
      "Frame #764\t\tParent #98\t\tDistance to parent: d=0.1954\n",
      "*** Partial annotations available for 53 keypoints\n"
     ]
    },
    {
     "data": {
      "text/plain": "Tracking:   0%|          | 0/40 [00:00<?, ?epochs/s]",
      "application/vnd.jupyter.widget-view+json": {
       "version_major": 2,
       "version_minor": 0,
       "model_id": "a6214cb7f44445f59a6ef755373b0105"
      }
     },
     "metadata": {},
     "output_type": "display_data"
    },
    {
     "name": "stdout",
     "output_type": "stream",
     "text": [
      "Mean diff between min and next min: \n",
      "\tCorrect (49): 0.03688 | 0.12444\n",
      "\tIncorrect (129): 0.02587 | 0.11554\n",
      "Thresholded at 0.05: \n",
      "\tCorrect (14) \t|\t\tIncorrect (23)\n",
      "\n",
      "Frame #800\t\tParent #98\t\tDistance to parent: d=0.2054\n",
      "*** Partial annotations available for 37 keypoints\n"
     ]
    },
    {
     "data": {
      "text/plain": "Tracking:   0%|          | 0/40 [00:00<?, ?epochs/s]",
      "application/vnd.jupyter.widget-view+json": {
       "version_major": 2,
       "version_minor": 0,
       "model_id": "fe0bc0ef2f944701b5daa200f3b5ddc8"
      }
     },
     "metadata": {},
     "output_type": "display_data"
    },
    {
     "name": "stdout",
     "output_type": "stream",
     "text": [
      "Mean diff between min and next min: \n",
      "\tCorrect (32): 0.03549 | 0.10031\n",
      "\tIncorrect (146): 0.02395 | 0.10853\n",
      "Thresholded at 0.05: \n",
      "\tCorrect (10) \t|\t\tIncorrect (22)\n",
      "\n",
      "Frame #806\t\tParent #98\t\tDistance to parent: d=0.3470\n",
      "*** Partial annotations available for 32 keypoints\n"
     ]
    },
    {
     "data": {
      "text/plain": "Tracking:   0%|          | 0/40 [00:00<?, ?epochs/s]",
      "application/vnd.jupyter.widget-view+json": {
       "version_major": 2,
       "version_minor": 0,
       "model_id": "dd4b36906a564ab498627342fa2381ef"
      }
     },
     "metadata": {},
     "output_type": "display_data"
    },
    {
     "name": "stdout",
     "output_type": "stream",
     "text": [
      "Mean diff between min and next min: \n",
      "\tCorrect (50): 0.04829 | 0.14530\n",
      "\tIncorrect (128): 0.02316 | 0.11374\n",
      "Thresholded at 0.05: \n",
      "\tCorrect (25) \t|\t\tIncorrect (14)\n",
      "\n",
      "Frame #881\t\tParent #98\t\tDistance to parent: d=0.1610\n",
      "*** Partial annotations available for 39 keypoints\n"
     ]
    },
    {
     "data": {
      "text/plain": "Tracking:   0%|          | 0/40 [00:00<?, ?epochs/s]",
      "application/vnd.jupyter.widget-view+json": {
       "version_major": 2,
       "version_minor": 0,
       "model_id": "81df54ee424e4806bc887a5aaae5b626"
      }
     },
     "metadata": {},
     "output_type": "display_data"
    },
    {
     "name": "stdout",
     "output_type": "stream",
     "text": [
      "Mean diff between min and next min: \n",
      "\tCorrect (70): 0.04538 | 0.12486\n",
      "\tIncorrect (108): 0.02865 | 0.13059\n",
      "Thresholded at 0.05: \n",
      "\tCorrect (27) \t|\t\tIncorrect (18)\n",
      "\n",
      "Frame #900\t\tParent #98\t\tDistance to parent: d=0.1748\n",
      "*** Partial annotations available for 45 keypoints\n"
     ]
    },
    {
     "data": {
      "text/plain": "Tracking:   0%|          | 0/40 [00:00<?, ?epochs/s]",
      "application/vnd.jupyter.widget-view+json": {
       "version_major": 2,
       "version_minor": 0,
       "model_id": "c9de14172c094eecaad31da9a41169fe"
      }
     },
     "metadata": {},
     "output_type": "display_data"
    },
    {
     "name": "stdout",
     "output_type": "stream",
     "text": [
      "Mean diff between min and next min: \n",
      "\tCorrect (60): 0.05555 | 0.13685\n",
      "\tIncorrect (118): 0.02658 | 0.09240\n",
      "Thresholded at 0.05: \n",
      "\tCorrect (28) \t|\t\tIncorrect (18)\n",
      "\n",
      "Frame #1000\t\tParent #98\t\tDistance to parent: d=0.1563\n",
      "*** Partial annotations available for 46 keypoints\n"
     ]
    },
    {
     "data": {
      "text/plain": "Tracking:   0%|          | 0/40 [00:00<?, ?epochs/s]",
      "application/vnd.jupyter.widget-view+json": {
       "version_major": 2,
       "version_minor": 0,
       "model_id": "96b8156ddf9846d3a2607ac406b90f7a"
      }
     },
     "metadata": {},
     "output_type": "display_data"
    },
    {
     "name": "stdout",
     "output_type": "stream",
     "text": [
      "Mean diff between min and next min: \n",
      "\tCorrect (74): 0.04989 | 0.13302\n",
      "\tIncorrect (104): 0.02962 | 0.11920\n",
      "Thresholded at 0.05: \n",
      "\tCorrect (35) \t|\t\tIncorrect (18)\n",
      "\n",
      "Frame #1038\t\tParent #98\t\tDistance to parent: d=0.1625\n",
      "*** Partial annotations available for 53 keypoints\n"
     ]
    },
    {
     "data": {
      "text/plain": "Tracking:   0%|          | 0/40 [00:00<?, ?epochs/s]",
      "application/vnd.jupyter.widget-view+json": {
       "version_major": 2,
       "version_minor": 0,
       "model_id": "ed2d942c5aaf4971bf3d0502a2ddb19e"
      }
     },
     "metadata": {},
     "output_type": "display_data"
    },
    {
     "name": "stdout",
     "output_type": "stream",
     "text": [
      "Mean diff between min and next min: \n",
      "\tCorrect (101): 0.08010 | 0.21555\n",
      "\tIncorrect (77): 0.02713 | 0.17270\n",
      "Thresholded at 0.05: \n",
      "\tCorrect (69) \t|\t\tIncorrect (11)\n",
      "\n",
      "Frame #149\t\tParent #100\t\tDistance to parent: d=0.1559\n",
      "*** Partial annotations available for 80 keypoints\n"
     ]
    },
    {
     "data": {
      "text/plain": "Tracking:   0%|          | 0/40 [00:00<?, ?epochs/s]",
      "application/vnd.jupyter.widget-view+json": {
       "version_major": 2,
       "version_minor": 0,
       "model_id": "36369d807a8e430c8d2301c73c18c898"
      }
     },
     "metadata": {},
     "output_type": "display_data"
    },
    {
     "name": "stdout",
     "output_type": "stream",
     "text": [
      "Mean diff between min and next min: \n",
      "\tCorrect (57): 0.04023 | 0.10427\n",
      "\tIncorrect (121): 0.02343 | 0.10869\n",
      "Thresholded at 0.05: \n",
      "\tCorrect (18) \t|\t\tIncorrect (18)\n",
      "\n",
      "Frame #200\t\tParent #100\t\tDistance to parent: d=0.2550\n",
      "*** Partial annotations available for 36 keypoints\n"
     ]
    },
    {
     "data": {
      "text/plain": "Tracking:   0%|          | 0/40 [00:00<?, ?epochs/s]",
      "application/vnd.jupyter.widget-view+json": {
       "version_major": 2,
       "version_minor": 0,
       "model_id": "7259650f32e24b3daef94b39529226cc"
      }
     },
     "metadata": {},
     "output_type": "display_data"
    },
    {
     "name": "stdout",
     "output_type": "stream",
     "text": [
      "Mean diff between min and next min: \n",
      "\tCorrect (49): 0.04115 | 0.11374\n",
      "\tIncorrect (129): 0.01802 | 0.16812\n",
      "Thresholded at 0.05: \n",
      "\tCorrect (17) \t|\t\tIncorrect (6)\n",
      "\n",
      "Frame #271\t\tParent #100\t\tDistance to parent: d=0.2334\n",
      "*** Partial annotations available for 23 keypoints\n"
     ]
    },
    {
     "data": {
      "text/plain": "Tracking:   0%|          | 0/40 [00:00<?, ?epochs/s]",
      "application/vnd.jupyter.widget-view+json": {
       "version_major": 2,
       "version_minor": 0,
       "model_id": "388bac2312f5402bb20959dfb11a375c"
      }
     },
     "metadata": {},
     "output_type": "display_data"
    },
    {
     "name": "stdout",
     "output_type": "stream",
     "text": [
      "Mean diff between min and next min: \n",
      "\tCorrect (53): 0.03906 | 0.13578\n",
      "\tIncorrect (125): 0.01961 | 0.11279\n",
      "Thresholded at 0.05: \n",
      "\tCorrect (17) \t|\t\tIncorrect (11)\n",
      "\n",
      "Frame #298\t\tParent #100\t\tDistance to parent: d=0.2612\n",
      "*** Partial annotations available for 28 keypoints\n"
     ]
    },
    {
     "data": {
      "text/plain": "Tracking:   0%|          | 0/40 [00:00<?, ?epochs/s]",
      "application/vnd.jupyter.widget-view+json": {
       "version_major": 2,
       "version_minor": 0,
       "model_id": "90081947ad2f47f0800780a418a1bf7e"
      }
     },
     "metadata": {},
     "output_type": "display_data"
    },
    {
     "name": "stdout",
     "output_type": "stream",
     "text": [
      "Mean diff between min and next min: \n",
      "\tCorrect (27): 0.04273 | 0.12072\n",
      "\tIncorrect (151): 0.02370 | 0.13422\n",
      "Thresholded at 0.05: \n",
      "\tCorrect (8) \t|\t\tIncorrect (17)\n",
      "\n",
      "Frame #389\t\tParent #100\t\tDistance to parent: d=0.5786\n",
      "*** Partial annotations available for 25 keypoints\n"
     ]
    },
    {
     "data": {
      "text/plain": "Tracking:   0%|          | 0/40 [00:00<?, ?epochs/s]",
      "application/vnd.jupyter.widget-view+json": {
       "version_major": 2,
       "version_minor": 0,
       "model_id": "d4733a22e696402b9dbffb818767956a"
      }
     },
     "metadata": {},
     "output_type": "display_data"
    },
    {
     "name": "stdout",
     "output_type": "stream",
     "text": [
      "Mean diff between min and next min: \n",
      "\tCorrect (50): 0.05659 | 0.13488\n",
      "\tIncorrect (128): 0.02547 | 0.14485\n",
      "Thresholded at 0.05: \n",
      "\tCorrect (23) \t|\t\tIncorrect (13)\n",
      "\n",
      "Frame #400\t\tParent #100\t\tDistance to parent: d=0.5108\n",
      "*** Partial annotations available for 36 keypoints\n"
     ]
    },
    {
     "data": {
      "text/plain": "Tracking:   0%|          | 0/40 [00:00<?, ?epochs/s]",
      "application/vnd.jupyter.widget-view+json": {
       "version_major": 2,
       "version_minor": 0,
       "model_id": "6662e702ab44430a999b4e63e36ede82"
      }
     },
     "metadata": {},
     "output_type": "display_data"
    },
    {
     "name": "stdout",
     "output_type": "stream",
     "text": [
      "Mean diff between min and next min: \n",
      "\tCorrect (84): 0.05291 | 0.19257\n",
      "\tIncorrect (94): 0.01968 | 0.14073\n",
      "Thresholded at 0.05: \n",
      "\tCorrect (37) \t|\t\tIncorrect (6)\n",
      "\n",
      "Frame #444\t\tParent #100\t\tDistance to parent: d=0.2029\n",
      "*** Partial annotations available for 43 keypoints\n"
     ]
    },
    {
     "data": {
      "text/plain": "Tracking:   0%|          | 0/40 [00:00<?, ?epochs/s]",
      "application/vnd.jupyter.widget-view+json": {
       "version_major": 2,
       "version_minor": 0,
       "model_id": "da2a28be9b1544b09e8206b6ca742550"
      }
     },
     "metadata": {},
     "output_type": "display_data"
    },
    {
     "name": "stdout",
     "output_type": "stream",
     "text": [
      "Mean diff between min and next min: \n",
      "\tCorrect (86): 0.05591 | 0.14731\n",
      "\tIncorrect (92): 0.02453 | 0.14373\n",
      "Thresholded at 0.05: \n",
      "\tCorrect (44) \t|\t\tIncorrect (12)\n",
      "\n",
      "Frame #463\t\tParent #100\t\tDistance to parent: d=0.1874\n",
      "*** Partial annotations available for 56 keypoints\n"
     ]
    },
    {
     "data": {
      "text/plain": "Tracking:   0%|          | 0/40 [00:00<?, ?epochs/s]",
      "application/vnd.jupyter.widget-view+json": {
       "version_major": 2,
       "version_minor": 0,
       "model_id": "bcd6245a4993402bafa952358e49a5b0"
      }
     },
     "metadata": {},
     "output_type": "display_data"
    },
    {
     "name": "stdout",
     "output_type": "stream",
     "text": [
      "Mean diff between min and next min: \n",
      "\tCorrect (88): 0.05922 | 0.16773\n",
      "\tIncorrect (90): 0.02333 | 0.09659\n",
      "Thresholded at 0.05: \n",
      "\tCorrect (48) \t|\t\tIncorrect (11)\n",
      "\n",
      "Frame #498\t\tParent #100\t\tDistance to parent: d=0.1206\n",
      "*** Partial annotations available for 59 keypoints\n"
     ]
    },
    {
     "data": {
      "text/plain": "Tracking:   0%|          | 0/40 [00:00<?, ?epochs/s]",
      "application/vnd.jupyter.widget-view+json": {
       "version_major": 2,
       "version_minor": 0,
       "model_id": "82f16b7a55d34ad2a9ff8096c3abd207"
      }
     },
     "metadata": {},
     "output_type": "display_data"
    },
    {
     "name": "stdout",
     "output_type": "stream",
     "text": [
      "Mean diff between min and next min: \n",
      "\tCorrect (87): 0.05685 | 0.18237\n",
      "\tIncorrect (91): 0.02741 | 0.11269\n",
      "Thresholded at 0.05: \n",
      "\tCorrect (41) \t|\t\tIncorrect (13)\n",
      "\n",
      "Frame #600\t\tParent #100\t\tDistance to parent: d=0.1266\n",
      "*** Partial annotations available for 54 keypoints\n"
     ]
    },
    {
     "data": {
      "text/plain": "Tracking:   0%|          | 0/40 [00:00<?, ?epochs/s]",
      "application/vnd.jupyter.widget-view+json": {
       "version_major": 2,
       "version_minor": 0,
       "model_id": "e3e5b19fc3ae478295895fac5d60fa93"
      }
     },
     "metadata": {},
     "output_type": "display_data"
    },
    {
     "name": "stdout",
     "output_type": "stream",
     "text": [
      "Mean diff between min and next min: \n",
      "\tCorrect (84): 0.05454 | 0.19052\n",
      "\tIncorrect (94): 0.02557 | 0.10486\n",
      "Thresholded at 0.05: \n",
      "\tCorrect (36) \t|\t\tIncorrect (13)\n",
      "\n",
      "Frame #640\t\tParent #100\t\tDistance to parent: d=0.1146\n",
      "*** Partial annotations available for 49 keypoints\n"
     ]
    },
    {
     "data": {
      "text/plain": "Tracking:   0%|          | 0/40 [00:00<?, ?epochs/s]",
      "application/vnd.jupyter.widget-view+json": {
       "version_major": 2,
       "version_minor": 0,
       "model_id": "787b60be3b664a2ca9a0ca6e973235a2"
      }
     },
     "metadata": {},
     "output_type": "display_data"
    },
    {
     "name": "stdout",
     "output_type": "stream",
     "text": [
      "Mean diff between min and next min: \n",
      "\tCorrect (36): 0.03799 | 0.15272\n",
      "\tIncorrect (142): 0.02387 | 0.11662\n",
      "Thresholded at 0.05: \n",
      "\tCorrect (11) \t|\t\tIncorrect (20)\n",
      "\n",
      "Frame #656\t\tParent #100\t\tDistance to parent: d=0.1971\n",
      "*** Partial annotations available for 31 keypoints\n"
     ]
    },
    {
     "data": {
      "text/plain": "Tracking:   0%|          | 0/40 [00:00<?, ?epochs/s]",
      "application/vnd.jupyter.widget-view+json": {
       "version_major": 2,
       "version_minor": 0,
       "model_id": "2ead8a87c1c14b2c886631e78ad9de51"
      }
     },
     "metadata": {},
     "output_type": "display_data"
    },
    {
     "name": "stdout",
     "output_type": "stream",
     "text": [
      "Mean diff between min and next min: \n",
      "\tCorrect (47): 0.04361 | 0.11930\n",
      "\tIncorrect (131): 0.01852 | 0.07926\n",
      "Thresholded at 0.05: \n",
      "\tCorrect (18) \t|\t\tIncorrect (10)\n",
      "\n",
      "Frame #672\t\tParent #100\t\tDistance to parent: d=0.2776\n",
      "*** Partial annotations available for 28 keypoints\n"
     ]
    },
    {
     "data": {
      "text/plain": "Tracking:   0%|          | 0/40 [00:00<?, ?epochs/s]",
      "application/vnd.jupyter.widget-view+json": {
       "version_major": 2,
       "version_minor": 0,
       "model_id": "5ce1061ed2c44def9a24bb096fd49b73"
      }
     },
     "metadata": {},
     "output_type": "display_data"
    },
    {
     "name": "stdout",
     "output_type": "stream",
     "text": [
      "Mean diff between min and next min: \n",
      "\tCorrect (38): 0.03431 | 0.11223\n",
      "\tIncorrect (140): 0.01894 | 0.07282\n",
      "Thresholded at 0.05: \n",
      "\tCorrect (10) \t|\t\tIncorrect (7)\n",
      "\n",
      "Frame #700\t\tParent #100\t\tDistance to parent: d=0.2560\n",
      "*** Partial annotations available for 17 keypoints\n"
     ]
    },
    {
     "data": {
      "text/plain": "Tracking:   0%|          | 0/40 [00:00<?, ?epochs/s]",
      "application/vnd.jupyter.widget-view+json": {
       "version_major": 2,
       "version_minor": 0,
       "model_id": "64d1194b0cf2486e8d29c4b0173c2696"
      }
     },
     "metadata": {},
     "output_type": "display_data"
    },
    {
     "name": "stdout",
     "output_type": "stream",
     "text": [
      "Mean diff between min and next min: \n",
      "\tCorrect (44): 0.04393 | 0.12759\n",
      "\tIncorrect (134): 0.02414 | 0.08448\n",
      "Thresholded at 0.05: \n",
      "\tCorrect (17) \t|\t\tIncorrect (15)\n",
      "\n",
      "Frame #764\t\tParent #100\t\tDistance to parent: d=0.2945\n",
      "*** Partial annotations available for 32 keypoints\n"
     ]
    },
    {
     "data": {
      "text/plain": "Tracking:   0%|          | 0/40 [00:00<?, ?epochs/s]",
      "application/vnd.jupyter.widget-view+json": {
       "version_major": 2,
       "version_minor": 0,
       "model_id": "80a6a03414d449f59e6cd0d26202cf3d"
      }
     },
     "metadata": {},
     "output_type": "display_data"
    },
    {
     "name": "stdout",
     "output_type": "stream",
     "text": [
      "Mean diff between min and next min: \n",
      "\tCorrect (67): 0.04268 | 0.13629\n",
      "\tIncorrect (111): 0.02606 | 0.10629\n",
      "Thresholded at 0.05: \n",
      "\tCorrect (23) \t|\t\tIncorrect (17)\n",
      "\n",
      "Frame #800\t\tParent #100\t\tDistance to parent: d=0.1423\n",
      "*** Partial annotations available for 40 keypoints\n"
     ]
    },
    {
     "data": {
      "text/plain": "Tracking:   0%|          | 0/40 [00:00<?, ?epochs/s]",
      "application/vnd.jupyter.widget-view+json": {
       "version_major": 2,
       "version_minor": 0,
       "model_id": "1105158d6dbe459da8a62da77d92622d"
      }
     },
     "metadata": {},
     "output_type": "display_data"
    },
    {
     "name": "stdout",
     "output_type": "stream",
     "text": [
      "Mean diff between min and next min: \n",
      "\tCorrect (51): 0.03763 | 0.09723\n",
      "\tIncorrect (127): 0.02396 | 0.11643\n",
      "Thresholded at 0.05: \n",
      "\tCorrect (14) \t|\t\tIncorrect (15)\n",
      "\n",
      "Frame #806\t\tParent #100\t\tDistance to parent: d=0.2111\n",
      "*** Partial annotations available for 29 keypoints\n"
     ]
    },
    {
     "data": {
      "text/plain": "Tracking:   0%|          | 0/40 [00:00<?, ?epochs/s]",
      "application/vnd.jupyter.widget-view+json": {
       "version_major": 2,
       "version_minor": 0,
       "model_id": "fffbabe923ab407ba7cc2def445a8c73"
      }
     },
     "metadata": {},
     "output_type": "display_data"
    },
    {
     "name": "stdout",
     "output_type": "stream",
     "text": [
      "Mean diff between min and next min: \n",
      "\tCorrect (49): 0.05732 | 0.14904\n",
      "\tIncorrect (129): 0.02210 | 0.11767\n",
      "Thresholded at 0.05: \n",
      "\tCorrect (26) \t|\t\tIncorrect (11)\n",
      "\n",
      "Frame #881\t\tParent #100\t\tDistance to parent: d=0.1814\n",
      "*** Partial annotations available for 37 keypoints\n"
     ]
    },
    {
     "data": {
      "text/plain": "Tracking:   0%|          | 0/40 [00:00<?, ?epochs/s]",
      "application/vnd.jupyter.widget-view+json": {
       "version_major": 2,
       "version_minor": 0,
       "model_id": "efdfc90d7f504cbcb0afe859d8f25355"
      }
     },
     "metadata": {},
     "output_type": "display_data"
    },
    {
     "name": "stdout",
     "output_type": "stream",
     "text": [
      "Mean diff between min and next min: \n",
      "\tCorrect (43): 0.04687 | 0.12904\n",
      "\tIncorrect (135): 0.02215 | 0.10630\n",
      "Thresholded at 0.05: \n",
      "\tCorrect (17) \t|\t\tIncorrect (16)\n",
      "\n",
      "Frame #900\t\tParent #100\t\tDistance to parent: d=0.2466\n",
      "*** Partial annotations available for 33 keypoints\n"
     ]
    },
    {
     "data": {
      "text/plain": "Tracking:   0%|          | 0/40 [00:00<?, ?epochs/s]",
      "application/vnd.jupyter.widget-view+json": {
       "version_major": 2,
       "version_minor": 0,
       "model_id": "c64aadce8aa841588636786a81ff7063"
      }
     },
     "metadata": {},
     "output_type": "display_data"
    },
    {
     "name": "stdout",
     "output_type": "stream",
     "text": [
      "Mean diff between min and next min: \n",
      "\tCorrect (51): 0.05132 | 0.13954\n",
      "\tIncorrect (127): 0.02541 | 0.13223\n",
      "Thresholded at 0.05: \n",
      "\tCorrect (22) \t|\t\tIncorrect (19)\n",
      "\n",
      "Frame #1000\t\tParent #100\t\tDistance to parent: d=0.1933\n",
      "*** Partial annotations available for 41 keypoints\n"
     ]
    },
    {
     "data": {
      "text/plain": "Tracking:   0%|          | 0/40 [00:00<?, ?epochs/s]",
      "application/vnd.jupyter.widget-view+json": {
       "version_major": 2,
       "version_minor": 0,
       "model_id": "9a1eca7cf48e4c6eb07d370177772671"
      }
     },
     "metadata": {},
     "output_type": "display_data"
    },
    {
     "name": "stdout",
     "output_type": "stream",
     "text": [
      "Mean diff between min and next min: \n",
      "\tCorrect (51): 0.04350 | 0.12076\n",
      "\tIncorrect (127): 0.02320 | 0.10299\n",
      "Thresholded at 0.05: \n",
      "\tCorrect (19) \t|\t\tIncorrect (17)\n",
      "\n",
      "Frame #1038\t\tParent #100\t\tDistance to parent: d=0.2082\n",
      "*** Partial annotations available for 36 keypoints\n"
     ]
    },
    {
     "data": {
      "text/plain": "Tracking:   0%|          | 0/40 [00:00<?, ?epochs/s]",
      "application/vnd.jupyter.widget-view+json": {
       "version_major": 2,
       "version_minor": 0,
       "model_id": "516d86ea55914b9aa1ea49d58984672d"
      }
     },
     "metadata": {},
     "output_type": "display_data"
    },
    {
     "name": "stdout",
     "output_type": "stream",
     "text": [
      "Mean diff between min and next min: \n",
      "\tCorrect (48): 0.05023 | 0.11327\n",
      "\tIncorrect (130): 0.02213 | 0.12885\n",
      "Thresholded at 0.05: \n",
      "\tCorrect (23) \t|\t\tIncorrect (12)\n",
      "\n",
      "Frame #200\t\tParent #149\t\tDistance to parent: d=0.4200\n",
      "*** Partial annotations available for 35 keypoints\n"
     ]
    },
    {
     "data": {
      "text/plain": "Tracking:   0%|          | 0/40 [00:00<?, ?epochs/s]",
      "application/vnd.jupyter.widget-view+json": {
       "version_major": 2,
       "version_minor": 0,
       "model_id": "c74e1fc1b9fc4d138be6188d24abe060"
      }
     },
     "metadata": {},
     "output_type": "display_data"
    },
    {
     "name": "stdout",
     "output_type": "stream",
     "text": [
      "Mean diff between min and next min: \n",
      "\tCorrect (103): 0.05740 | 0.22526\n",
      "\tIncorrect (75): 0.02398 | 0.18790\n",
      "Thresholded at 0.05: \n",
      "\tCorrect (56) \t|\t\tIncorrect (8)\n",
      "\n",
      "Frame #271\t\tParent #149\t\tDistance to parent: d=0.1838\n",
      "*** Partial annotations available for 64 keypoints\n"
     ]
    },
    {
     "data": {
      "text/plain": "Tracking:   0%|          | 0/40 [00:00<?, ?epochs/s]",
      "application/vnd.jupyter.widget-view+json": {
       "version_major": 2,
       "version_minor": 0,
       "model_id": "e73f22ea51d44a369c79f19edebc2c26"
      }
     },
     "metadata": {},
     "output_type": "display_data"
    },
    {
     "name": "stdout",
     "output_type": "stream",
     "text": [
      "Mean diff between min and next min: \n",
      "\tCorrect (39): 0.03815 | 0.10043\n",
      "\tIncorrect (139): 0.01868 | 0.09990\n",
      "Thresholded at 0.05: \n",
      "\tCorrect (9) \t|\t\tIncorrect (9)\n",
      "\n",
      "Frame #298\t\tParent #149\t\tDistance to parent: d=0.4399\n",
      "*** Partial annotations available for 18 keypoints\n"
     ]
    },
    {
     "data": {
      "text/plain": "Tracking:   0%|          | 0/40 [00:00<?, ?epochs/s]",
      "application/vnd.jupyter.widget-view+json": {
       "version_major": 2,
       "version_minor": 0,
       "model_id": "261fec602a084be488e1e3af7d4513df"
      }
     },
     "metadata": {},
     "output_type": "display_data"
    },
    {
     "name": "stdout",
     "output_type": "stream",
     "text": [
      "Mean diff between min and next min: \n",
      "\tCorrect (35): 0.05110 | 0.16742\n",
      "\tIncorrect (143): 0.02026 | 0.13138\n",
      "Thresholded at 0.05: \n",
      "\tCorrect (13) \t|\t\tIncorrect (12)\n",
      "\n",
      "Frame #389\t\tParent #149\t\tDistance to parent: d=0.5406\n",
      "*** Partial annotations available for 25 keypoints\n"
     ]
    },
    {
     "data": {
      "text/plain": "Tracking:   0%|          | 0/40 [00:00<?, ?epochs/s]",
      "application/vnd.jupyter.widget-view+json": {
       "version_major": 2,
       "version_minor": 0,
       "model_id": "db8d0f9e7f9b4275a8f10ddda2d77e17"
      }
     },
     "metadata": {},
     "output_type": "display_data"
    },
    {
     "name": "stdout",
     "output_type": "stream",
     "text": [
      "Mean diff between min and next min: \n",
      "\tCorrect (29): 0.04622 | 0.12001\n",
      "\tIncorrect (149): 0.02268 | 0.11702\n",
      "Thresholded at 0.05: \n",
      "\tCorrect (12) \t|\t\tIncorrect (11)\n",
      "\n",
      "Frame #400\t\tParent #149\t\tDistance to parent: d=0.6061\n",
      "*** Partial annotations available for 23 keypoints\n"
     ]
    },
    {
     "data": {
      "text/plain": "Tracking:   0%|          | 0/40 [00:00<?, ?epochs/s]",
      "application/vnd.jupyter.widget-view+json": {
       "version_major": 2,
       "version_minor": 0,
       "model_id": "aafd002bb8b145e6b7aed369e1b738de"
      }
     },
     "metadata": {},
     "output_type": "display_data"
    },
    {
     "name": "stdout",
     "output_type": "stream",
     "text": [
      "Mean diff between min and next min: \n",
      "\tCorrect (155): 0.09946 | 0.28098\n",
      "\tIncorrect (23): 0.04468 | 0.25138\n",
      "Thresholded at 0.05: \n",
      "\tCorrect (131) \t|\t\tIncorrect (6)\n",
      "\n",
      "Frame #444\t\tParent #149\t\tDistance to parent: d=0.0416\n",
      "*** Partial annotations available for 137 keypoints\n"
     ]
    },
    {
     "data": {
      "text/plain": "Tracking:   0%|          | 0/40 [00:00<?, ?epochs/s]",
      "application/vnd.jupyter.widget-view+json": {
       "version_major": 2,
       "version_minor": 0,
       "model_id": "f1f995fc7fc543a28091bc38cdf760ee"
      }
     },
     "metadata": {},
     "output_type": "display_data"
    },
    {
     "name": "stdout",
     "output_type": "stream",
     "text": [
      "Mean diff between min and next min: \n",
      "\tCorrect (61): 0.05738 | 0.13726\n",
      "\tIncorrect (117): 0.02404 | 0.11664\n",
      "Thresholded at 0.05: \n",
      "\tCorrect (29) \t|\t\tIncorrect (14)\n",
      "\n",
      "Frame #463\t\tParent #149\t\tDistance to parent: d=0.3668\n",
      "*** Partial annotations available for 43 keypoints\n"
     ]
    },
    {
     "data": {
      "text/plain": "Tracking:   0%|          | 0/40 [00:00<?, ?epochs/s]",
      "application/vnd.jupyter.widget-view+json": {
       "version_major": 2,
       "version_minor": 0,
       "model_id": "ee3f96dc9978455887c85ddd15f04b96"
      }
     },
     "metadata": {},
     "output_type": "display_data"
    },
    {
     "name": "stdout",
     "output_type": "stream",
     "text": [
      "Mean diff between min and next min: \n",
      "\tCorrect (81): 0.05700 | 0.14942\n",
      "\tIncorrect (97): 0.02437 | 0.08862\n",
      "Thresholded at 0.05: \n",
      "\tCorrect (45) \t|\t\tIncorrect (13)\n",
      "\n",
      "Frame #498\t\tParent #149\t\tDistance to parent: d=0.3064\n",
      "*** Partial annotations available for 58 keypoints\n"
     ]
    },
    {
     "data": {
      "text/plain": "Tracking:   0%|          | 0/40 [00:00<?, ?epochs/s]",
      "application/vnd.jupyter.widget-view+json": {
       "version_major": 2,
       "version_minor": 0,
       "model_id": "dc2391dfa3f440a988e10e766a67cc3c"
      }
     },
     "metadata": {},
     "output_type": "display_data"
    },
    {
     "name": "stdout",
     "output_type": "stream",
     "text": [
      "Mean diff between min and next min: \n",
      "\tCorrect (74): 0.05860 | 0.18026\n",
      "\tIncorrect (104): 0.02276 | 0.09478\n",
      "Thresholded at 0.05: \n",
      "\tCorrect (41) \t|\t\tIncorrect (11)\n",
      "\n",
      "Frame #600\t\tParent #149\t\tDistance to parent: d=0.3104\n",
      "*** Partial annotations available for 52 keypoints\n"
     ]
    },
    {
     "data": {
      "text/plain": "Tracking:   0%|          | 0/40 [00:00<?, ?epochs/s]",
      "application/vnd.jupyter.widget-view+json": {
       "version_major": 2,
       "version_minor": 0,
       "model_id": "b9a8215d0d6b4445afac980093e2d8f6"
      }
     },
     "metadata": {},
     "output_type": "display_data"
    },
    {
     "name": "stdout",
     "output_type": "stream",
     "text": [
      "Mean diff between min and next min: \n",
      "\tCorrect (82): 0.06082 | 0.20751\n",
      "\tIncorrect (96): 0.02000 | 0.07039\n",
      "Thresholded at 0.05: \n",
      "\tCorrect (37) \t|\t\tIncorrect (11)\n",
      "\n",
      "Frame #640\t\tParent #149\t\tDistance to parent: d=0.2909\n",
      "*** Partial annotations available for 48 keypoints\n"
     ]
    },
    {
     "data": {
      "text/plain": "Tracking:   0%|          | 0/40 [00:00<?, ?epochs/s]",
      "application/vnd.jupyter.widget-view+json": {
       "version_major": 2,
       "version_minor": 0,
       "model_id": "b35b6124c0f14414926d13dee37f509f"
      }
     },
     "metadata": {},
     "output_type": "display_data"
    },
    {
     "name": "stdout",
     "output_type": "stream",
     "text": [
      "Mean diff between min and next min: \n",
      "\tCorrect (69): 0.04912 | 0.19249\n",
      "\tIncorrect (109): 0.02512 | 0.13422\n",
      "Thresholded at 0.05: \n",
      "\tCorrect (28) \t|\t\tIncorrect (14)\n",
      "\n",
      "Frame #656\t\tParent #149\t\tDistance to parent: d=0.1388\n",
      "*** Partial annotations available for 42 keypoints\n"
     ]
    },
    {
     "data": {
      "text/plain": "Tracking:   0%|          | 0/40 [00:00<?, ?epochs/s]",
      "application/vnd.jupyter.widget-view+json": {
       "version_major": 2,
       "version_minor": 0,
       "model_id": "2634a00bad38436692bd6913d5bfb610"
      }
     },
     "metadata": {},
     "output_type": "display_data"
    },
    {
     "name": "stdout",
     "output_type": "stream",
     "text": [
      "Mean diff between min and next min: \n",
      "\tCorrect (34): 0.03951 | 0.12508\n",
      "\tIncorrect (144): 0.02014 | 0.07581\n",
      "Thresholded at 0.05: \n",
      "\tCorrect (9) \t|\t\tIncorrect (8)\n",
      "\n",
      "Frame #672\t\tParent #149\t\tDistance to parent: d=0.4263\n",
      "*** Partial annotations available for 17 keypoints\n"
     ]
    },
    {
     "data": {
      "text/plain": "Tracking:   0%|          | 0/40 [00:00<?, ?epochs/s]",
      "application/vnd.jupyter.widget-view+json": {
       "version_major": 2,
       "version_minor": 0,
       "model_id": "b7d0338d832c48f69a31dfb7013ff134"
      }
     },
     "metadata": {},
     "output_type": "display_data"
    },
    {
     "name": "stdout",
     "output_type": "stream",
     "text": [
      "Mean diff between min and next min: \n",
      "\tCorrect (89): 0.05179 | 0.16259\n",
      "\tIncorrect (89): 0.02119 | 0.10384\n",
      "Thresholded at 0.05: \n",
      "\tCorrect (42) \t|\t\tIncorrect (6)\n",
      "\n",
      "Frame #700\t\tParent #149\t\tDistance to parent: d=0.1207\n",
      "*** Partial annotations available for 48 keypoints\n"
     ]
    },
    {
     "data": {
      "text/plain": "Tracking:   0%|          | 0/40 [00:00<?, ?epochs/s]",
      "application/vnd.jupyter.widget-view+json": {
       "version_major": 2,
       "version_minor": 0,
       "model_id": "8687aec42c8d4b239b72d12d2cd5a903"
      }
     },
     "metadata": {},
     "output_type": "display_data"
    },
    {
     "name": "stdout",
     "output_type": "stream",
     "text": [
      "Mean diff between min and next min: \n",
      "\tCorrect (28): 0.04900 | 0.12855\n",
      "\tIncorrect (150): 0.02201 | 0.12117\n",
      "Thresholded at 0.05: \n",
      "\tCorrect (15) \t|\t\tIncorrect (15)\n",
      "\n",
      "Frame #764\t\tParent #149\t\tDistance to parent: d=0.4323\n",
      "*** Partial annotations available for 30 keypoints\n"
     ]
    },
    {
     "data": {
      "text/plain": "Tracking:   0%|          | 0/40 [00:00<?, ?epochs/s]",
      "application/vnd.jupyter.widget-view+json": {
       "version_major": 2,
       "version_minor": 0,
       "model_id": "ffcb700c47fa4b128d15daa445bf9e09"
      }
     },
     "metadata": {},
     "output_type": "display_data"
    },
    {
     "name": "stdout",
     "output_type": "stream",
     "text": [
      "Mean diff between min and next min: \n",
      "\tCorrect (66): 0.05046 | 0.18236\n",
      "\tIncorrect (112): 0.02556 | 0.16018\n",
      "Thresholded at 0.05: \n",
      "\tCorrect (29) \t|\t\tIncorrect (18)\n",
      "\n",
      "Frame #800\t\tParent #149\t\tDistance to parent: d=0.2560\n",
      "*** Partial annotations available for 47 keypoints\n"
     ]
    },
    {
     "data": {
      "text/plain": "Tracking:   0%|          | 0/40 [00:00<?, ?epochs/s]",
      "application/vnd.jupyter.widget-view+json": {
       "version_major": 2,
       "version_minor": 0,
       "model_id": "71715aed5ecc46b1a94db88d7ea527b9"
      }
     },
     "metadata": {},
     "output_type": "display_data"
    },
    {
     "name": "stdout",
     "output_type": "stream",
     "text": [
      "Mean diff between min and next min: \n",
      "\tCorrect (92): 0.05712 | 0.17115\n",
      "\tIncorrect (86): 0.02301 | 0.17176\n",
      "Thresholded at 0.05: \n",
      "\tCorrect (45) \t|\t\tIncorrect (9)\n",
      "\n",
      "Frame #806\t\tParent #149\t\tDistance to parent: d=0.1326\n",
      "*** Partial annotations available for 54 keypoints\n"
     ]
    },
    {
     "data": {
      "text/plain": "Tracking:   0%|          | 0/40 [00:00<?, ?epochs/s]",
      "application/vnd.jupyter.widget-view+json": {
       "version_major": 2,
       "version_minor": 0,
       "model_id": "c0635a1b6372446186744b67d8116422"
      }
     },
     "metadata": {},
     "output_type": "display_data"
    },
    {
     "name": "stdout",
     "output_type": "stream",
     "text": [
      "Mean diff between min and next min: \n",
      "\tCorrect (45): 0.05455 | 0.17451\n",
      "\tIncorrect (133): 0.02370 | 0.10664\n",
      "Thresholded at 0.05: \n",
      "\tCorrect (22) \t|\t\tIncorrect (17)\n",
      "\n",
      "Frame #881\t\tParent #149\t\tDistance to parent: d=0.3611\n",
      "*** Partial annotations available for 39 keypoints\n"
     ]
    },
    {
     "data": {
      "text/plain": "Tracking:   0%|          | 0/40 [00:00<?, ?epochs/s]",
      "application/vnd.jupyter.widget-view+json": {
       "version_major": 2,
       "version_minor": 0,
       "model_id": "adaddee391b546ea9f5e00b4f470f323"
      }
     },
     "metadata": {},
     "output_type": "display_data"
    },
    {
     "name": "stdout",
     "output_type": "stream",
     "text": [
      "Mean diff between min and next min: \n",
      "\tCorrect (33): 0.04723 | 0.14262\n",
      "\tIncorrect (145): 0.02052 | 0.12223\n",
      "Thresholded at 0.05: \n",
      "\tCorrect (16) \t|\t\tIncorrect (12)\n",
      "\n",
      "Frame #900\t\tParent #149\t\tDistance to parent: d=0.4027\n",
      "*** Partial annotations available for 28 keypoints\n"
     ]
    },
    {
     "data": {
      "text/plain": "Tracking:   0%|          | 0/40 [00:00<?, ?epochs/s]",
      "application/vnd.jupyter.widget-view+json": {
       "version_major": 2,
       "version_minor": 0,
       "model_id": "199ea0d5cf534ba69216e2f6ac360a5f"
      }
     },
     "metadata": {},
     "output_type": "display_data"
    },
    {
     "name": "stdout",
     "output_type": "stream",
     "text": [
      "Mean diff between min and next min: \n",
      "\tCorrect (41): 0.05556 | 0.16937\n",
      "\tIncorrect (137): 0.02308 | 0.11152\n",
      "Thresholded at 0.05: \n",
      "\tCorrect (24) \t|\t\tIncorrect (15)\n",
      "\n",
      "Frame #1000\t\tParent #149\t\tDistance to parent: d=0.3735\n",
      "*** Partial annotations available for 39 keypoints\n"
     ]
    },
    {
     "data": {
      "text/plain": "Tracking:   0%|          | 0/40 [00:00<?, ?epochs/s]",
      "application/vnd.jupyter.widget-view+json": {
       "version_major": 2,
       "version_minor": 0,
       "model_id": "f246ec1f86734c2fb5644992053ee46d"
      }
     },
     "metadata": {},
     "output_type": "display_data"
    },
    {
     "name": "stdout",
     "output_type": "stream",
     "text": [
      "Mean diff between min and next min: \n",
      "\tCorrect (44): 0.04677 | 0.12818\n",
      "\tIncorrect (134): 0.02146 | 0.10296\n",
      "Thresholded at 0.05: \n",
      "\tCorrect (16) \t|\t\tIncorrect (13)\n",
      "\n",
      "Frame #1038\t\tParent #149\t\tDistance to parent: d=0.3772\n",
      "*** Partial annotations available for 29 keypoints\n"
     ]
    },
    {
     "data": {
      "text/plain": "Tracking:   0%|          | 0/40 [00:00<?, ?epochs/s]",
      "application/vnd.jupyter.widget-view+json": {
       "version_major": 2,
       "version_minor": 0,
       "model_id": "2cae3fe93c474648ba4f9684a185e2d3"
      }
     },
     "metadata": {},
     "output_type": "display_data"
    },
    {
     "name": "stdout",
     "output_type": "stream",
     "text": [
      "Mean diff between min and next min: \n",
      "\tCorrect (40): 0.04807 | 0.13582\n",
      "\tIncorrect (138): 0.02191 | 0.10697\n",
      "Thresholded at 0.05: \n",
      "\tCorrect (17) \t|\t\tIncorrect (13)\n",
      "\n",
      "Frame #271\t\tParent #200\t\tDistance to parent: d=0.4354\n",
      "*** Partial annotations available for 30 keypoints\n"
     ]
    },
    {
     "data": {
      "text/plain": "Tracking:   0%|          | 0/40 [00:00<?, ?epochs/s]",
      "application/vnd.jupyter.widget-view+json": {
       "version_major": 2,
       "version_minor": 0,
       "model_id": "1ec5fcb589d544ae8dd14b3b1cd775d6"
      }
     },
     "metadata": {},
     "output_type": "display_data"
    },
    {
     "name": "stdout",
     "output_type": "stream",
     "text": [
      "Mean diff between min and next min: \n",
      "\tCorrect (114): 0.08406 | 0.19126\n",
      "\tIncorrect (64): 0.02456 | 0.14610\n",
      "Thresholded at 0.05: \n",
      "\tCorrect (87) \t|\t\tIncorrect (10)\n",
      "\n",
      "Frame #298\t\tParent #200\t\tDistance to parent: d=0.0826\n",
      "*** Partial annotations available for 97 keypoints\n"
     ]
    },
    {
     "data": {
      "text/plain": "Tracking:   0%|          | 0/40 [00:00<?, ?epochs/s]",
      "application/vnd.jupyter.widget-view+json": {
       "version_major": 2,
       "version_minor": 0,
       "model_id": "bf539a3ac03a45049e36f53323500271"
      }
     },
     "metadata": {},
     "output_type": "display_data"
    },
    {
     "name": "stdout",
     "output_type": "stream",
     "text": [
      "Mean diff between min and next min: \n",
      "\tCorrect (16): 0.03820 | 0.11176\n",
      "\tIncorrect (162): 0.02514 | 0.11125\n",
      "Thresholded at 0.05: \n",
      "\tCorrect (3) \t|\t\tIncorrect (21)\n",
      "\n",
      "Frame #389\t\tParent #200\t\tDistance to parent: d=0.7036\n",
      "*** Partial annotations available for 24 keypoints\n"
     ]
    },
    {
     "data": {
      "text/plain": "Tracking:   0%|          | 0/40 [00:00<?, ?epochs/s]",
      "application/vnd.jupyter.widget-view+json": {
       "version_major": 2,
       "version_minor": 0,
       "model_id": "5023401c669343adacd30d8e971a29dc"
      }
     },
     "metadata": {},
     "output_type": "display_data"
    },
    {
     "name": "stdout",
     "output_type": "stream",
     "text": [
      "Mean diff between min and next min: \n",
      "\tCorrect (63): 0.06323 | 0.15618\n",
      "\tIncorrect (115): 0.02719 | 0.15554\n",
      "Thresholded at 0.05: \n",
      "\tCorrect (38) \t|\t\tIncorrect (15)\n",
      "\n",
      "Frame #400\t\tParent #200\t\tDistance to parent: d=0.4268\n",
      "*** Partial annotations available for 53 keypoints\n"
     ]
    },
    {
     "data": {
      "text/plain": "Tracking:   0%|          | 0/40 [00:00<?, ?epochs/s]",
      "application/vnd.jupyter.widget-view+json": {
       "version_major": 2,
       "version_minor": 0,
       "model_id": "dc29bc2c65d346afa5f0d468561c69f4"
      }
     },
     "metadata": {},
     "output_type": "display_data"
    },
    {
     "name": "stdout",
     "output_type": "stream",
     "text": [
      "Mean diff between min and next min: \n",
      "\tCorrect (36): 0.03371 | 0.08659\n",
      "\tIncorrect (142): 0.01999 | 0.09720\n",
      "Thresholded at 0.05: \n",
      "\tCorrect (7) \t|\t\tIncorrect (13)\n",
      "\n",
      "Frame #444\t\tParent #200\t\tDistance to parent: d=0.4350\n",
      "*** Partial annotations available for 20 keypoints\n"
     ]
    },
    {
     "data": {
      "text/plain": "Tracking:   0%|          | 0/40 [00:00<?, ?epochs/s]",
      "application/vnd.jupyter.widget-view+json": {
       "version_major": 2,
       "version_minor": 0,
       "model_id": "313c241ca95a4d5dbe4cefcd549f9ea5"
      }
     },
     "metadata": {},
     "output_type": "display_data"
    },
    {
     "name": "stdout",
     "output_type": "stream",
     "text": [
      "Mean diff between min and next min: \n",
      "\tCorrect (137): 0.08024 | 0.21120\n",
      "\tIncorrect (41): 0.02591 | 0.11843\n",
      "Thresholded at 0.05: \n",
      "\tCorrect (100) \t|\t\tIncorrect (6)\n",
      "\n",
      "Frame #463\t\tParent #200\t\tDistance to parent: d=0.0613\n",
      "*** Partial annotations available for 106 keypoints\n"
     ]
    },
    {
     "data": {
      "text/plain": "Tracking:   0%|          | 0/40 [00:00<?, ?epochs/s]",
      "application/vnd.jupyter.widget-view+json": {
       "version_major": 2,
       "version_minor": 0,
       "model_id": "1d2f8f3e6c9d435bb3a29d503d44fa72"
      }
     },
     "metadata": {},
     "output_type": "display_data"
    },
    {
     "name": "stdout",
     "output_type": "stream",
     "text": [
      "Mean diff between min and next min: \n",
      "\tCorrect (94): 0.06578 | 0.19049\n",
      "\tIncorrect (84): 0.02189 | 0.09070\n",
      "Thresholded at 0.05: \n",
      "\tCorrect (50) \t|\t\tIncorrect (9)\n",
      "\n",
      "Frame #498\t\tParent #200\t\tDistance to parent: d=0.1958\n",
      "*** Partial annotations available for 59 keypoints\n"
     ]
    },
    {
     "data": {
      "text/plain": "Tracking:   0%|          | 0/40 [00:00<?, ?epochs/s]",
      "application/vnd.jupyter.widget-view+json": {
       "version_major": 2,
       "version_minor": 0,
       "model_id": "bf27c17ea81b4310bfc2519f044d7646"
      }
     },
     "metadata": {},
     "output_type": "display_data"
    },
    {
     "name": "stdout",
     "output_type": "stream",
     "text": [
      "Mean diff between min and next min: \n",
      "\tCorrect (98): 0.06883 | 0.18530\n",
      "\tIncorrect (80): 0.02383 | 0.07817\n",
      "Thresholded at 0.05: \n",
      "\tCorrect (58) \t|\t\tIncorrect (11)\n",
      "\n",
      "Frame #600\t\tParent #200\t\tDistance to parent: d=0.1839\n",
      "*** Partial annotations available for 69 keypoints\n"
     ]
    },
    {
     "data": {
      "text/plain": "Tracking:   0%|          | 0/40 [00:00<?, ?epochs/s]",
      "application/vnd.jupyter.widget-view+json": {
       "version_major": 2,
       "version_minor": 0,
       "model_id": "f727f32a881e4315b81b88ae8d651fd8"
      }
     },
     "metadata": {},
     "output_type": "display_data"
    },
    {
     "name": "stdout",
     "output_type": "stream",
     "text": [
      "Mean diff between min and next min: \n",
      "\tCorrect (86): 0.06535 | 0.22451\n",
      "\tIncorrect (92): 0.02164 | 0.07797\n",
      "Thresholded at 0.05: \n",
      "\tCorrect (46) \t|\t\tIncorrect (6)\n",
      "\n",
      "Frame #640\t\tParent #200\t\tDistance to parent: d=0.2118\n",
      "*** Partial annotations available for 52 keypoints\n"
     ]
    },
    {
     "data": {
      "text/plain": "Tracking:   0%|          | 0/40 [00:00<?, ?epochs/s]",
      "application/vnd.jupyter.widget-view+json": {
       "version_major": 2,
       "version_minor": 0,
       "model_id": "83ea4b1a46cd4b6e9ef830b5082e4f72"
      }
     },
     "metadata": {},
     "output_type": "display_data"
    },
    {
     "name": "stdout",
     "output_type": "stream",
     "text": [
      "Mean diff between min and next min: \n",
      "\tCorrect (33): 0.04384 | 0.15224\n",
      "\tIncorrect (145): 0.02559 | 0.13554\n",
      "Thresholded at 0.05: \n",
      "\tCorrect (10) \t|\t\tIncorrect (20)\n",
      "\n",
      "Frame #656\t\tParent #200\t\tDistance to parent: d=0.4065\n",
      "*** Partial annotations available for 30 keypoints\n"
     ]
    },
    {
     "data": {
      "text/plain": "Tracking:   0%|          | 0/40 [00:00<?, ?epochs/s]",
      "application/vnd.jupyter.widget-view+json": {
       "version_major": 2,
       "version_minor": 0,
       "model_id": "f401ccc6621949bbba27436fec9c30f5"
      }
     },
     "metadata": {},
     "output_type": "display_data"
    },
    {
     "name": "stdout",
     "output_type": "stream",
     "text": [
      "Mean diff between min and next min: \n",
      "\tCorrect (106): 0.07717 | 0.18277\n",
      "\tIncorrect (72): 0.02360 | 0.13429\n",
      "Thresholded at 0.05: \n",
      "\tCorrect (76) \t|\t\tIncorrect (9)\n",
      "\n",
      "Frame #672\t\tParent #200\t\tDistance to parent: d=0.1080\n",
      "*** Partial annotations available for 85 keypoints\n"
     ]
    },
    {
     "data": {
      "text/plain": "Tracking:   0%|          | 0/40 [00:00<?, ?epochs/s]",
      "application/vnd.jupyter.widget-view+json": {
       "version_major": 2,
       "version_minor": 0,
       "model_id": "f1cee27d2fa4413881f3cd8e66e4bd98"
      }
     },
     "metadata": {},
     "output_type": "display_data"
    },
    {
     "name": "stdout",
     "output_type": "stream",
     "text": [
      "Mean diff between min and next min: \n",
      "\tCorrect (35): 0.04247 | 0.11287\n",
      "\tIncorrect (143): 0.02288 | 0.12266\n",
      "Thresholded at 0.05: \n",
      "\tCorrect (11) \t|\t\tIncorrect (15)\n",
      "\n",
      "Frame #700\t\tParent #200\t\tDistance to parent: d=0.4886\n",
      "*** Partial annotations available for 26 keypoints\n"
     ]
    },
    {
     "data": {
      "text/plain": "Tracking:   0%|          | 0/40 [00:00<?, ?epochs/s]",
      "application/vnd.jupyter.widget-view+json": {
       "version_major": 2,
       "version_minor": 0,
       "model_id": "fa0bc50ad43e4637a979c36a7b20724a"
      }
     },
     "metadata": {},
     "output_type": "display_data"
    },
    {
     "name": "stdout",
     "output_type": "stream",
     "text": [
      "Mean diff between min and next min: \n",
      "\tCorrect (132): 0.07719 | 0.22192\n",
      "\tIncorrect (46): 0.03102 | 0.14806\n",
      "Thresholded at 0.05: \n",
      "\tCorrect (97) \t|\t\tIncorrect (8)\n",
      "\n",
      "Frame #764\t\tParent #200\t\tDistance to parent: d=0.0469\n",
      "*** Partial annotations available for 105 keypoints\n"
     ]
    },
    {
     "data": {
      "text/plain": "Tracking:   0%|          | 0/40 [00:00<?, ?epochs/s]",
      "application/vnd.jupyter.widget-view+json": {
       "version_major": 2,
       "version_minor": 0,
       "model_id": "b95ff2b2a9c147ceaa96116913251779"
      }
     },
     "metadata": {},
     "output_type": "display_data"
    },
    {
     "name": "stdout",
     "output_type": "stream",
     "text": [
      "Mean diff between min and next min: \n",
      "\tCorrect (61): 0.06167 | 0.19303\n",
      "\tIncorrect (117): 0.02533 | 0.17352\n",
      "Thresholded at 0.05: \n",
      "\tCorrect (29) \t|\t\tIncorrect (17)\n",
      "\n",
      "Frame #800\t\tParent #200\t\tDistance to parent: d=0.2641\n",
      "*** Partial annotations available for 46 keypoints\n"
     ]
    },
    {
     "data": {
      "text/plain": "Tracking:   0%|          | 0/40 [00:00<?, ?epochs/s]",
      "application/vnd.jupyter.widget-view+json": {
       "version_major": 2,
       "version_minor": 0,
       "model_id": "8f2ecb10c53b4c689c84daf2499995af"
      }
     },
     "metadata": {},
     "output_type": "display_data"
    },
    {
     "name": "stdout",
     "output_type": "stream",
     "text": [
      "Mean diff between min and next min: \n",
      "\tCorrect (40): 0.04341 | 0.13760\n",
      "\tIncorrect (138): 0.02470 | 0.14384\n",
      "Thresholded at 0.05: \n",
      "\tCorrect (17) \t|\t\tIncorrect (17)\n",
      "\n",
      "Frame #806\t\tParent #200\t\tDistance to parent: d=0.4158\n",
      "*** Partial annotations available for 34 keypoints\n"
     ]
    },
    {
     "data": {
      "text/plain": "Tracking:   0%|          | 0/40 [00:00<?, ?epochs/s]",
      "application/vnd.jupyter.widget-view+json": {
       "version_major": 2,
       "version_minor": 0,
       "model_id": "5fee3684a32f4cbd8f8235987ca797c2"
      }
     },
     "metadata": {},
     "output_type": "display_data"
    },
    {
     "name": "stdout",
     "output_type": "stream",
     "text": [
      "Mean diff between min and next min: \n",
      "\tCorrect (64): 0.07798 | 0.20172\n",
      "\tIncorrect (114): 0.02396 | 0.14872\n",
      "Thresholded at 0.05: \n",
      "\tCorrect (39) \t|\t\tIncorrect (15)\n",
      "\n",
      "Frame #881\t\tParent #200\t\tDistance to parent: d=0.1611\n",
      "*** Partial annotations available for 54 keypoints\n"
     ]
    },
    {
     "data": {
      "text/plain": "Tracking:   0%|          | 0/40 [00:00<?, ?epochs/s]",
      "application/vnd.jupyter.widget-view+json": {
       "version_major": 2,
       "version_minor": 0,
       "model_id": "0f9c622dfbad4c0b8e612a86dfbb81b1"
      }
     },
     "metadata": {},
     "output_type": "display_data"
    },
    {
     "name": "stdout",
     "output_type": "stream",
     "text": [
      "Mean diff between min and next min: \n",
      "\tCorrect (107): 0.05773 | 0.20534\n",
      "\tIncorrect (71): 0.02352 | 0.11108\n",
      "Thresholded at 0.05: \n",
      "\tCorrect (54) \t|\t\tIncorrect (6)\n",
      "\n",
      "Frame #900\t\tParent #200\t\tDistance to parent: d=0.0856\n",
      "*** Partial annotations available for 60 keypoints\n"
     ]
    },
    {
     "data": {
      "text/plain": "Tracking:   0%|          | 0/40 [00:00<?, ?epochs/s]",
      "application/vnd.jupyter.widget-view+json": {
       "version_major": 2,
       "version_minor": 0,
       "model_id": "3e3152e57f4c4848bd50708c0be2377f"
      }
     },
     "metadata": {},
     "output_type": "display_data"
    },
    {
     "name": "stdout",
     "output_type": "stream",
     "text": [
      "Mean diff between min and next min: \n",
      "\tCorrect (74): 0.06409 | 0.17598\n",
      "\tIncorrect (104): 0.02496 | 0.16854\n",
      "Thresholded at 0.05: \n",
      "\tCorrect (41) \t|\t\tIncorrect (10)\n",
      "\n",
      "Frame #1000\t\tParent #200\t\tDistance to parent: d=0.1254\n",
      "*** Partial annotations available for 51 keypoints\n"
     ]
    },
    {
     "data": {
      "text/plain": "Tracking:   0%|          | 0/40 [00:00<?, ?epochs/s]",
      "application/vnd.jupyter.widget-view+json": {
       "version_major": 2,
       "version_minor": 0,
       "model_id": "968dfcc4f2554531a2eec6235653d8ed"
      }
     },
     "metadata": {},
     "output_type": "display_data"
    },
    {
     "name": "stdout",
     "output_type": "stream",
     "text": [
      "Mean diff between min and next min: \n",
      "\tCorrect (81): 0.05936 | 0.23941\n",
      "\tIncorrect (97): 0.02286 | 0.09902\n",
      "Thresholded at 0.05: \n",
      "\tCorrect (41) \t|\t\tIncorrect (9)\n",
      "\n",
      "Frame #1038\t\tParent #200\t\tDistance to parent: d=0.1325\n",
      "*** Partial annotations available for 50 keypoints\n"
     ]
    },
    {
     "data": {
      "text/plain": "Tracking:   0%|          | 0/40 [00:00<?, ?epochs/s]",
      "application/vnd.jupyter.widget-view+json": {
       "version_major": 2,
       "version_minor": 0,
       "model_id": "91236071fac6459c8906a3e7d1a02a10"
      }
     },
     "metadata": {},
     "output_type": "display_data"
    },
    {
     "name": "stdout",
     "output_type": "stream",
     "text": [
      "Mean diff between min and next min: \n",
      "\tCorrect (45): 0.05208 | 0.16299\n",
      "\tIncorrect (133): 0.01863 | 0.12451\n",
      "Thresholded at 0.05: \n",
      "\tCorrect (21) \t|\t\tIncorrect (9)\n",
      "\n",
      "Frame #298\t\tParent #271\t\tDistance to parent: d=0.4409\n",
      "*** Partial annotations available for 30 keypoints\n"
     ]
    },
    {
     "data": {
      "text/plain": "Tracking:   0%|          | 0/40 [00:00<?, ?epochs/s]",
      "application/vnd.jupyter.widget-view+json": {
       "version_major": 2,
       "version_minor": 0,
       "model_id": "ef972afdc36f43ffb8f0e36a5e64678f"
      }
     },
     "metadata": {},
     "output_type": "display_data"
    },
    {
     "name": "stdout",
     "output_type": "stream",
     "text": [
      "Mean diff between min and next min: \n",
      "\tCorrect (27): 0.04223 | 0.11929\n",
      "\tIncorrect (151): 0.02525 | 0.12026\n",
      "Thresholded at 0.05: \n",
      "\tCorrect (11) \t|\t\tIncorrect (23)\n",
      "\n",
      "Frame #389\t\tParent #271\t\tDistance to parent: d=0.5654\n",
      "*** Partial annotations available for 34 keypoints\n"
     ]
    },
    {
     "data": {
      "text/plain": "Tracking:   0%|          | 0/40 [00:00<?, ?epochs/s]",
      "application/vnd.jupyter.widget-view+json": {
       "version_major": 2,
       "version_minor": 0,
       "model_id": "89efc8628ca84c7f929dc022a9b1765f"
      }
     },
     "metadata": {},
     "output_type": "display_data"
    },
    {
     "name": "stdout",
     "output_type": "stream",
     "text": [
      "Mean diff between min and next min: \n",
      "\tCorrect (29): 0.03925 | 0.17416\n",
      "\tIncorrect (149): 0.02556 | 0.14197\n",
      "Thresholded at 0.05: \n",
      "\tCorrect (9) \t|\t\tIncorrect (22)\n",
      "\n",
      "Frame #400\t\tParent #271\t\tDistance to parent: d=0.6048\n",
      "*** Partial annotations available for 31 keypoints\n"
     ]
    },
    {
     "data": {
      "text/plain": "Tracking:   0%|          | 0/40 [00:00<?, ?epochs/s]",
      "application/vnd.jupyter.widget-view+json": {
       "version_major": 2,
       "version_minor": 0,
       "model_id": "2ef06fd6951846fe92708c798f50dd12"
      }
     },
     "metadata": {},
     "output_type": "display_data"
    },
    {
     "name": "stdout",
     "output_type": "stream",
     "text": [
      "Mean diff between min and next min: \n",
      "\tCorrect (96): 0.05410 | 0.21018\n",
      "\tIncorrect (82): 0.01999 | 0.08270\n",
      "Thresholded at 0.05: \n",
      "\tCorrect (45) \t|\t\tIncorrect (9)\n",
      "\n",
      "Frame #444\t\tParent #271\t\tDistance to parent: d=0.1662\n",
      "*** Partial annotations available for 54 keypoints\n"
     ]
    },
    {
     "data": {
      "text/plain": "Tracking:   0%|          | 0/40 [00:00<?, ?epochs/s]",
      "application/vnd.jupyter.widget-view+json": {
       "version_major": 2,
       "version_minor": 0,
       "model_id": "c14955af76554c23bd672d1aad9e023a"
      }
     },
     "metadata": {},
     "output_type": "display_data"
    },
    {
     "name": "stdout",
     "output_type": "stream",
     "text": [
      "Mean diff between min and next min: \n",
      "\tCorrect (40): 0.03876 | 0.10485\n",
      "\tIncorrect (138): 0.02088 | 0.08846\n",
      "Thresholded at 0.05: \n",
      "\tCorrect (11) \t|\t\tIncorrect (10)\n",
      "\n",
      "Frame #463\t\tParent #271\t\tDistance to parent: d=0.4003\n",
      "*** Partial annotations available for 21 keypoints\n"
     ]
    },
    {
     "data": {
      "text/plain": "Tracking:   0%|          | 0/40 [00:00<?, ?epochs/s]",
      "application/vnd.jupyter.widget-view+json": {
       "version_major": 2,
       "version_minor": 0,
       "model_id": "92e41fe31cec4cc2942c469bd2241c3b"
      }
     },
     "metadata": {},
     "output_type": "display_data"
    },
    {
     "name": "stdout",
     "output_type": "stream",
     "text": [
      "Mean diff between min and next min: \n",
      "\tCorrect (59): 0.04500 | 0.15645\n",
      "\tIncorrect (119): 0.02112 | 0.08142\n",
      "Thresholded at 0.05: \n",
      "\tCorrect (24) \t|\t\tIncorrect (9)\n",
      "\n",
      "Frame #498\t\tParent #271\t\tDistance to parent: d=0.2880\n",
      "*** Partial annotations available for 33 keypoints\n"
     ]
    },
    {
     "data": {
      "text/plain": "Tracking:   0%|          | 0/40 [00:00<?, ?epochs/s]",
      "application/vnd.jupyter.widget-view+json": {
       "version_major": 2,
       "version_minor": 0,
       "model_id": "55003fad3d264dacbd84193472b69274"
      }
     },
     "metadata": {},
     "output_type": "display_data"
    },
    {
     "name": "stdout",
     "output_type": "stream",
     "text": [
      "Mean diff between min and next min: \n",
      "\tCorrect (54): 0.04717 | 0.14158\n",
      "\tIncorrect (124): 0.02145 | 0.07956\n",
      "Thresholded at 0.05: \n",
      "\tCorrect (22) \t|\t\tIncorrect (8)\n",
      "\n",
      "Frame #600\t\tParent #271\t\tDistance to parent: d=0.3081\n",
      "*** Partial annotations available for 30 keypoints\n"
     ]
    },
    {
     "data": {
      "text/plain": "Tracking:   0%|          | 0/40 [00:00<?, ?epochs/s]",
      "application/vnd.jupyter.widget-view+json": {
       "version_major": 2,
       "version_minor": 0,
       "model_id": "9e44a84c5d5644cb9b6be18c308b8b45"
      }
     },
     "metadata": {},
     "output_type": "display_data"
    },
    {
     "name": "stdout",
     "output_type": "stream",
     "text": [
      "Mean diff between min and next min: \n",
      "\tCorrect (62): 0.05473 | 0.14751\n",
      "\tIncorrect (116): 0.02302 | 0.09007\n",
      "Thresholded at 0.05: \n",
      "\tCorrect (31) \t|\t\tIncorrect (9)\n",
      "\n",
      "Frame #640\t\tParent #271\t\tDistance to parent: d=0.2859\n",
      "*** Partial annotations available for 40 keypoints\n"
     ]
    },
    {
     "data": {
      "text/plain": "Tracking:   0%|          | 0/40 [00:00<?, ?epochs/s]",
      "application/vnd.jupyter.widget-view+json": {
       "version_major": 2,
       "version_minor": 0,
       "model_id": "363ec4433d1647919398b39c77a57582"
      }
     },
     "metadata": {},
     "output_type": "display_data"
    },
    {
     "name": "stdout",
     "output_type": "stream",
     "text": [
      "Mean diff between min and next min: \n",
      "\tCorrect (71): 0.06090 | 0.17301\n",
      "\tIncorrect (107): 0.03024 | 0.17206\n",
      "Thresholded at 0.05: \n",
      "\tCorrect (38) \t|\t\tIncorrect (23)\n",
      "\n",
      "Frame #656\t\tParent #271\t\tDistance to parent: d=0.1578\n",
      "*** Partial annotations available for 61 keypoints\n"
     ]
    },
    {
     "data": {
      "text/plain": "Tracking:   0%|          | 0/40 [00:00<?, ?epochs/s]",
      "application/vnd.jupyter.widget-view+json": {
       "version_major": 2,
       "version_minor": 0,
       "model_id": "8ba217016c8143f7baac4126e9a33efe"
      }
     },
     "metadata": {},
     "output_type": "display_data"
    },
    {
     "name": "stdout",
     "output_type": "stream",
     "text": [
      "Mean diff between min and next min: \n",
      "\tCorrect (36): 0.05212 | 0.16375\n",
      "\tIncorrect (142): 0.02240 | 0.13525\n",
      "Thresholded at 0.05: \n",
      "\tCorrect (13) \t|\t\tIncorrect (17)\n",
      "\n",
      "Frame #672\t\tParent #271\t\tDistance to parent: d=0.4746\n",
      "*** Partial annotations available for 30 keypoints\n"
     ]
    },
    {
     "data": {
      "text/plain": "Tracking:   0%|          | 0/40 [00:00<?, ?epochs/s]",
      "application/vnd.jupyter.widget-view+json": {
       "version_major": 2,
       "version_minor": 0,
       "model_id": "3b31ada05c66451aa0d3a0e7bf06fdf8"
      }
     },
     "metadata": {},
     "output_type": "display_data"
    },
    {
     "name": "stdout",
     "output_type": "stream",
     "text": [
      "Mean diff between min and next min: \n",
      "\tCorrect (88): 0.07355 | 0.18281\n",
      "\tIncorrect (90): 0.02642 | 0.09886\n",
      "Thresholded at 0.05: \n",
      "\tCorrect (57) \t|\t\tIncorrect (10)\n",
      "\n",
      "Frame #700\t\tParent #271\t\tDistance to parent: d=0.1251\n",
      "*** Partial annotations available for 67 keypoints\n"
     ]
    },
    {
     "data": {
      "text/plain": "Tracking:   0%|          | 0/40 [00:00<?, ?epochs/s]",
      "application/vnd.jupyter.widget-view+json": {
       "version_major": 2,
       "version_minor": 0,
       "model_id": "c74737548efc4812be1f9dd407cb0894"
      }
     },
     "metadata": {},
     "output_type": "display_data"
    },
    {
     "name": "stdout",
     "output_type": "stream",
     "text": [
      "Mean diff between min and next min: \n",
      "\tCorrect (28): 0.05359 | 0.16846\n",
      "\tIncorrect (150): 0.02400 | 0.07964\n",
      "Thresholded at 0.05: \n",
      "\tCorrect (14) \t|\t\tIncorrect (21)\n",
      "\n",
      "Frame #764\t\tParent #271\t\tDistance to parent: d=0.4565\n",
      "*** Partial annotations available for 35 keypoints\n"
     ]
    },
    {
     "data": {
      "text/plain": "Tracking:   0%|          | 0/40 [00:00<?, ?epochs/s]",
      "application/vnd.jupyter.widget-view+json": {
       "version_major": 2,
       "version_minor": 0,
       "model_id": "5f828e554c2b4682bee773cf7e362460"
      }
     },
     "metadata": {},
     "output_type": "display_data"
    },
    {
     "name": "stdout",
     "output_type": "stream",
     "text": [
      "Mean diff between min and next min: \n",
      "\tCorrect (64): 0.05921 | 0.23958\n",
      "\tIncorrect (114): 0.02500 | 0.11348\n",
      "Thresholded at 0.05: \n",
      "\tCorrect (27) \t|\t\tIncorrect (16)\n",
      "\n",
      "Frame #800\t\tParent #271\t\tDistance to parent: d=0.1960\n",
      "*** Partial annotations available for 43 keypoints\n"
     ]
    },
    {
     "data": {
      "text/plain": "Tracking:   0%|          | 0/40 [00:00<?, ?epochs/s]",
      "application/vnd.jupyter.widget-view+json": {
       "version_major": 2,
       "version_minor": 0,
       "model_id": "bd567e22d59843598b7f575d609c13a8"
      }
     },
     "metadata": {},
     "output_type": "display_data"
    },
    {
     "name": "stdout",
     "output_type": "stream",
     "text": [
      "Mean diff between min and next min: \n",
      "\tCorrect (95): 0.07855 | 0.27203\n",
      "\tIncorrect (83): 0.02702 | 0.10504\n",
      "Thresholded at 0.05: \n",
      "\tCorrect (61) \t|\t\tIncorrect (14)\n",
      "\n",
      "Frame #806\t\tParent #271\t\tDistance to parent: d=0.0958\n",
      "*** Partial annotations available for 75 keypoints\n"
     ]
    },
    {
     "data": {
      "text/plain": "Tracking:   0%|          | 0/40 [00:00<?, ?epochs/s]",
      "application/vnd.jupyter.widget-view+json": {
       "version_major": 2,
       "version_minor": 0,
       "model_id": "bbd8e7845ce44b3ab0d04ab12cd349c4"
      }
     },
     "metadata": {},
     "output_type": "display_data"
    },
    {
     "name": "stdout",
     "output_type": "stream",
     "text": [
      "Mean diff between min and next min: \n",
      "\tCorrect (49): 0.05583 | 0.17424\n",
      "\tIncorrect (129): 0.02018 | 0.10860\n",
      "Thresholded at 0.05: \n",
      "\tCorrect (27) \t|\t\tIncorrect (10)\n",
      "\n",
      "Frame #881\t\tParent #271\t\tDistance to parent: d=0.3549\n",
      "*** Partial annotations available for 37 keypoints\n"
     ]
    },
    {
     "data": {
      "text/plain": "Tracking:   0%|          | 0/40 [00:00<?, ?epochs/s]",
      "application/vnd.jupyter.widget-view+json": {
       "version_major": 2,
       "version_minor": 0,
       "model_id": "671135c9268c4726a8f3782fc521055e"
      }
     },
     "metadata": {},
     "output_type": "display_data"
    },
    {
     "name": "stdout",
     "output_type": "stream",
     "text": [
      "Mean diff between min and next min: \n",
      "\tCorrect (29): 0.04966 | 0.13889\n",
      "\tIncorrect (149): 0.02400 | 0.12566\n",
      "Thresholded at 0.05: \n",
      "\tCorrect (14) \t|\t\tIncorrect (19)\n",
      "\n",
      "Frame #900\t\tParent #271\t\tDistance to parent: d=0.4255\n",
      "*** Partial annotations available for 33 keypoints\n"
     ]
    },
    {
     "data": {
      "text/plain": "Tracking:   0%|          | 0/40 [00:00<?, ?epochs/s]",
      "application/vnd.jupyter.widget-view+json": {
       "version_major": 2,
       "version_minor": 0,
       "model_id": "e823d06b5a8246ac9f0f07072fa1ce35"
      }
     },
     "metadata": {},
     "output_type": "display_data"
    },
    {
     "name": "stdout",
     "output_type": "stream",
     "text": [
      "Mean diff between min and next min: \n",
      "\tCorrect (45): 0.05228 | 0.14474\n",
      "\tIncorrect (133): 0.02531 | 0.22695\n",
      "Thresholded at 0.05: \n",
      "\tCorrect (18) \t|\t\tIncorrect (18)\n",
      "\n",
      "Frame #1000\t\tParent #271\t\tDistance to parent: d=0.3928\n",
      "*** Partial annotations available for 36 keypoints\n"
     ]
    },
    {
     "data": {
      "text/plain": "Tracking:   0%|          | 0/40 [00:00<?, ?epochs/s]",
      "application/vnd.jupyter.widget-view+json": {
       "version_major": 2,
       "version_minor": 0,
       "model_id": "c36db2b55af34ee5b702ce25f98004d2"
      }
     },
     "metadata": {},
     "output_type": "display_data"
    },
    {
     "name": "stdout",
     "output_type": "stream",
     "text": [
      "Mean diff between min and next min: \n",
      "\tCorrect (42): 0.04823 | 0.17652\n",
      "\tIncorrect (136): 0.02470 | 0.11783\n",
      "Thresholded at 0.05: \n",
      "\tCorrect (17) \t|\t\tIncorrect (21)\n",
      "\n",
      "Frame #1038\t\tParent #271\t\tDistance to parent: d=0.4226\n",
      "*** Partial annotations available for 38 keypoints\n"
     ]
    },
    {
     "data": {
      "text/plain": "Tracking:   0%|          | 0/40 [00:00<?, ?epochs/s]",
      "application/vnd.jupyter.widget-view+json": {
       "version_major": 2,
       "version_minor": 0,
       "model_id": "2f1934642eaa40a98c3407a078d3e7ed"
      }
     },
     "metadata": {},
     "output_type": "display_data"
    },
    {
     "name": "stdout",
     "output_type": "stream",
     "text": [
      "Mean diff between min and next min: \n",
      "\tCorrect (17): 0.04430 | 0.16379\n",
      "\tIncorrect (161): 0.02448 | 0.12224\n",
      "Thresholded at 0.05: \n",
      "\tCorrect (5) \t|\t\tIncorrect (17)\n",
      "\n",
      "Frame #389\t\tParent #298\t\tDistance to parent: d=0.6953\n",
      "*** Partial annotations available for 22 keypoints\n"
     ]
    },
    {
     "data": {
      "text/plain": "Tracking:   0%|          | 0/40 [00:00<?, ?epochs/s]",
      "application/vnd.jupyter.widget-view+json": {
       "version_major": 2,
       "version_minor": 0,
       "model_id": "e367e606e89b44a1b81804348625a6d5"
      }
     },
     "metadata": {},
     "output_type": "display_data"
    },
    {
     "name": "stdout",
     "output_type": "stream",
     "text": [
      "Mean diff between min and next min: \n",
      "\tCorrect (64): 0.06019 | 0.15877\n",
      "\tIncorrect (114): 0.02477 | 0.11823\n",
      "Thresholded at 0.05: \n",
      "\tCorrect (38) \t|\t\tIncorrect (14)\n",
      "\n",
      "Frame #400\t\tParent #298\t\tDistance to parent: d=0.4514\n",
      "*** Partial annotations available for 52 keypoints\n"
     ]
    },
    {
     "data": {
      "text/plain": "Tracking:   0%|          | 0/40 [00:00<?, ?epochs/s]",
      "application/vnd.jupyter.widget-view+json": {
       "version_major": 2,
       "version_minor": 0,
       "model_id": "7a14c1d78f974418a7f7c3a5c97f40e4"
      }
     },
     "metadata": {},
     "output_type": "display_data"
    },
    {
     "name": "stdout",
     "output_type": "stream",
     "text": [
      "Mean diff between min and next min: \n",
      "\tCorrect (24): 0.02715 | 0.07802\n",
      "\tIncorrect (154): 0.02072 | 0.11559\n",
      "Thresholded at 0.05: \n",
      "\tCorrect (1) \t|\t\tIncorrect (12)\n",
      "\n",
      "Frame #444\t\tParent #298\t\tDistance to parent: d=0.4667\n",
      "*** Partial annotations available for 13 keypoints\n"
     ]
    },
    {
     "data": {
      "text/plain": "Tracking:   0%|          | 0/40 [00:00<?, ?epochs/s]",
      "application/vnd.jupyter.widget-view+json": {
       "version_major": 2,
       "version_minor": 0,
       "model_id": "1bfe2683af184da2b1e739bb5f5f46f6"
      }
     },
     "metadata": {},
     "output_type": "display_data"
    },
    {
     "name": "stdout",
     "output_type": "stream",
     "text": [
      "Mean diff between min and next min: \n",
      "\tCorrect (109): 0.08407 | 0.21111\n",
      "\tIncorrect (69): 0.02307 | 0.12991\n",
      "Thresholded at 0.05: \n",
      "\tCorrect (80) \t|\t\tIncorrect (7)\n",
      "\n",
      "Frame #463\t\tParent #298\t\tDistance to parent: d=0.1028\n",
      "*** Partial annotations available for 87 keypoints\n"
     ]
    },
    {
     "data": {
      "text/plain": "Tracking:   0%|          | 0/40 [00:00<?, ?epochs/s]",
      "application/vnd.jupyter.widget-view+json": {
       "version_major": 2,
       "version_minor": 0,
       "model_id": "e85592e5959345dc9e0b16fc4d5311d5"
      }
     },
     "metadata": {},
     "output_type": "display_data"
    },
    {
     "name": "stdout",
     "output_type": "stream",
     "text": [
      "Mean diff between min and next min: \n",
      "\tCorrect (86): 0.04704 | 0.13818\n",
      "\tIncorrect (92): 0.01953 | 0.09659\n",
      "Thresholded at 0.05: \n",
      "\tCorrect (36) \t|\t\tIncorrect (8)\n",
      "\n",
      "Frame #498\t\tParent #298\t\tDistance to parent: d=0.2138\n",
      "*** Partial annotations available for 44 keypoints\n"
     ]
    },
    {
     "data": {
      "text/plain": "Tracking:   0%|          | 0/40 [00:00<?, ?epochs/s]",
      "application/vnd.jupyter.widget-view+json": {
       "version_major": 2,
       "version_minor": 0,
       "model_id": "e9d1511b8d9e4af79576ed8a60f79e68"
      }
     },
     "metadata": {},
     "output_type": "display_data"
    },
    {
     "name": "stdout",
     "output_type": "stream",
     "text": [
      "Mean diff between min and next min: \n",
      "\tCorrect (85): 0.05202 | 0.14739\n",
      "\tIncorrect (93): 0.02014 | 0.10130\n",
      "Thresholded at 0.05: \n",
      "\tCorrect (42) \t|\t\tIncorrect (7)\n",
      "\n",
      "Frame #600\t\tParent #298\t\tDistance to parent: d=0.2064\n",
      "*** Partial annotations available for 49 keypoints\n"
     ]
    },
    {
     "data": {
      "text/plain": "Tracking:   0%|          | 0/40 [00:00<?, ?epochs/s]",
      "application/vnd.jupyter.widget-view+json": {
       "version_major": 2,
       "version_minor": 0,
       "model_id": "0a2139d543ed4e02af6f900e7156a8d2"
      }
     },
     "metadata": {},
     "output_type": "display_data"
    },
    {
     "name": "stdout",
     "output_type": "stream",
     "text": [
      "Mean diff between min and next min: \n",
      "\tCorrect (100): 0.05784 | 0.17128\n",
      "\tIncorrect (78): 0.02298 | 0.11525\n",
      "Thresholded at 0.05: \n",
      "\tCorrect (53) \t|\t\tIncorrect (8)\n",
      "\n",
      "Frame #640\t\tParent #298\t\tDistance to parent: d=0.2229\n",
      "*** Partial annotations available for 61 keypoints\n"
     ]
    },
    {
     "data": {
      "text/plain": "Tracking:   0%|          | 0/40 [00:00<?, ?epochs/s]",
      "application/vnd.jupyter.widget-view+json": {
       "version_major": 2,
       "version_minor": 0,
       "model_id": "e38812f340da4cd8b11f731e122aa9fb"
      }
     },
     "metadata": {},
     "output_type": "display_data"
    },
    {
     "name": "stdout",
     "output_type": "stream",
     "text": [
      "Mean diff between min and next min: \n",
      "\tCorrect (28): 0.03284 | 0.10517\n",
      "\tIncorrect (150): 0.02515 | 0.14187\n",
      "Thresholded at 0.05: \n",
      "\tCorrect (5) \t|\t\tIncorrect (18)\n",
      "\n",
      "Frame #656\t\tParent #298\t\tDistance to parent: d=0.4255\n",
      "*** Partial annotations available for 23 keypoints\n"
     ]
    },
    {
     "data": {
      "text/plain": "Tracking:   0%|          | 0/40 [00:00<?, ?epochs/s]",
      "application/vnd.jupyter.widget-view+json": {
       "version_major": 2,
       "version_minor": 0,
       "model_id": "d562a899a69c4abab42cd0964d4d7b46"
      }
     },
     "metadata": {},
     "output_type": "display_data"
    },
    {
     "name": "stdout",
     "output_type": "stream",
     "text": [
      "Mean diff between min and next min: \n",
      "\tCorrect (127): 0.11039 | 0.23527\n",
      "\tIncorrect (51): 0.02553 | 0.12088\n",
      "Thresholded at 0.05: \n",
      "\tCorrect (103) \t|\t\tIncorrect (5)\n",
      "\n",
      "Frame #672\t\tParent #298\t\tDistance to parent: d=0.0607\n",
      "*** Partial annotations available for 108 keypoints\n"
     ]
    },
    {
     "data": {
      "text/plain": "Tracking:   0%|          | 0/40 [00:00<?, ?epochs/s]",
      "application/vnd.jupyter.widget-view+json": {
       "version_major": 2,
       "version_minor": 0,
       "model_id": "c557cba57a034d9cadcf8b198e8d079c"
      }
     },
     "metadata": {},
     "output_type": "display_data"
    },
    {
     "name": "stdout",
     "output_type": "stream",
     "text": [
      "Mean diff between min and next min: \n",
      "\tCorrect (29): 0.02997 | 0.10349\n",
      "\tIncorrect (149): 0.02319 | 0.16995\n",
      "Thresholded at 0.05: \n",
      "\tCorrect (5) \t|\t\tIncorrect (16)\n",
      "\n",
      "Frame #700\t\tParent #298\t\tDistance to parent: d=0.4921\n",
      "*** Partial annotations available for 21 keypoints\n"
     ]
    },
    {
     "data": {
      "text/plain": "Tracking:   0%|          | 0/40 [00:00<?, ?epochs/s]",
      "application/vnd.jupyter.widget-view+json": {
       "version_major": 2,
       "version_minor": 0,
       "model_id": "32f6ced0751b48878debf00249795f13"
      }
     },
     "metadata": {},
     "output_type": "display_data"
    },
    {
     "name": "stdout",
     "output_type": "stream",
     "text": [
      "Mean diff between min and next min: \n",
      "\tCorrect (135): 0.09855 | 0.26568\n",
      "\tIncorrect (43): 0.03263 | 0.15549\n",
      "Thresholded at 0.05: \n",
      "\tCorrect (103) \t|\t\tIncorrect (7)\n",
      "\n",
      "Frame #764\t\tParent #298\t\tDistance to parent: d=0.0674\n",
      "*** Partial annotations available for 110 keypoints\n"
     ]
    },
    {
     "data": {
      "text/plain": "Tracking:   0%|          | 0/40 [00:00<?, ?epochs/s]",
      "application/vnd.jupyter.widget-view+json": {
       "version_major": 2,
       "version_minor": 0,
       "model_id": "d93c745f81c5493aaa683a5657182344"
      }
     },
     "metadata": {},
     "output_type": "display_data"
    },
    {
     "name": "stdout",
     "output_type": "stream",
     "text": [
      "Mean diff between min and next min: \n",
      "\tCorrect (66): 0.05634 | 0.17725\n",
      "\tIncorrect (112): 0.02547 | 0.12783\n",
      "Thresholded at 0.05: \n",
      "\tCorrect (30) \t|\t\tIncorrect (16)\n",
      "\n",
      "Frame #800\t\tParent #298\t\tDistance to parent: d=0.2686\n",
      "*** Partial annotations available for 46 keypoints\n"
     ]
    },
    {
     "data": {
      "text/plain": "Tracking:   0%|          | 0/40 [00:00<?, ?epochs/s]",
      "application/vnd.jupyter.widget-view+json": {
       "version_major": 2,
       "version_minor": 0,
       "model_id": "400cefd695b042f18a9df68982349c33"
      }
     },
     "metadata": {},
     "output_type": "display_data"
    },
    {
     "name": "stdout",
     "output_type": "stream",
     "text": [
      "Mean diff between min and next min: \n",
      "\tCorrect (35): 0.03699 | 0.14398\n",
      "\tIncorrect (143): 0.02067 | 0.09080\n",
      "Thresholded at 0.05: \n",
      "\tCorrect (9) \t|\t\tIncorrect (14)\n",
      "\n",
      "Frame #806\t\tParent #298\t\tDistance to parent: d=0.4491\n",
      "*** Partial annotations available for 23 keypoints\n"
     ]
    },
    {
     "data": {
      "text/plain": "Tracking:   0%|          | 0/40 [00:00<?, ?epochs/s]",
      "application/vnd.jupyter.widget-view+json": {
       "version_major": 2,
       "version_minor": 0,
       "model_id": "bcb37b8ed95741b5806ab43b41d7c62b"
      }
     },
     "metadata": {},
     "output_type": "display_data"
    },
    {
     "name": "stdout",
     "output_type": "stream",
     "text": [
      "Mean diff between min and next min: \n",
      "\tCorrect (75): 0.06169 | 0.17737\n",
      "\tIncorrect (103): 0.02442 | 0.09791\n",
      "Thresholded at 0.05: \n",
      "\tCorrect (36) \t|\t\tIncorrect (13)\n",
      "\n",
      "Frame #881\t\tParent #298\t\tDistance to parent: d=0.1125\n",
      "*** Partial annotations available for 49 keypoints\n"
     ]
    },
    {
     "data": {
      "text/plain": "Tracking:   0%|          | 0/40 [00:00<?, ?epochs/s]",
      "application/vnd.jupyter.widget-view+json": {
       "version_major": 2,
       "version_minor": 0,
       "model_id": "dd5646b2affe4380b1f55efbf87c76cc"
      }
     },
     "metadata": {},
     "output_type": "display_data"
    },
    {
     "name": "stdout",
     "output_type": "stream",
     "text": [
      "Mean diff between min and next min: \n",
      "\tCorrect (122): 0.09044 | 0.20776\n",
      "\tIncorrect (56): 0.03063 | 0.15510\n",
      "Thresholded at 0.05: \n",
      "\tCorrect (91) \t|\t\tIncorrect (8)\n",
      "\n",
      "Frame #900\t\tParent #298\t\tDistance to parent: d=0.0560\n",
      "*** Partial annotations available for 99 keypoints\n"
     ]
    },
    {
     "data": {
      "text/plain": "Tracking:   0%|          | 0/40 [00:00<?, ?epochs/s]",
      "application/vnd.jupyter.widget-view+json": {
       "version_major": 2,
       "version_minor": 0,
       "model_id": "48249d16bc004f2ba3b5f91fc833f1c9"
      }
     },
     "metadata": {},
     "output_type": "display_data"
    },
    {
     "name": "stdout",
     "output_type": "stream",
     "text": [
      "Mean diff between min and next min: \n",
      "\tCorrect (105): 0.07635 | 0.19195\n",
      "\tIncorrect (73): 0.03355 | 0.15637\n",
      "Thresholded at 0.05: \n",
      "\tCorrect (70) \t|\t\tIncorrect (18)\n",
      "\n",
      "Frame #1000\t\tParent #298\t\tDistance to parent: d=0.0921\n",
      "*** Partial annotations available for 88 keypoints\n"
     ]
    },
    {
     "data": {
      "text/plain": "Tracking:   0%|          | 0/40 [00:00<?, ?epochs/s]",
      "application/vnd.jupyter.widget-view+json": {
       "version_major": 2,
       "version_minor": 0,
       "model_id": "87e9b435395f45bb8e7d8ec35a5e0e3f"
      }
     },
     "metadata": {},
     "output_type": "display_data"
    },
    {
     "name": "stdout",
     "output_type": "stream",
     "text": [
      "Mean diff between min and next min: \n",
      "\tCorrect (112): 0.07742 | 0.23515\n",
      "\tIncorrect (66): 0.03041 | 0.10200\n",
      "Thresholded at 0.05: \n",
      "\tCorrect (71) \t|\t\tIncorrect (14)\n",
      "\n",
      "Frame #1038\t\tParent #298\t\tDistance to parent: d=0.0848\n",
      "*** Partial annotations available for 85 keypoints\n"
     ]
    },
    {
     "data": {
      "text/plain": "Tracking:   0%|          | 0/40 [00:00<?, ?epochs/s]",
      "application/vnd.jupyter.widget-view+json": {
       "version_major": 2,
       "version_minor": 0,
       "model_id": "5662c3ba3c2f4c8a98f5da025f832270"
      }
     },
     "metadata": {},
     "output_type": "display_data"
    },
    {
     "name": "stdout",
     "output_type": "stream",
     "text": [
      "Mean diff between min and next min: \n",
      "\tCorrect (21): 0.04899 | 0.11939\n",
      "\tIncorrect (157): 0.02627 | 0.12067\n",
      "Thresholded at 0.05: \n",
      "\tCorrect (10) \t|\t\tIncorrect (24)\n",
      "\n",
      "Frame #400\t\tParent #389\t\tDistance to parent: d=0.6584\n",
      "*** Partial annotations available for 34 keypoints\n"
     ]
    },
    {
     "data": {
      "text/plain": "Tracking:   0%|          | 0/40 [00:00<?, ?epochs/s]",
      "application/vnd.jupyter.widget-view+json": {
       "version_major": 2,
       "version_minor": 0,
       "model_id": "5e976b9cf5524b66b6f2829824adede3"
      }
     },
     "metadata": {},
     "output_type": "display_data"
    },
    {
     "name": "stdout",
     "output_type": "stream",
     "text": [
      "Mean diff between min and next min: \n",
      "\tCorrect (40): 0.04189 | 0.12914\n",
      "\tIncorrect (138): 0.02108 | 0.11300\n",
      "Thresholded at 0.05: \n",
      "\tCorrect (15) \t|\t\tIncorrect (13)\n",
      "\n",
      "Frame #444\t\tParent #389\t\tDistance to parent: d=0.5345\n",
      "*** Partial annotations available for 28 keypoints\n"
     ]
    },
    {
     "data": {
      "text/plain": "Tracking:   0%|          | 0/40 [00:00<?, ?epochs/s]",
      "application/vnd.jupyter.widget-view+json": {
       "version_major": 2,
       "version_minor": 0,
       "model_id": "c490d5fea4124570af29569a0be7f1c7"
      }
     },
     "metadata": {},
     "output_type": "display_data"
    },
    {
     "name": "stdout",
     "output_type": "stream",
     "text": [
      "Mean diff between min and next min: \n",
      "\tCorrect (27): 0.04169 | 0.13218\n",
      "\tIncorrect (151): 0.02316 | 0.14779\n",
      "Thresholded at 0.05: \n",
      "\tCorrect (9) \t|\t\tIncorrect (17)\n",
      "\n",
      "Frame #463\t\tParent #389\t\tDistance to parent: d=0.6532\n",
      "*** Partial annotations available for 26 keypoints\n"
     ]
    },
    {
     "data": {
      "text/plain": "Tracking:   0%|          | 0/40 [00:00<?, ?epochs/s]",
      "application/vnd.jupyter.widget-view+json": {
       "version_major": 2,
       "version_minor": 0,
       "model_id": "1cd49c6a934b43aea96502add4e04daa"
      }
     },
     "metadata": {},
     "output_type": "display_data"
    },
    {
     "name": "stdout",
     "output_type": "stream",
     "text": [
      "Mean diff between min and next min: \n",
      "\tCorrect (16): 0.03720 | 0.11556\n",
      "\tIncorrect (162): 0.02171 | 0.07974\n",
      "Thresholded at 0.05: \n",
      "\tCorrect (4) \t|\t\tIncorrect (12)\n",
      "\n",
      "Frame #498\t\tParent #389\t\tDistance to parent: d=0.6106\n",
      "*** Partial annotations available for 16 keypoints\n"
     ]
    },
    {
     "data": {
      "text/plain": "Tracking:   0%|          | 0/40 [00:00<?, ?epochs/s]",
      "application/vnd.jupyter.widget-view+json": {
       "version_major": 2,
       "version_minor": 0,
       "model_id": "25dfd950bf064b27ad73cc3e91d9fdb2"
      }
     },
     "metadata": {},
     "output_type": "display_data"
    },
    {
     "name": "stdout",
     "output_type": "stream",
     "text": [
      "Mean diff between min and next min: \n",
      "\tCorrect (14): 0.02680 | 0.06365\n",
      "\tIncorrect (164): 0.02232 | 0.08521\n",
      "Thresholded at 0.05: \n",
      "\tCorrect (3) \t|\t\tIncorrect (14)\n",
      "\n",
      "Frame #600\t\tParent #389\t\tDistance to parent: d=0.6276\n",
      "*** Partial annotations available for 17 keypoints\n"
     ]
    },
    {
     "data": {
      "text/plain": "Tracking:   0%|          | 0/40 [00:00<?, ?epochs/s]",
      "application/vnd.jupyter.widget-view+json": {
       "version_major": 2,
       "version_minor": 0,
       "model_id": "756c3814063348b1a36762dc5296752c"
      }
     },
     "metadata": {},
     "output_type": "display_data"
    },
    {
     "name": "stdout",
     "output_type": "stream",
     "text": [
      "Mean diff between min and next min: \n",
      "\tCorrect (13): 0.03203 | 0.06624\n",
      "\tIncorrect (165): 0.02078 | 0.10350\n",
      "Thresholded at 0.05: \n",
      "\tCorrect (2) \t|\t\tIncorrect (13)\n",
      "\n",
      "Frame #640\t\tParent #389\t\tDistance to parent: d=0.6144\n",
      "*** Partial annotations available for 15 keypoints\n"
     ]
    },
    {
     "data": {
      "text/plain": "Tracking:   0%|          | 0/40 [00:00<?, ?epochs/s]",
      "application/vnd.jupyter.widget-view+json": {
       "version_major": 2,
       "version_minor": 0,
       "model_id": "37962fef6f8f41c792c71c421bec35b1"
      }
     },
     "metadata": {},
     "output_type": "display_data"
    },
    {
     "name": "stdout",
     "output_type": "stream",
     "text": [
      "Mean diff between min and next min: \n",
      "\tCorrect (25): 0.03920 | 0.12223\n",
      "\tIncorrect (153): 0.02223 | 0.08791\n",
      "Thresholded at 0.05: \n",
      "\tCorrect (8) \t|\t\tIncorrect (16)\n",
      "\n",
      "Frame #656\t\tParent #389\t\tDistance to parent: d=0.6144\n",
      "*** Partial annotations available for 24 keypoints\n"
     ]
    },
    {
     "data": {
      "text/plain": "Tracking:   0%|          | 0/40 [00:00<?, ?epochs/s]",
      "application/vnd.jupyter.widget-view+json": {
       "version_major": 2,
       "version_minor": 0,
       "model_id": "e654a6ab45af4f80af7134e2c5928171"
      }
     },
     "metadata": {},
     "output_type": "display_data"
    },
    {
     "name": "stdout",
     "output_type": "stream",
     "text": [
      "Mean diff between min and next min: \n",
      "\tCorrect (26): 0.03828 | 0.16063\n",
      "\tIncorrect (152): 0.02179 | 0.11161\n",
      "Thresholded at 0.05: \n",
      "\tCorrect (9) \t|\t\tIncorrect (15)\n",
      "\n",
      "Frame #672\t\tParent #389\t\tDistance to parent: d=0.7189\n",
      "*** Partial annotations available for 24 keypoints\n"
     ]
    },
    {
     "data": {
      "text/plain": "Tracking:   0%|          | 0/40 [00:00<?, ?epochs/s]",
      "application/vnd.jupyter.widget-view+json": {
       "version_major": 2,
       "version_minor": 0,
       "model_id": "dbff1246f108435992691b47db4a4c97"
      }
     },
     "metadata": {},
     "output_type": "display_data"
    },
    {
     "name": "stdout",
     "output_type": "stream",
     "text": [
      "Mean diff between min and next min: \n",
      "\tCorrect (18): 0.03735 | 0.09420\n",
      "\tIncorrect (160): 0.02128 | 0.11389\n",
      "Thresholded at 0.05: \n",
      "\tCorrect (5) \t|\t\tIncorrect (13)\n",
      "\n",
      "Frame #700\t\tParent #389\t\tDistance to parent: d=0.5636\n",
      "*** Partial annotations available for 18 keypoints\n"
     ]
    },
    {
     "data": {
      "text/plain": "Tracking:   0%|          | 0/40 [00:00<?, ?epochs/s]",
      "application/vnd.jupyter.widget-view+json": {
       "version_major": 2,
       "version_minor": 0,
       "model_id": "1a2c26edad0248d3b4bc5d1fd2e8529f"
      }
     },
     "metadata": {},
     "output_type": "display_data"
    },
    {
     "name": "stdout",
     "output_type": "stream",
     "text": [
      "Mean diff between min and next min: \n",
      "\tCorrect (21): 0.05069 | 0.13692\n",
      "\tIncorrect (157): 0.02598 | 0.11321\n",
      "Thresholded at 0.05: \n",
      "\tCorrect (9) \t|\t\tIncorrect (18)\n",
      "\n",
      "Frame #764\t\tParent #389\t\tDistance to parent: d=0.7088\n",
      "*** Partial annotations available for 27 keypoints\n"
     ]
    },
    {
     "data": {
      "text/plain": "Tracking:   0%|          | 0/40 [00:00<?, ?epochs/s]",
      "application/vnd.jupyter.widget-view+json": {
       "version_major": 2,
       "version_minor": 0,
       "model_id": "a783b4d741ae48ca884d1fba5c6e896d"
      }
     },
     "metadata": {},
     "output_type": "display_data"
    },
    {
     "name": "stdout",
     "output_type": "stream",
     "text": [
      "Mean diff between min and next min: \n",
      "\tCorrect (23): 0.03174 | 0.11598\n",
      "\tIncorrect (155): 0.02581 | 0.11683\n",
      "Thresholded at 0.05: \n",
      "\tCorrect (4) \t|\t\tIncorrect (22)\n",
      "\n",
      "Frame #800\t\tParent #389\t\tDistance to parent: d=0.6277\n",
      "*** Partial annotations available for 26 keypoints\n"
     ]
    },
    {
     "data": {
      "text/plain": "Tracking:   0%|          | 0/40 [00:00<?, ?epochs/s]",
      "application/vnd.jupyter.widget-view+json": {
       "version_major": 2,
       "version_minor": 0,
       "model_id": "f301845c59c04ae0b3ad6a7432c38078"
      }
     },
     "metadata": {},
     "output_type": "display_data"
    },
    {
     "name": "stdout",
     "output_type": "stream",
     "text": [
      "Mean diff between min and next min: \n",
      "\tCorrect (23): 0.04221 | 0.13874\n",
      "\tIncorrect (155): 0.02593 | 0.10432\n",
      "Thresholded at 0.05: \n",
      "\tCorrect (9) \t|\t\tIncorrect (24)\n",
      "\n",
      "Frame #806\t\tParent #389\t\tDistance to parent: d=0.5909\n",
      "*** Partial annotations available for 33 keypoints\n"
     ]
    },
    {
     "data": {
      "text/plain": "Tracking:   0%|          | 0/40 [00:00<?, ?epochs/s]",
      "application/vnd.jupyter.widget-view+json": {
       "version_major": 2,
       "version_minor": 0,
       "model_id": "8a6684af7d2b46f1968ca291c58c3f08"
      }
     },
     "metadata": {},
     "output_type": "display_data"
    },
    {
     "name": "stdout",
     "output_type": "stream",
     "text": [
      "Mean diff between min and next min: \n",
      "\tCorrect (19): 0.03894 | 0.14581\n",
      "\tIncorrect (159): 0.02574 | 0.15759\n",
      "Thresholded at 0.05: \n",
      "\tCorrect (5) \t|\t\tIncorrect (26)\n",
      "\n",
      "Frame #881\t\tParent #389\t\tDistance to parent: d=0.6464\n",
      "*** Partial annotations available for 31 keypoints\n"
     ]
    },
    {
     "data": {
      "text/plain": "Tracking:   0%|          | 0/40 [00:00<?, ?epochs/s]",
      "application/vnd.jupyter.widget-view+json": {
       "version_major": 2,
       "version_minor": 0,
       "model_id": "4301d121c9684f2c8eba59721c9d31eb"
      }
     },
     "metadata": {},
     "output_type": "display_data"
    },
    {
     "name": "stdout",
     "output_type": "stream",
     "text": [
      "Mean diff between min and next min: \n",
      "\tCorrect (21): 0.06887 | 0.15638\n",
      "\tIncorrect (157): 0.02834 | 0.16031\n",
      "Thresholded at 0.05: \n",
      "\tCorrect (14) \t|\t\tIncorrect (28)\n",
      "\n",
      "Frame #900\t\tParent #389\t\tDistance to parent: d=0.6812\n",
      "*** Partial annotations available for 42 keypoints\n"
     ]
    },
    {
     "data": {
      "text/plain": "Tracking:   0%|          | 0/40 [00:00<?, ?epochs/s]",
      "application/vnd.jupyter.widget-view+json": {
       "version_major": 2,
       "version_minor": 0,
       "model_id": "862c33f73c4b4a8db2755fedfe9fe005"
      }
     },
     "metadata": {},
     "output_type": "display_data"
    },
    {
     "name": "stdout",
     "output_type": "stream",
     "text": [
      "Mean diff between min and next min: \n",
      "\tCorrect (23): 0.04868 | 0.12999\n",
      "\tIncorrect (155): 0.02562 | 0.11649\n",
      "Thresholded at 0.05: \n",
      "\tCorrect (10) \t|\t\tIncorrect (19)\n",
      "\n",
      "Frame #1000\t\tParent #389\t\tDistance to parent: d=0.6582\n",
      "*** Partial annotations available for 29 keypoints\n"
     ]
    },
    {
     "data": {
      "text/plain": "Tracking:   0%|          | 0/40 [00:00<?, ?epochs/s]",
      "application/vnd.jupyter.widget-view+json": {
       "version_major": 2,
       "version_minor": 0,
       "model_id": "2a94ae4bd54b4f55979d5e119dc77888"
      }
     },
     "metadata": {},
     "output_type": "display_data"
    },
    {
     "name": "stdout",
     "output_type": "stream",
     "text": [
      "Mean diff between min and next min: \n",
      "\tCorrect (30): 0.04873 | 0.19699\n",
      "\tIncorrect (148): 0.02563 | 0.11568\n",
      "Thresholded at 0.05: \n",
      "\tCorrect (13) \t|\t\tIncorrect (22)\n",
      "\n",
      "Frame #1038\t\tParent #389\t\tDistance to parent: d=0.6781\n",
      "*** Partial annotations available for 35 keypoints\n"
     ]
    },
    {
     "data": {
      "text/plain": "Tracking:   0%|          | 0/40 [00:00<?, ?epochs/s]",
      "application/vnd.jupyter.widget-view+json": {
       "version_major": 2,
       "version_minor": 0,
       "model_id": "cb84bf5fc91a4e669af961a46819e24a"
      }
     },
     "metadata": {},
     "output_type": "display_data"
    },
    {
     "name": "stdout",
     "output_type": "stream",
     "text": [
      "Mean diff between min and next min: \n",
      "\tCorrect (30): 0.03319 | 0.12460\n",
      "\tIncorrect (148): 0.02188 | 0.10700\n",
      "Thresholded at 0.05: \n",
      "\tCorrect (6) \t|\t\tIncorrect (16)\n",
      "\n",
      "Frame #444\t\tParent #400\t\tDistance to parent: d=0.5903\n",
      "*** Partial annotations available for 22 keypoints\n"
     ]
    },
    {
     "data": {
      "text/plain": "Tracking:   0%|          | 0/40 [00:00<?, ?epochs/s]",
      "application/vnd.jupyter.widget-view+json": {
       "version_major": 2,
       "version_minor": 0,
       "model_id": "e5e8a158c04f4cf1b15b926222b1d9eb"
      }
     },
     "metadata": {},
     "output_type": "display_data"
    },
    {
     "name": "stdout",
     "output_type": "stream",
     "text": [
      "Mean diff between min and next min: \n",
      "\tCorrect (97): 0.08416 | 0.25262\n",
      "\tIncorrect (81): 0.03038 | 0.15535\n",
      "Thresholded at 0.05: \n",
      "\tCorrect (67) \t|\t\tIncorrect (15)\n",
      "\n",
      "Frame #463\t\tParent #400\t\tDistance to parent: d=0.3930\n",
      "*** Partial annotations available for 82 keypoints\n"
     ]
    },
    {
     "data": {
      "text/plain": "Tracking:   0%|          | 0/40 [00:00<?, ?epochs/s]",
      "application/vnd.jupyter.widget-view+json": {
       "version_major": 2,
       "version_minor": 0,
       "model_id": "f15113a3d0a6420d875403722772a18e"
      }
     },
     "metadata": {},
     "output_type": "display_data"
    },
    {
     "name": "stdout",
     "output_type": "stream",
     "text": [
      "Mean diff between min and next min: \n",
      "\tCorrect (57): 0.06107 | 0.14643\n",
      "\tIncorrect (121): 0.02415 | 0.10314\n",
      "Thresholded at 0.05: \n",
      "\tCorrect (29) \t|\t\tIncorrect (12)\n",
      "\n",
      "Frame #498\t\tParent #400\t\tDistance to parent: d=0.4452\n",
      "*** Partial annotations available for 41 keypoints\n"
     ]
    },
    {
     "data": {
      "text/plain": "Tracking:   0%|          | 0/40 [00:00<?, ?epochs/s]",
      "application/vnd.jupyter.widget-view+json": {
       "version_major": 2,
       "version_minor": 0,
       "model_id": "20a1aecc99864d14873477d329d0c533"
      }
     },
     "metadata": {},
     "output_type": "display_data"
    },
    {
     "name": "stdout",
     "output_type": "stream",
     "text": [
      "Mean diff between min and next min: \n",
      "\tCorrect (62): 0.05284 | 0.13446\n",
      "\tIncorrect (116): 0.02436 | 0.11534\n",
      "Thresholded at 0.05: \n",
      "\tCorrect (29) \t|\t\tIncorrect (12)\n",
      "\n",
      "Frame #600\t\tParent #400\t\tDistance to parent: d=0.4565\n",
      "*** Partial annotations available for 41 keypoints\n"
     ]
    },
    {
     "data": {
      "text/plain": "Tracking:   0%|          | 0/40 [00:00<?, ?epochs/s]",
      "application/vnd.jupyter.widget-view+json": {
       "version_major": 2,
       "version_minor": 0,
       "model_id": "fb0640a15c694f4382152260aaa05620"
      }
     },
     "metadata": {},
     "output_type": "display_data"
    },
    {
     "name": "stdout",
     "output_type": "stream",
     "text": [
      "Mean diff between min and next min: \n",
      "\tCorrect (57): 0.06203 | 0.17729\n",
      "\tIncorrect (121): 0.02716 | 0.13013\n",
      "Thresholded at 0.05: \n",
      "\tCorrect (31) \t|\t\tIncorrect (16)\n",
      "\n",
      "Frame #640\t\tParent #400\t\tDistance to parent: d=0.4532\n",
      "*** Partial annotations available for 47 keypoints\n"
     ]
    },
    {
     "data": {
      "text/plain": "Tracking:   0%|          | 0/40 [00:00<?, ?epochs/s]",
      "application/vnd.jupyter.widget-view+json": {
       "version_major": 2,
       "version_minor": 0,
       "model_id": "b6c1cfa98b664ffc8ca6316ffdc1dc16"
      }
     },
     "metadata": {},
     "output_type": "display_data"
    },
    {
     "name": "stdout",
     "output_type": "stream",
     "text": [
      "Mean diff between min and next min: \n",
      "\tCorrect (24): 0.04233 | 0.16919\n",
      "\tIncorrect (154): 0.02349 | 0.13122\n",
      "Thresholded at 0.05: \n",
      "\tCorrect (9) \t|\t\tIncorrect (19)\n",
      "\n",
      "Frame #656\t\tParent #400\t\tDistance to parent: d=0.6030\n",
      "*** Partial annotations available for 28 keypoints\n"
     ]
    },
    {
     "data": {
      "text/plain": "Tracking:   0%|          | 0/40 [00:00<?, ?epochs/s]",
      "application/vnd.jupyter.widget-view+json": {
       "version_major": 2,
       "version_minor": 0,
       "model_id": "8f49a838ab994fc8a0aef3eb5912d3ff"
      }
     },
     "metadata": {},
     "output_type": "display_data"
    },
    {
     "name": "stdout",
     "output_type": "stream",
     "text": [
      "Mean diff between min and next min: \n",
      "\tCorrect (51): 0.05488 | 0.19578\n",
      "\tIncorrect (127): 0.02390 | 0.11697\n",
      "Thresholded at 0.05: \n",
      "\tCorrect (20) \t|\t\tIncorrect (20)\n",
      "\n",
      "Frame #672\t\tParent #400\t\tDistance to parent: d=0.4766\n",
      "*** Partial annotations available for 40 keypoints\n"
     ]
    },
    {
     "data": {
      "text/plain": "Tracking:   0%|          | 0/40 [00:00<?, ?epochs/s]",
      "application/vnd.jupyter.widget-view+json": {
       "version_major": 2,
       "version_minor": 0,
       "model_id": "9c9c683412114c29a22c916fb46fe5b2"
      }
     },
     "metadata": {},
     "output_type": "display_data"
    },
    {
     "name": "stdout",
     "output_type": "stream",
     "text": [
      "Mean diff between min and next min: \n",
      "\tCorrect (16): 0.04998 | 0.16183\n",
      "\tIncorrect (162): 0.01987 | 0.16647\n",
      "Thresholded at 0.05: \n",
      "\tCorrect (5) \t|\t\tIncorrect (13)\n",
      "\n",
      "Frame #700\t\tParent #400\t\tDistance to parent: d=0.6549\n",
      "*** Partial annotations available for 18 keypoints\n"
     ]
    },
    {
     "data": {
      "text/plain": "Tracking:   0%|          | 0/40 [00:00<?, ?epochs/s]",
      "application/vnd.jupyter.widget-view+json": {
       "version_major": 2,
       "version_minor": 0,
       "model_id": "a91469f9304744829349f0194ebbdf4d"
      }
     },
     "metadata": {},
     "output_type": "display_data"
    },
    {
     "name": "stdout",
     "output_type": "stream",
     "text": [
      "Mean diff between min and next min: \n",
      "\tCorrect (68): 0.06639 | 0.18699\n",
      "\tIncorrect (110): 0.02623 | 0.10047\n",
      "Thresholded at 0.05: \n",
      "\tCorrect (40) \t|\t\tIncorrect (17)\n",
      "\n",
      "Frame #764\t\tParent #400\t\tDistance to parent: d=0.4414\n",
      "*** Partial annotations available for 57 keypoints\n"
     ]
    },
    {
     "data": {
      "text/plain": "Tracking:   0%|          | 0/40 [00:00<?, ?epochs/s]",
      "application/vnd.jupyter.widget-view+json": {
       "version_major": 2,
       "version_minor": 0,
       "model_id": "b7cc88e8c2154eecaa32f7e4083a7881"
      }
     },
     "metadata": {},
     "output_type": "display_data"
    },
    {
     "name": "stdout",
     "output_type": "stream",
     "text": [
      "Mean diff between min and next min: \n",
      "\tCorrect (47): 0.06350 | 0.18569\n",
      "\tIncorrect (131): 0.02751 | 0.13514\n",
      "Thresholded at 0.05: \n",
      "\tCorrect (28) \t|\t\tIncorrect (21)\n",
      "\n",
      "Frame #800\t\tParent #400\t\tDistance to parent: d=0.5004\n",
      "*** Partial annotations available for 49 keypoints\n"
     ]
    },
    {
     "data": {
      "text/plain": "Tracking:   0%|          | 0/40 [00:00<?, ?epochs/s]",
      "application/vnd.jupyter.widget-view+json": {
       "version_major": 2,
       "version_minor": 0,
       "model_id": "55fba6e3670d4fd19278d63d14400ac1"
      }
     },
     "metadata": {},
     "output_type": "display_data"
    },
    {
     "name": "stdout",
     "output_type": "stream",
     "text": [
      "Mean diff between min and next min: \n",
      "\tCorrect (28): 0.04164 | 0.19874\n",
      "\tIncorrect (150): 0.02404 | 0.12179\n",
      "Thresholded at 0.05: \n",
      "\tCorrect (9) \t|\t\tIncorrect (14)\n",
      "\n",
      "Frame #806\t\tParent #400\t\tDistance to parent: d=0.5890\n",
      "*** Partial annotations available for 23 keypoints\n"
     ]
    },
    {
     "data": {
      "text/plain": "Tracking:   0%|          | 0/40 [00:00<?, ?epochs/s]",
      "application/vnd.jupyter.widget-view+json": {
       "version_major": 2,
       "version_minor": 0,
       "model_id": "86899754c39f4d96bf8e05641e8217a5"
      }
     },
     "metadata": {},
     "output_type": "display_data"
    },
    {
     "name": "stdout",
     "output_type": "stream",
     "text": [
      "Mean diff between min and next min: \n",
      "\tCorrect (47): 0.06459 | 0.19592\n",
      "\tIncorrect (131): 0.02464 | 0.15205\n",
      "Thresholded at 0.05: \n",
      "\tCorrect (23) \t|\t\tIncorrect (17)\n",
      "\n",
      "Frame #881\t\tParent #400\t\tDistance to parent: d=0.4220\n",
      "*** Partial annotations available for 40 keypoints\n"
     ]
    },
    {
     "data": {
      "text/plain": "Tracking:   0%|          | 0/40 [00:00<?, ?epochs/s]",
      "application/vnd.jupyter.widget-view+json": {
       "version_major": 2,
       "version_minor": 0,
       "model_id": "5084831f35bd4f19ba3dc7c6a4515038"
      }
     },
     "metadata": {},
     "output_type": "display_data"
    },
    {
     "name": "stdout",
     "output_type": "stream",
     "text": [
      "Mean diff between min and next min: \n",
      "\tCorrect (65): 0.06054 | 0.19639\n",
      "\tIncorrect (113): 0.02452 | 0.12370\n",
      "Thresholded at 0.05: \n",
      "\tCorrect (33) \t|\t\tIncorrect (16)\n",
      "\n",
      "Frame #900\t\tParent #400\t\tDistance to parent: d=0.4167\n",
      "*** Partial annotations available for 49 keypoints\n"
     ]
    },
    {
     "data": {
      "text/plain": "Tracking:   0%|          | 0/40 [00:00<?, ?epochs/s]",
      "application/vnd.jupyter.widget-view+json": {
       "version_major": 2,
       "version_minor": 0,
       "model_id": "dadf6213314e45a99e12d43d73a72e5f"
      }
     },
     "metadata": {},
     "output_type": "display_data"
    },
    {
     "name": "stdout",
     "output_type": "stream",
     "text": [
      "Mean diff between min and next min: \n",
      "\tCorrect (54): 0.07492 | 0.19054\n",
      "\tIncorrect (124): 0.02759 | 0.15722\n",
      "Thresholded at 0.05: \n",
      "\tCorrect (31) \t|\t\tIncorrect (18)\n",
      "\n",
      "Frame #1000\t\tParent #400\t\tDistance to parent: d=0.4106\n",
      "*** Partial annotations available for 49 keypoints\n"
     ]
    },
    {
     "data": {
      "text/plain": "Tracking:   0%|          | 0/40 [00:00<?, ?epochs/s]",
      "application/vnd.jupyter.widget-view+json": {
       "version_major": 2,
       "version_minor": 0,
       "model_id": "8989fb58e4ce40cc8d1e88eca1e7e780"
      }
     },
     "metadata": {},
     "output_type": "display_data"
    },
    {
     "name": "stdout",
     "output_type": "stream",
     "text": [
      "Mean diff between min and next min: \n",
      "\tCorrect (47): 0.07352 | 0.21452\n",
      "\tIncorrect (131): 0.02682 | 0.17608\n",
      "Thresholded at 0.05: \n",
      "\tCorrect (28) \t|\t\tIncorrect (18)\n",
      "\n",
      "Frame #1038\t\tParent #400\t\tDistance to parent: d=0.4321\n",
      "*** Partial annotations available for 46 keypoints\n"
     ]
    },
    {
     "data": {
      "text/plain": "Tracking:   0%|          | 0/40 [00:00<?, ?epochs/s]",
      "application/vnd.jupyter.widget-view+json": {
       "version_major": 2,
       "version_minor": 0,
       "model_id": "f05a442ae6964f48892444266ac679a9"
      }
     },
     "metadata": {},
     "output_type": "display_data"
    },
    {
     "name": "stdout",
     "output_type": "stream",
     "text": [
      "Mean diff between min and next min: \n",
      "\tCorrect (64): 0.04464 | 0.14988\n",
      "\tIncorrect (114): 0.02318 | 0.10815\n",
      "Thresholded at 0.05: \n",
      "\tCorrect (22) \t|\t\tIncorrect (6)\n",
      "\n",
      "Frame #463\t\tParent #444\t\tDistance to parent: d=0.3918\n",
      "*** Partial annotations available for 28 keypoints\n"
     ]
    },
    {
     "data": {
      "text/plain": "Tracking:   0%|          | 0/40 [00:00<?, ?epochs/s]",
      "application/vnd.jupyter.widget-view+json": {
       "version_major": 2,
       "version_minor": 0,
       "model_id": "46d68128fe6044e4be1a6525344cf128"
      }
     },
     "metadata": {},
     "output_type": "display_data"
    },
    {
     "name": "stdout",
     "output_type": "stream",
     "text": [
      "Mean diff between min and next min: \n",
      "\tCorrect (85): 0.07102 | 0.16920\n",
      "\tIncorrect (93): 0.02346 | 0.07772\n",
      "Thresholded at 0.05: \n",
      "\tCorrect (58) \t|\t\tIncorrect (7)\n",
      "\n",
      "Frame #498\t\tParent #444\t\tDistance to parent: d=0.3276\n",
      "*** Partial annotations available for 65 keypoints\n"
     ]
    },
    {
     "data": {
      "text/plain": "Tracking:   0%|          | 0/40 [00:00<?, ?epochs/s]",
      "application/vnd.jupyter.widget-view+json": {
       "version_major": 2,
       "version_minor": 0,
       "model_id": "c705b927b46643b0bcca4eb8bb7b7b72"
      }
     },
     "metadata": {},
     "output_type": "display_data"
    },
    {
     "name": "stdout",
     "output_type": "stream",
     "text": [
      "Mean diff between min and next min: \n",
      "\tCorrect (79): 0.06513 | 0.16453\n",
      "\tIncorrect (99): 0.02468 | 0.07632\n",
      "Thresholded at 0.05: \n",
      "\tCorrect (51) \t|\t\tIncorrect (8)\n",
      "\n",
      "Frame #600\t\tParent #444\t\tDistance to parent: d=0.3329\n",
      "*** Partial annotations available for 59 keypoints\n"
     ]
    },
    {
     "data": {
      "text/plain": "Tracking:   0%|          | 0/40 [00:00<?, ?epochs/s]",
      "application/vnd.jupyter.widget-view+json": {
       "version_major": 2,
       "version_minor": 0,
       "model_id": "ef246fe163cf473ba0f8712e70ce4ceb"
      }
     },
     "metadata": {},
     "output_type": "display_data"
    },
    {
     "name": "stdout",
     "output_type": "stream",
     "text": [
      "Mean diff between min and next min: \n",
      "\tCorrect (73): 0.05182 | 0.14740\n",
      "\tIncorrect (105): 0.02009 | 0.08043\n",
      "Thresholded at 0.05: \n",
      "\tCorrect (34) \t|\t\tIncorrect (7)\n",
      "\n",
      "Frame #640\t\tParent #444\t\tDistance to parent: d=0.2995\n",
      "*** Partial annotations available for 41 keypoints\n"
     ]
    },
    {
     "data": {
      "text/plain": "Tracking:   0%|          | 0/40 [00:00<?, ?epochs/s]",
      "application/vnd.jupyter.widget-view+json": {
       "version_major": 2,
       "version_minor": 0,
       "model_id": "07a48ec41f6e45f3846da7c93d76191a"
      }
     },
     "metadata": {},
     "output_type": "display_data"
    },
    {
     "name": "stdout",
     "output_type": "stream",
     "text": [
      "Mean diff between min and next min: \n",
      "\tCorrect (72): 0.05609 | 0.21709\n",
      "\tIncorrect (106): 0.03230 | 0.10641\n",
      "Thresholded at 0.05: \n",
      "\tCorrect (37) \t|\t\tIncorrect (25)\n",
      "\n",
      "Frame #656\t\tParent #444\t\tDistance to parent: d=0.1462\n",
      "*** Partial annotations available for 62 keypoints\n"
     ]
    },
    {
     "data": {
      "text/plain": "Tracking:   0%|          | 0/40 [00:00<?, ?epochs/s]",
      "application/vnd.jupyter.widget-view+json": {
       "version_major": 2,
       "version_minor": 0,
       "model_id": "4f3a03ad2df94648952adf2e0de94907"
      }
     },
     "metadata": {},
     "output_type": "display_data"
    },
    {
     "name": "stdout",
     "output_type": "stream",
     "text": [
      "Mean diff between min and next min: \n",
      "\tCorrect (23): 0.03292 | 0.11853\n",
      "\tIncorrect (155): 0.02057 | 0.11836\n",
      "Thresholded at 0.05: \n",
      "\tCorrect (4) \t|\t\tIncorrect (12)\n",
      "\n",
      "Frame #672\t\tParent #444\t\tDistance to parent: d=0.4638\n",
      "*** Partial annotations available for 16 keypoints\n"
     ]
    },
    {
     "data": {
      "text/plain": "Tracking:   0%|          | 0/40 [00:00<?, ?epochs/s]",
      "application/vnd.jupyter.widget-view+json": {
       "version_major": 2,
       "version_minor": 0,
       "model_id": "75315b80447a40668eb0d45582787613"
      }
     },
     "metadata": {},
     "output_type": "display_data"
    },
    {
     "name": "stdout",
     "output_type": "stream",
     "text": [
      "Mean diff between min and next min: \n",
      "\tCorrect (113): 0.06924 | 0.24249\n",
      "\tIncorrect (65): 0.02155 | 0.12230\n",
      "Thresholded at 0.05: \n",
      "\tCorrect (73) \t|\t\tIncorrect (6)\n",
      "\n",
      "Frame #700\t\tParent #444\t\tDistance to parent: d=0.0901\n",
      "*** Partial annotations available for 79 keypoints\n"
     ]
    },
    {
     "data": {
      "text/plain": "Tracking:   0%|          | 0/40 [00:00<?, ?epochs/s]",
      "application/vnd.jupyter.widget-view+json": {
       "version_major": 2,
       "version_minor": 0,
       "model_id": "f36594d314624becb0ebf11eccf45915"
      }
     },
     "metadata": {},
     "output_type": "display_data"
    },
    {
     "name": "stdout",
     "output_type": "stream",
     "text": [
      "Mean diff between min and next min: \n",
      "\tCorrect (24): 0.03780 | 0.10515\n",
      "\tIncorrect (154): 0.02423 | 0.09341\n",
      "Thresholded at 0.05: \n",
      "\tCorrect (8) \t|\t\tIncorrect (18)\n",
      "\n",
      "Frame #764\t\tParent #444\t\tDistance to parent: d=0.4408\n",
      "*** Partial annotations available for 26 keypoints\n"
     ]
    },
    {
     "data": {
      "text/plain": "Tracking:   0%|          | 0/40 [00:00<?, ?epochs/s]",
      "application/vnd.jupyter.widget-view+json": {
       "version_major": 2,
       "version_minor": 0,
       "model_id": "ebdf5dc539b347bd9ca5de6e3baf2663"
      }
     },
     "metadata": {},
     "output_type": "display_data"
    },
    {
     "name": "stdout",
     "output_type": "stream",
     "text": [
      "Mean diff between min and next min: \n",
      "\tCorrect (65): 0.04995 | 0.16174\n",
      "\tIncorrect (113): 0.02632 | 0.09949\n",
      "Thresholded at 0.05: \n",
      "\tCorrect (36) \t|\t\tIncorrect (21)\n",
      "\n",
      "Frame #800\t\tParent #444\t\tDistance to parent: d=0.2598\n",
      "*** Partial annotations available for 57 keypoints\n"
     ]
    },
    {
     "data": {
      "text/plain": "Tracking:   0%|          | 0/40 [00:00<?, ?epochs/s]",
      "application/vnd.jupyter.widget-view+json": {
       "version_major": 2,
       "version_minor": 0,
       "model_id": "0a3ab46776fe4c4bac2cdbb3eb58d920"
      }
     },
     "metadata": {},
     "output_type": "display_data"
    },
    {
     "name": "stdout",
     "output_type": "stream",
     "text": [
      "Mean diff between min and next min: \n",
      "\tCorrect (120): 0.06534 | 0.26895\n",
      "\tIncorrect (58): 0.02312 | 0.09073\n",
      "Thresholded at 0.05: \n",
      "\tCorrect (73) \t|\t\tIncorrect (8)\n",
      "\n",
      "Frame #806\t\tParent #444\t\tDistance to parent: d=0.0995\n",
      "*** Partial annotations available for 81 keypoints\n"
     ]
    },
    {
     "data": {
      "text/plain": "Tracking:   0%|          | 0/40 [00:00<?, ?epochs/s]",
      "application/vnd.jupyter.widget-view+json": {
       "version_major": 2,
       "version_minor": 0,
       "model_id": "8d2983d50c1f40a897fa128890b682a8"
      }
     },
     "metadata": {},
     "output_type": "display_data"
    },
    {
     "name": "stdout",
     "output_type": "stream",
     "text": [
      "Mean diff between min and next min: \n",
      "\tCorrect (55): 0.05934 | 0.16405\n",
      "\tIncorrect (123): 0.02262 | 0.06990\n",
      "Thresholded at 0.05: \n",
      "\tCorrect (33) \t|\t\tIncorrect (11)\n",
      "\n",
      "Frame #881\t\tParent #444\t\tDistance to parent: d=0.3712\n",
      "*** Partial annotations available for 44 keypoints\n"
     ]
    },
    {
     "data": {
      "text/plain": "Tracking:   0%|          | 0/40 [00:00<?, ?epochs/s]",
      "application/vnd.jupyter.widget-view+json": {
       "version_major": 2,
       "version_minor": 0,
       "model_id": "0637334b8c854ec4bd48ef763712ee3c"
      }
     },
     "metadata": {},
     "output_type": "display_data"
    },
    {
     "name": "stdout",
     "output_type": "stream",
     "text": [
      "Mean diff between min and next min: \n",
      "\tCorrect (26): 0.03212 | 0.08819\n",
      "\tIncorrect (152): 0.02511 | 0.11615\n",
      "Thresholded at 0.05: \n",
      "\tCorrect (6) \t|\t\tIncorrect (22)\n",
      "\n",
      "Frame #900\t\tParent #444\t\tDistance to parent: d=0.4153\n",
      "*** Partial annotations available for 28 keypoints\n"
     ]
    },
    {
     "data": {
      "text/plain": "Tracking:   0%|          | 0/40 [00:00<?, ?epochs/s]",
      "application/vnd.jupyter.widget-view+json": {
       "version_major": 2,
       "version_minor": 0,
       "model_id": "791faaf4e2a9458095e40c448d88eb71"
      }
     },
     "metadata": {},
     "output_type": "display_data"
    },
    {
     "name": "stdout",
     "output_type": "stream",
     "text": [
      "Mean diff between min and next min: \n",
      "\tCorrect (39): 0.04322 | 0.15088\n",
      "\tIncorrect (139): 0.02190 | 0.11442\n",
      "Thresholded at 0.05: \n",
      "\tCorrect (16) \t|\t\tIncorrect (13)\n",
      "\n",
      "Frame #1000\t\tParent #444\t\tDistance to parent: d=0.3815\n",
      "*** Partial annotations available for 29 keypoints\n"
     ]
    },
    {
     "data": {
      "text/plain": "Tracking:   0%|          | 0/40 [00:00<?, ?epochs/s]",
      "application/vnd.jupyter.widget-view+json": {
       "version_major": 2,
       "version_minor": 0,
       "model_id": "a9b8871550154d62a492ba26e546194f"
      }
     },
     "metadata": {},
     "output_type": "display_data"
    },
    {
     "name": "stdout",
     "output_type": "stream",
     "text": [
      "Mean diff between min and next min: \n",
      "\tCorrect (32): 0.03805 | 0.12871\n",
      "\tIncorrect (146): 0.02534 | 0.09998\n",
      "Thresholded at 0.05: \n",
      "\tCorrect (6) \t|\t\tIncorrect (13)\n",
      "\n",
      "Frame #1038\t\tParent #444\t\tDistance to parent: d=0.3990\n",
      "*** Partial annotations available for 19 keypoints\n"
     ]
    },
    {
     "data": {
      "text/plain": "Tracking:   0%|          | 0/40 [00:00<?, ?epochs/s]",
      "application/vnd.jupyter.widget-view+json": {
       "version_major": 2,
       "version_minor": 0,
       "model_id": "b4be373772ed4308b1fdb84c8fd4dc1b"
      }
     },
     "metadata": {},
     "output_type": "display_data"
    },
    {
     "name": "stdout",
     "output_type": "stream",
     "text": [
      "Mean diff between min and next min: \n",
      "\tCorrect (124): 0.08656 | 0.27565\n",
      "\tIncorrect (54): 0.02993 | 0.09210\n",
      "Thresholded at 0.05: \n",
      "\tCorrect (96) \t|\t\tIncorrect (11)\n",
      "\n",
      "Frame #498\t\tParent #463\t\tDistance to parent: d=0.0909\n",
      "*** Partial annotations available for 107 keypoints\n"
     ]
    },
    {
     "data": {
      "text/plain": "Tracking:   0%|          | 0/40 [00:00<?, ?epochs/s]",
      "application/vnd.jupyter.widget-view+json": {
       "version_major": 2,
       "version_minor": 0,
       "model_id": "34258dc1cd2d45d3bb28d6c586dd04bd"
      }
     },
     "metadata": {},
     "output_type": "display_data"
    },
    {
     "name": "stdout",
     "output_type": "stream",
     "text": [
      "Mean diff between min and next min: \n",
      "\tCorrect (127): 0.08475 | 0.23710\n",
      "\tIncorrect (51): 0.02691 | 0.10273\n",
      "Thresholded at 0.05: \n",
      "\tCorrect (91) \t|\t\tIncorrect (7)\n",
      "\n",
      "Frame #600\t\tParent #463\t\tDistance to parent: d=0.0829\n",
      "*** Partial annotations available for 98 keypoints\n"
     ]
    },
    {
     "data": {
      "text/plain": "Tracking:   0%|          | 0/40 [00:00<?, ?epochs/s]",
      "application/vnd.jupyter.widget-view+json": {
       "version_major": 2,
       "version_minor": 0,
       "model_id": "cf1b1501136e48df8490902cb59c20d6"
      }
     },
     "metadata": {},
     "output_type": "display_data"
    },
    {
     "name": "stdout",
     "output_type": "stream",
     "text": [
      "Mean diff between min and next min: \n",
      "\tCorrect (111): 0.08415 | 0.21833\n",
      "\tIncorrect (67): 0.02506 | 0.10956\n",
      "Thresholded at 0.05: \n",
      "\tCorrect (82) \t|\t\tIncorrect (7)\n",
      "\n",
      "Frame #640\t\tParent #463\t\tDistance to parent: d=0.1254\n",
      "*** Partial annotations available for 89 keypoints\n"
     ]
    },
    {
     "data": {
      "text/plain": "Tracking:   0%|          | 0/40 [00:00<?, ?epochs/s]",
      "application/vnd.jupyter.widget-view+json": {
       "version_major": 2,
       "version_minor": 0,
       "model_id": "f2924182bac44c4c808d743d00bc8a77"
      }
     },
     "metadata": {},
     "output_type": "display_data"
    },
    {
     "name": "stdout",
     "output_type": "stream",
     "text": [
      "Mean diff between min and next min: \n",
      "\tCorrect (38): 0.04148 | 0.22954\n",
      "\tIncorrect (140): 0.02289 | 0.13809\n",
      "Thresholded at 0.05: \n",
      "\tCorrect (10) \t|\t\tIncorrect (15)\n",
      "\n",
      "Frame #656\t\tParent #463\t\tDistance to parent: d=0.3481\n",
      "*** Partial annotations available for 25 keypoints\n"
     ]
    },
    {
     "data": {
      "text/plain": "Tracking:   0%|          | 0/40 [00:00<?, ?epochs/s]",
      "application/vnd.jupyter.widget-view+json": {
       "version_major": 2,
       "version_minor": 0,
       "model_id": "837db821920840529178c254df266f04"
      }
     },
     "metadata": {},
     "output_type": "display_data"
    },
    {
     "name": "stdout",
     "output_type": "stream",
     "text": [
      "Mean diff between min and next min: \n",
      "\tCorrect (111): 0.06881 | 0.18931\n",
      "\tIncorrect (67): 0.02197 | 0.13972\n",
      "Thresholded at 0.05: \n",
      "\tCorrect (64) \t|\t\tIncorrect (7)\n",
      "\n",
      "Frame #672\t\tParent #463\t\tDistance to parent: d=0.1248\n",
      "*** Partial annotations available for 71 keypoints\n"
     ]
    },
    {
     "data": {
      "text/plain": "Tracking:   0%|          | 0/40 [00:00<?, ?epochs/s]",
      "application/vnd.jupyter.widget-view+json": {
       "version_major": 2,
       "version_minor": 0,
       "model_id": "24f1c399e2984a8681a0b682506580a2"
      }
     },
     "metadata": {},
     "output_type": "display_data"
    },
    {
     "name": "stdout",
     "output_type": "stream",
     "text": [
      "Mean diff between min and next min: \n",
      "\tCorrect (38): 0.03791 | 0.18233\n",
      "\tIncorrect (140): 0.02080 | 0.14705\n",
      "Thresholded at 0.05: \n",
      "\tCorrect (8) \t|\t\tIncorrect (8)\n",
      "\n",
      "Frame #700\t\tParent #463\t\tDistance to parent: d=0.4413\n",
      "*** Partial annotations available for 16 keypoints\n"
     ]
    },
    {
     "data": {
      "text/plain": "Tracking:   0%|          | 0/40 [00:00<?, ?epochs/s]",
      "application/vnd.jupyter.widget-view+json": {
       "version_major": 2,
       "version_minor": 0,
       "model_id": "6917f6ecc6ed4b4abbddf3b2647a1b20"
      }
     },
     "metadata": {},
     "output_type": "display_data"
    },
    {
     "name": "stdout",
     "output_type": "stream",
     "text": [
      "Mean diff between min and next min: \n",
      "\tCorrect (133): 0.07839 | 0.16753\n",
      "\tIncorrect (45): 0.02465 | 0.14647\n",
      "Thresholded at 0.05: \n",
      "\tCorrect (95) \t|\t\tIncorrect (8)\n",
      "\n",
      "Frame #764\t\tParent #463\t\tDistance to parent: d=0.1096\n",
      "*** Partial annotations available for 103 keypoints\n"
     ]
    },
    {
     "data": {
      "text/plain": "Tracking:   0%|          | 0/40 [00:00<?, ?epochs/s]",
      "application/vnd.jupyter.widget-view+json": {
       "version_major": 2,
       "version_minor": 0,
       "model_id": "3ac6cf1284d147dd89103c5b2c1b25f7"
      }
     },
     "metadata": {},
     "output_type": "display_data"
    },
    {
     "name": "stdout",
     "output_type": "stream",
     "text": [
      "Mean diff between min and next min: \n",
      "\tCorrect (82): 0.06407 | 0.18539\n",
      "\tIncorrect (96): 0.02965 | 0.13089\n",
      "Thresholded at 0.05: \n",
      "\tCorrect (49) \t|\t\tIncorrect (15)\n",
      "\n",
      "Frame #800\t\tParent #463\t\tDistance to parent: d=0.2001\n",
      "*** Partial annotations available for 64 keypoints\n"
     ]
    },
    {
     "data": {
      "text/plain": "Tracking:   0%|          | 0/40 [00:00<?, ?epochs/s]",
      "application/vnd.jupyter.widget-view+json": {
       "version_major": 2,
       "version_minor": 0,
       "model_id": "834a9711cdb14334a77ec61fc4b498df"
      }
     },
     "metadata": {},
     "output_type": "display_data"
    },
    {
     "name": "stdout",
     "output_type": "stream",
     "text": [
      "Mean diff between min and next min: \n",
      "\tCorrect (49): 0.04566 | 0.15961\n",
      "\tIncorrect (129): 0.02448 | 0.15801\n",
      "Thresholded at 0.05: \n",
      "\tCorrect (16) \t|\t\tIncorrect (15)\n",
      "\n",
      "Frame #806\t\tParent #463\t\tDistance to parent: d=0.3645\n",
      "*** Partial annotations available for 31 keypoints\n"
     ]
    },
    {
     "data": {
      "text/plain": "Tracking:   0%|          | 0/40 [00:00<?, ?epochs/s]",
      "application/vnd.jupyter.widget-view+json": {
       "version_major": 2,
       "version_minor": 0,
       "model_id": "42de5decf9e545929fdcc092ad884649"
      }
     },
     "metadata": {},
     "output_type": "display_data"
    },
    {
     "name": "stdout",
     "output_type": "stream",
     "text": [
      "Mean diff between min and next min: \n",
      "\tCorrect (76): 0.07547 | 0.20112\n",
      "\tIncorrect (102): 0.02742 | 0.14137\n",
      "Thresholded at 0.05: \n",
      "\tCorrect (44) \t|\t\tIncorrect (16)\n",
      "\n",
      "Frame #881\t\tParent #463\t\tDistance to parent: d=0.0909\n",
      "*** Partial annotations available for 60 keypoints\n"
     ]
    },
    {
     "data": {
      "text/plain": "Tracking:   0%|          | 0/40 [00:00<?, ?epochs/s]",
      "application/vnd.jupyter.widget-view+json": {
       "version_major": 2,
       "version_minor": 0,
       "model_id": "1e2c38aca11d4e78a429b9375fa0a857"
      }
     },
     "metadata": {},
     "output_type": "display_data"
    },
    {
     "name": "stdout",
     "output_type": "stream",
     "text": [
      "Mean diff between min and next min: \n",
      "\tCorrect (119): 0.06943 | 0.23875\n",
      "\tIncorrect (59): 0.02142 | 0.08654\n",
      "Thresholded at 0.05: \n",
      "\tCorrect (76) \t|\t\tIncorrect (7)\n",
      "\n",
      "Frame #900\t\tParent #463\t\tDistance to parent: d=0.0732\n",
      "*** Partial annotations available for 83 keypoints\n"
     ]
    },
    {
     "data": {
      "text/plain": "Tracking:   0%|          | 0/40 [00:00<?, ?epochs/s]",
      "application/vnd.jupyter.widget-view+json": {
       "version_major": 2,
       "version_minor": 0,
       "model_id": "48d280e1f79846259c3d5ffb3f5cc4d2"
      }
     },
     "metadata": {},
     "output_type": "display_data"
    },
    {
     "name": "stdout",
     "output_type": "stream",
     "text": [
      "Mean diff between min and next min: \n",
      "\tCorrect (87): 0.07784 | 0.20366\n",
      "\tIncorrect (91): 0.02262 | 0.07986\n",
      "Thresholded at 0.05: \n",
      "\tCorrect (58) \t|\t\tIncorrect (11)\n",
      "\n",
      "Frame #1000\t\tParent #463\t\tDistance to parent: d=0.0712\n",
      "*** Partial annotations available for 69 keypoints\n"
     ]
    },
    {
     "data": {
      "text/plain": "Tracking:   0%|          | 0/40 [00:00<?, ?epochs/s]",
      "application/vnd.jupyter.widget-view+json": {
       "version_major": 2,
       "version_minor": 0,
       "model_id": "e4bd17cf8591426cbad1d29d82a12153"
      }
     },
     "metadata": {},
     "output_type": "display_data"
    },
    {
     "name": "stdout",
     "output_type": "stream",
     "text": [
      "Mean diff between min and next min: \n",
      "\tCorrect (94): 0.07096 | 0.20259\n",
      "\tIncorrect (84): 0.02364 | 0.10081\n",
      "Thresholded at 0.05: \n",
      "\tCorrect (54) \t|\t\tIncorrect (12)\n",
      "\n",
      "Frame #1038\t\tParent #463\t\tDistance to parent: d=0.0817\n",
      "*** Partial annotations available for 66 keypoints\n"
     ]
    },
    {
     "data": {
      "text/plain": "Tracking:   0%|          | 0/40 [00:00<?, ?epochs/s]",
      "application/vnd.jupyter.widget-view+json": {
       "version_major": 2,
       "version_minor": 0,
       "model_id": "3b7dd3fd174540909ae235cba1e706fd"
      }
     },
     "metadata": {},
     "output_type": "display_data"
    },
    {
     "name": "stdout",
     "output_type": "stream",
     "text": [
      "Mean diff between min and next min: \n",
      "\tCorrect (171): 0.15473 | 0.34149\n",
      "\tIncorrect (7): 0.03153 | 0.05297\n",
      "Thresholded at 0.05: \n",
      "\tCorrect (170) \t|\t\tIncorrect (1)\n",
      "\n",
      "Frame #600\t\tParent #498\t\tDistance to parent: d=0.0054\n",
      "*** Partial annotations available for 171 keypoints\n"
     ]
    },
    {
     "data": {
      "text/plain": "Tracking:   0%|          | 0/40 [00:00<?, ?epochs/s]",
      "application/vnd.jupyter.widget-view+json": {
       "version_major": 2,
       "version_minor": 0,
       "model_id": "9db0db199c3e4721af121dd42ec764ef"
      }
     },
     "metadata": {},
     "output_type": "display_data"
    },
    {
     "name": "stdout",
     "output_type": "stream",
     "text": [
      "Mean diff between min and next min: \n",
      "\tCorrect (159): 0.10923 | 0.25082\n",
      "\tIncorrect (19): 0.02324 | 0.06781\n",
      "Thresholded at 0.05: \n",
      "\tCorrect (139) \t|\t\tIncorrect (4)\n",
      "\n",
      "Frame #640\t\tParent #498\t\tDistance to parent: d=0.0351\n",
      "*** Partial annotations available for 143 keypoints\n"
     ]
    },
    {
     "data": {
      "text/plain": "Tracking:   0%|          | 0/40 [00:00<?, ?epochs/s]",
      "application/vnd.jupyter.widget-view+json": {
       "version_major": 2,
       "version_minor": 0,
       "model_id": "fd67cf0d673641e1b0c9dbfb4c45d4e6"
      }
     },
     "metadata": {},
     "output_type": "display_data"
    },
    {
     "name": "stdout",
     "output_type": "stream",
     "text": [
      "Mean diff between min and next min: \n",
      "\tCorrect (51): 0.06063 | 0.23841\n",
      "\tIncorrect (127): 0.02726 | 0.16399\n",
      "Thresholded at 0.05: \n",
      "\tCorrect (27) \t|\t\tIncorrect (20)\n",
      "\n",
      "Frame #656\t\tParent #498\t\tDistance to parent: d=0.2679\n",
      "*** Partial annotations available for 47 keypoints\n"
     ]
    },
    {
     "data": {
      "text/plain": "Tracking:   0%|          | 0/40 [00:00<?, ?epochs/s]",
      "application/vnd.jupyter.widget-view+json": {
       "version_major": 2,
       "version_minor": 0,
       "model_id": "ebbb9157411c400bbbc08563c9de7336"
      }
     },
     "metadata": {},
     "output_type": "display_data"
    },
    {
     "name": "stdout",
     "output_type": "stream",
     "text": [
      "Mean diff between min and next min: \n",
      "\tCorrect (72): 0.04758 | 0.13879\n",
      "\tIncorrect (106): 0.02004 | 0.11076\n",
      "Thresholded at 0.05: \n",
      "\tCorrect (31) \t|\t\tIncorrect (6)\n",
      "\n",
      "Frame #672\t\tParent #498\t\tDistance to parent: d=0.2473\n",
      "*** Partial annotations available for 37 keypoints\n"
     ]
    },
    {
     "data": {
      "text/plain": "Tracking:   0%|          | 0/40 [00:00<?, ?epochs/s]",
      "application/vnd.jupyter.widget-view+json": {
       "version_major": 2,
       "version_minor": 0,
       "model_id": "db0d45f9618943a68fc958c85503845e"
      }
     },
     "metadata": {},
     "output_type": "display_data"
    },
    {
     "name": "stdout",
     "output_type": "stream",
     "text": [
      "Mean diff between min and next min: \n",
      "\tCorrect (63): 0.05173 | 0.17698\n",
      "\tIncorrect (115): 0.02114 | 0.16218\n",
      "Thresholded at 0.05: \n",
      "\tCorrect (28) \t|\t\tIncorrect (9)\n",
      "\n",
      "Frame #700\t\tParent #498\t\tDistance to parent: d=0.3434\n",
      "*** Partial annotations available for 37 keypoints\n"
     ]
    },
    {
     "data": {
      "text/plain": "Tracking:   0%|          | 0/40 [00:00<?, ?epochs/s]",
      "application/vnd.jupyter.widget-view+json": {
       "version_major": 2,
       "version_minor": 0,
       "model_id": "87e71c03c52c4c2082463b56296bec31"
      }
     },
     "metadata": {},
     "output_type": "display_data"
    },
    {
     "name": "stdout",
     "output_type": "stream",
     "text": [
      "Mean diff between min and next min: \n",
      "\tCorrect (81): 0.05015 | 0.14235\n",
      "\tIncorrect (97): 0.02030 | 0.09213\n",
      "Thresholded at 0.05: \n",
      "\tCorrect (36) \t|\t\tIncorrect (10)\n",
      "\n",
      "Frame #764\t\tParent #498\t\tDistance to parent: d=0.2504\n",
      "*** Partial annotations available for 46 keypoints\n"
     ]
    },
    {
     "data": {
      "text/plain": "Tracking:   0%|          | 0/40 [00:00<?, ?epochs/s]",
      "application/vnd.jupyter.widget-view+json": {
       "version_major": 2,
       "version_minor": 0,
       "model_id": "b960a375d24246a895f4bcf4112dc178"
      }
     },
     "metadata": {},
     "output_type": "display_data"
    },
    {
     "name": "stdout",
     "output_type": "stream",
     "text": [
      "Mean diff between min and next min: \n",
      "\tCorrect (121): 0.08440 | 0.21131\n",
      "\tIncorrect (57): 0.03112 | 0.13526\n",
      "Thresholded at 0.05: \n",
      "\tCorrect (93) \t|\t\tIncorrect (13)\n",
      "\n",
      "Frame #800\t\tParent #498\t\tDistance to parent: d=0.0933\n",
      "*** Partial annotations available for 106 keypoints\n"
     ]
    },
    {
     "data": {
      "text/plain": "Tracking:   0%|          | 0/40 [00:00<?, ?epochs/s]",
      "application/vnd.jupyter.widget-view+json": {
       "version_major": 2,
       "version_minor": 0,
       "model_id": "36197ee5761d42309167ba6a48a9f698"
      }
     },
     "metadata": {},
     "output_type": "display_data"
    },
    {
     "name": "stdout",
     "output_type": "stream",
     "text": [
      "Mean diff between min and next min: \n",
      "\tCorrect (75): 0.06196 | 0.16307\n",
      "\tIncorrect (103): 0.02138 | 0.08684\n",
      "Thresholded at 0.05: \n",
      "\tCorrect (48) \t|\t\tIncorrect (10)\n",
      "\n",
      "Frame #806\t\tParent #498\t\tDistance to parent: d=0.2622\n",
      "*** Partial annotations available for 58 keypoints\n"
     ]
    },
    {
     "data": {
      "text/plain": "Tracking:   0%|          | 0/40 [00:00<?, ?epochs/s]",
      "application/vnd.jupyter.widget-view+json": {
       "version_major": 2,
       "version_minor": 0,
       "model_id": "1d98a470b5aa4e7aa88ac1c8b4ba73ae"
      }
     },
     "metadata": {},
     "output_type": "display_data"
    },
    {
     "name": "stdout",
     "output_type": "stream",
     "text": [
      "Mean diff between min and next min: \n",
      "\tCorrect (102): 0.08765 | 0.19714\n",
      "\tIncorrect (76): 0.02544 | 0.16278\n",
      "Thresholded at 0.05: \n",
      "\tCorrect (72) \t|\t\tIncorrect (10)\n",
      "\n",
      "Frame #881\t\tParent #498\t\tDistance to parent: d=0.0880\n",
      "*** Partial annotations available for 82 keypoints\n"
     ]
    },
    {
     "data": {
      "text/plain": "Tracking:   0%|          | 0/40 [00:00<?, ?epochs/s]",
      "application/vnd.jupyter.widget-view+json": {
       "version_major": 2,
       "version_minor": 0,
       "model_id": "4bc2eac046434eac907e0b27f40f4302"
      }
     },
     "metadata": {},
     "output_type": "display_data"
    },
    {
     "name": "stdout",
     "output_type": "stream",
     "text": [
      "Mean diff between min and next min: \n",
      "\tCorrect (69): 0.04511 | 0.17865\n",
      "\tIncorrect (109): 0.02579 | 0.09971\n",
      "Thresholded at 0.05: \n",
      "\tCorrect (25) \t|\t\tIncorrect (16)\n",
      "\n",
      "Frame #900\t\tParent #498\t\tDistance to parent: d=0.1875\n",
      "*** Partial annotations available for 41 keypoints\n"
     ]
    },
    {
     "data": {
      "text/plain": "Tracking:   0%|          | 0/40 [00:00<?, ?epochs/s]",
      "application/vnd.jupyter.widget-view+json": {
       "version_major": 2,
       "version_minor": 0,
       "model_id": "ee6fe8668f0440a6b984730cda57c092"
      }
     },
     "metadata": {},
     "output_type": "display_data"
    },
    {
     "name": "stdout",
     "output_type": "stream",
     "text": [
      "Mean diff between min and next min: \n",
      "\tCorrect (90): 0.05549 | 0.17219\n",
      "\tIncorrect (88): 0.02549 | 0.08752\n",
      "Thresholded at 0.05: \n",
      "\tCorrect (50) \t|\t\tIncorrect (11)\n",
      "\n",
      "Frame #1000\t\tParent #498\t\tDistance to parent: d=0.1187\n",
      "*** Partial annotations available for 61 keypoints\n"
     ]
    },
    {
     "data": {
      "text/plain": "Tracking:   0%|          | 0/40 [00:00<?, ?epochs/s]",
      "application/vnd.jupyter.widget-view+json": {
       "version_major": 2,
       "version_minor": 0,
       "model_id": "0a40c6afde9d40bf8fe0299de6992d01"
      }
     },
     "metadata": {},
     "output_type": "display_data"
    },
    {
     "name": "stdout",
     "output_type": "stream",
     "text": [
      "Mean diff between min and next min: \n",
      "\tCorrect (80): 0.05256 | 0.17410\n",
      "\tIncorrect (98): 0.02448 | 0.09601\n",
      "Thresholded at 0.05: \n",
      "\tCorrect (37) \t|\t\tIncorrect (16)\n",
      "\n",
      "Frame #1038\t\tParent #498\t\tDistance to parent: d=0.1449\n",
      "*** Partial annotations available for 53 keypoints\n"
     ]
    },
    {
     "data": {
      "text/plain": "Tracking:   0%|          | 0/40 [00:00<?, ?epochs/s]",
      "application/vnd.jupyter.widget-view+json": {
       "version_major": 2,
       "version_minor": 0,
       "model_id": "7b5d3dcdade84f7a94c55d8d114e773f"
      }
     },
     "metadata": {},
     "output_type": "display_data"
    },
    {
     "name": "stdout",
     "output_type": "stream",
     "text": [
      "Mean diff between min and next min: \n",
      "\tCorrect (159): 0.11760 | 0.25470\n",
      "\tIncorrect (19): 0.02271 | 0.06618\n",
      "Thresholded at 0.05: \n",
      "\tCorrect (140) \t|\t\tIncorrect (3)\n",
      "\n",
      "Frame #640\t\tParent #600\t\tDistance to parent: d=0.0343\n",
      "*** Partial annotations available for 143 keypoints\n"
     ]
    },
    {
     "data": {
      "text/plain": "Tracking:   0%|          | 0/40 [00:00<?, ?epochs/s]",
      "application/vnd.jupyter.widget-view+json": {
       "version_major": 2,
       "version_minor": 0,
       "model_id": "f6411a35c7b64624b13f9f85fff9a865"
      }
     },
     "metadata": {},
     "output_type": "display_data"
    },
    {
     "name": "stdout",
     "output_type": "stream",
     "text": [
      "Mean diff between min and next min: \n",
      "\tCorrect (46): 0.06442 | 0.23701\n",
      "\tIncorrect (132): 0.02414 | 0.14298\n",
      "Thresholded at 0.05: \n",
      "\tCorrect (24) \t|\t\tIncorrect (20)\n",
      "\n",
      "Frame #656\t\tParent #600\t\tDistance to parent: d=0.2823\n",
      "*** Partial annotations available for 44 keypoints\n"
     ]
    },
    {
     "data": {
      "text/plain": "Tracking:   0%|          | 0/40 [00:00<?, ?epochs/s]",
      "application/vnd.jupyter.widget-view+json": {
       "version_major": 2,
       "version_minor": 0,
       "model_id": "37c73f40584e4df1bef0a519eafe8455"
      }
     },
     "metadata": {},
     "output_type": "display_data"
    },
    {
     "name": "stdout",
     "output_type": "stream",
     "text": [
      "Mean diff between min and next min: \n",
      "\tCorrect (79): 0.05001 | 0.16146\n",
      "\tIncorrect (99): 0.02126 | 0.12834\n",
      "Thresholded at 0.05: \n",
      "\tCorrect (38) \t|\t\tIncorrect (12)\n",
      "\n",
      "Frame #672\t\tParent #600\t\tDistance to parent: d=0.2361\n",
      "*** Partial annotations available for 50 keypoints\n"
     ]
    },
    {
     "data": {
      "text/plain": "Tracking:   0%|          | 0/40 [00:00<?, ?epochs/s]",
      "application/vnd.jupyter.widget-view+json": {
       "version_major": 2,
       "version_minor": 0,
       "model_id": "04eaf5bcd7db4a7eb087d7f653c6fc70"
      }
     },
     "metadata": {},
     "output_type": "display_data"
    },
    {
     "name": "stdout",
     "output_type": "stream",
     "text": [
      "Mean diff between min and next min: \n",
      "\tCorrect (62): 0.05206 | 0.18880\n",
      "\tIncorrect (116): 0.02408 | 0.19694\n",
      "Thresholded at 0.05: \n",
      "\tCorrect (26) \t|\t\tIncorrect (14)\n",
      "\n",
      "Frame #700\t\tParent #600\t\tDistance to parent: d=0.3587\n",
      "*** Partial annotations available for 40 keypoints\n"
     ]
    },
    {
     "data": {
      "text/plain": "Tracking:   0%|          | 0/40 [00:00<?, ?epochs/s]",
      "application/vnd.jupyter.widget-view+json": {
       "version_major": 2,
       "version_minor": 0,
       "model_id": "80e27b5086af484fac043afd6da70717"
      }
     },
     "metadata": {},
     "output_type": "display_data"
    },
    {
     "name": "stdout",
     "output_type": "stream",
     "text": [
      "Mean diff between min and next min: \n",
      "\tCorrect (86): 0.05342 | 0.15964\n",
      "\tIncorrect (92): 0.02306 | 0.09674\n",
      "Thresholded at 0.05: \n",
      "\tCorrect (40) \t|\t\tIncorrect (14)\n",
      "\n",
      "Frame #764\t\tParent #600\t\tDistance to parent: d=0.2415\n",
      "*** Partial annotations available for 54 keypoints\n"
     ]
    },
    {
     "data": {
      "text/plain": "Tracking:   0%|          | 0/40 [00:00<?, ?epochs/s]",
      "application/vnd.jupyter.widget-view+json": {
       "version_major": 2,
       "version_minor": 0,
       "model_id": "8590afa82b0d45888ee8e0b19ae31455"
      }
     },
     "metadata": {},
     "output_type": "display_data"
    },
    {
     "name": "stdout",
     "output_type": "stream",
     "text": [
      "Mean diff between min and next min: \n",
      "\tCorrect (121): 0.08802 | 0.22941\n",
      "\tIncorrect (57): 0.03208 | 0.12400\n",
      "Thresholded at 0.05: \n",
      "\tCorrect (88) \t|\t\tIncorrect (14)\n",
      "\n",
      "Frame #800\t\tParent #600\t\tDistance to parent: d=0.1057\n",
      "*** Partial annotations available for 102 keypoints\n"
     ]
    },
    {
     "data": {
      "text/plain": "Tracking:   0%|          | 0/40 [00:00<?, ?epochs/s]",
      "application/vnd.jupyter.widget-view+json": {
       "version_major": 2,
       "version_minor": 0,
       "model_id": "868c62c6af594c969ff4d320beaefc94"
      }
     },
     "metadata": {},
     "output_type": "display_data"
    },
    {
     "name": "stdout",
     "output_type": "stream",
     "text": [
      "Mean diff between min and next min: \n",
      "\tCorrect (77): 0.06415 | 0.17304\n",
      "\tIncorrect (101): 0.02269 | 0.08928\n",
      "Thresholded at 0.05: \n",
      "\tCorrect (50) \t|\t\tIncorrect (11)\n",
      "\n",
      "Frame #806\t\tParent #600\t\tDistance to parent: d=0.2795\n",
      "*** Partial annotations available for 61 keypoints\n"
     ]
    },
    {
     "data": {
      "text/plain": "Tracking:   0%|          | 0/40 [00:00<?, ?epochs/s]",
      "application/vnd.jupyter.widget-view+json": {
       "version_major": 2,
       "version_minor": 0,
       "model_id": "3f8a1f50aaca453c9ba66bb4142e58bd"
      }
     },
     "metadata": {},
     "output_type": "display_data"
    },
    {
     "name": "stdout",
     "output_type": "stream",
     "text": [
      "Mean diff between min and next min: \n",
      "\tCorrect (107): 0.09548 | 0.21671\n",
      "\tIncorrect (71): 0.02772 | 0.16127\n",
      "Thresholded at 0.05: \n",
      "\tCorrect (83) \t|\t\tIncorrect (11)\n",
      "\n",
      "Frame #881\t\tParent #600\t\tDistance to parent: d=0.0859\n",
      "*** Partial annotations available for 94 keypoints\n"
     ]
    },
    {
     "data": {
      "text/plain": "Tracking:   0%|          | 0/40 [00:00<?, ?epochs/s]",
      "application/vnd.jupyter.widget-view+json": {
       "version_major": 2,
       "version_minor": 0,
       "model_id": "87d36672a8b04f149c410ebae4ef89a6"
      }
     },
     "metadata": {},
     "output_type": "display_data"
    },
    {
     "name": "stdout",
     "output_type": "stream",
     "text": [
      "Mean diff between min and next min: \n",
      "\tCorrect (77): 0.04599 | 0.13768\n",
      "\tIncorrect (101): 0.02603 | 0.09918\n",
      "Thresholded at 0.05: \n",
      "\tCorrect (31) \t|\t\tIncorrect (23)\n",
      "\n",
      "Frame #900\t\tParent #600\t\tDistance to parent: d=0.1819\n",
      "*** Partial annotations available for 54 keypoints\n"
     ]
    },
    {
     "data": {
      "text/plain": "Tracking:   0%|          | 0/40 [00:00<?, ?epochs/s]",
      "application/vnd.jupyter.widget-view+json": {
       "version_major": 2,
       "version_minor": 0,
       "model_id": "26a6c37aadb1413a9ec04b9a83b432ca"
      }
     },
     "metadata": {},
     "output_type": "display_data"
    },
    {
     "name": "stdout",
     "output_type": "stream",
     "text": [
      "Mean diff between min and next min: \n",
      "\tCorrect (91): 0.06102 | 0.16213\n",
      "\tIncorrect (87): 0.02755 | 0.12440\n",
      "Thresholded at 0.05: \n",
      "\tCorrect (57) \t|\t\tIncorrect (13)\n",
      "\n",
      "Frame #1000\t\tParent #600\t\tDistance to parent: d=0.1125\n",
      "*** Partial annotations available for 70 keypoints\n"
     ]
    },
    {
     "data": {
      "text/plain": "Tracking:   0%|          | 0/40 [00:00<?, ?epochs/s]",
      "application/vnd.jupyter.widget-view+json": {
       "version_major": 2,
       "version_minor": 0,
       "model_id": "64bea54cb1cc4a778f776a4304d61a0d"
      }
     },
     "metadata": {},
     "output_type": "display_data"
    },
    {
     "name": "stdout",
     "output_type": "stream",
     "text": [
      "Mean diff between min and next min: \n",
      "\tCorrect (86): 0.05475 | 0.16939\n",
      "\tIncorrect (92): 0.02551 | 0.09703\n",
      "Thresholded at 0.05: \n",
      "\tCorrect (42) \t|\t\tIncorrect (12)\n",
      "\n",
      "Frame #1038\t\tParent #600\t\tDistance to parent: d=0.1369\n",
      "*** Partial annotations available for 54 keypoints\n"
     ]
    },
    {
     "data": {
      "text/plain": "Tracking:   0%|          | 0/40 [00:00<?, ?epochs/s]",
      "application/vnd.jupyter.widget-view+json": {
       "version_major": 2,
       "version_minor": 0,
       "model_id": "068e525297264e79b56dc3637a9e6ef6"
      }
     },
     "metadata": {},
     "output_type": "display_data"
    },
    {
     "name": "stdout",
     "output_type": "stream",
     "text": [
      "Mean diff between min and next min: \n",
      "\tCorrect (62): 0.05477 | 0.16019\n",
      "\tIncorrect (116): 0.02779 | 0.13461\n",
      "Thresholded at 0.05: \n",
      "\tCorrect (31) \t|\t\tIncorrect (21)\n",
      "\n",
      "Frame #656\t\tParent #640\t\tDistance to parent: d=0.2667\n",
      "*** Partial annotations available for 52 keypoints\n"
     ]
    },
    {
     "data": {
      "text/plain": "Tracking:   0%|          | 0/40 [00:00<?, ?epochs/s]",
      "application/vnd.jupyter.widget-view+json": {
       "version_major": 2,
       "version_minor": 0,
       "model_id": "477eec6883b745479ddf8304a80dd4b3"
      }
     },
     "metadata": {},
     "output_type": "display_data"
    },
    {
     "name": "stdout",
     "output_type": "stream",
     "text": [
      "Mean diff between min and next min: \n",
      "\tCorrect (84): 0.06107 | 0.19466\n",
      "\tIncorrect (94): 0.01927 | 0.10700\n",
      "Thresholded at 0.05: \n",
      "\tCorrect (44) \t|\t\tIncorrect (8)\n",
      "\n",
      "Frame #672\t\tParent #640\t\tDistance to parent: d=0.2442\n",
      "*** Partial annotations available for 52 keypoints\n"
     ]
    },
    {
     "data": {
      "text/plain": "Tracking:   0%|          | 0/40 [00:00<?, ?epochs/s]",
      "application/vnd.jupyter.widget-view+json": {
       "version_major": 2,
       "version_minor": 0,
       "model_id": "f57e65692d7a41949736e506f467763a"
      }
     },
     "metadata": {},
     "output_type": "display_data"
    },
    {
     "name": "stdout",
     "output_type": "stream",
     "text": [
      "Mean diff between min and next min: \n",
      "\tCorrect (65): 0.05282 | 0.15043\n",
      "\tIncorrect (113): 0.02140 | 0.16055\n",
      "Thresholded at 0.05: \n",
      "\tCorrect (32) \t|\t\tIncorrect (9)\n",
      "\n",
      "Frame #700\t\tParent #640\t\tDistance to parent: d=0.3385\n",
      "*** Partial annotations available for 41 keypoints\n"
     ]
    },
    {
     "data": {
      "text/plain": "Tracking:   0%|          | 0/40 [00:00<?, ?epochs/s]",
      "application/vnd.jupyter.widget-view+json": {
       "version_major": 2,
       "version_minor": 0,
       "model_id": "baa53de775da4a10aa092003d49e5964"
      }
     },
     "metadata": {},
     "output_type": "display_data"
    },
    {
     "name": "stdout",
     "output_type": "stream",
     "text": [
      "Mean diff between min and next min: \n",
      "\tCorrect (87): 0.06011 | 0.15465\n",
      "\tIncorrect (91): 0.02442 | 0.10105\n",
      "Thresholded at 0.05: \n",
      "\tCorrect (44) \t|\t\tIncorrect (11)\n",
      "\n",
      "Frame #764\t\tParent #640\t\tDistance to parent: d=0.2360\n",
      "*** Partial annotations available for 55 keypoints\n"
     ]
    },
    {
     "data": {
      "text/plain": "Tracking:   0%|          | 0/40 [00:00<?, ?epochs/s]",
      "application/vnd.jupyter.widget-view+json": {
       "version_major": 2,
       "version_minor": 0,
       "model_id": "8a7d46919d604c228db9fe73da06bdef"
      }
     },
     "metadata": {},
     "output_type": "display_data"
    },
    {
     "name": "stdout",
     "output_type": "stream",
     "text": [
      "Mean diff between min and next min: \n",
      "\tCorrect (124): 0.10876 | 0.25701\n",
      "\tIncorrect (54): 0.03211 | 0.14172\n",
      "Thresholded at 0.05: \n",
      "\tCorrect (110) \t|\t\tIncorrect (11)\n",
      "\n",
      "Frame #800\t\tParent #640\t\tDistance to parent: d=0.0778\n",
      "*** Partial annotations available for 121 keypoints\n"
     ]
    },
    {
     "data": {
      "text/plain": "Tracking:   0%|          | 0/40 [00:00<?, ?epochs/s]",
      "application/vnd.jupyter.widget-view+json": {
       "version_major": 2,
       "version_minor": 0,
       "model_id": "e4fa65dd69af411982268e586abe208a"
      }
     },
     "metadata": {},
     "output_type": "display_data"
    },
    {
     "name": "stdout",
     "output_type": "stream",
     "text": [
      "Mean diff between min and next min: \n",
      "\tCorrect (81): 0.06505 | 0.19509\n",
      "\tIncorrect (97): 0.02203 | 0.09791\n",
      "Thresholded at 0.05: \n",
      "\tCorrect (50) \t|\t\tIncorrect (10)\n",
      "\n",
      "Frame #806\t\tParent #640\t\tDistance to parent: d=0.2564\n",
      "*** Partial annotations available for 60 keypoints\n"
     ]
    },
    {
     "data": {
      "text/plain": "Tracking:   0%|          | 0/40 [00:00<?, ?epochs/s]",
      "application/vnd.jupyter.widget-view+json": {
       "version_major": 2,
       "version_minor": 0,
       "model_id": "f8f1529f7e694c7286c3d34406c7c270"
      }
     },
     "metadata": {},
     "output_type": "display_data"
    },
    {
     "name": "stdout",
     "output_type": "stream",
     "text": [
      "Mean diff between min and next min: \n",
      "\tCorrect (120): 0.08905 | 0.24240\n",
      "\tIncorrect (58): 0.02655 | 0.10919\n",
      "Thresholded at 0.05: \n",
      "\tCorrect (89) \t|\t\tIncorrect (6)\n",
      "\n",
      "Frame #881\t\tParent #640\t\tDistance to parent: d=0.0683\n",
      "*** Partial annotations available for 95 keypoints\n"
     ]
    },
    {
     "data": {
      "text/plain": "Tracking:   0%|          | 0/40 [00:00<?, ?epochs/s]",
      "application/vnd.jupyter.widget-view+json": {
       "version_major": 2,
       "version_minor": 0,
       "model_id": "24098c501fc84b33beee7668f92ffae0"
      }
     },
     "metadata": {},
     "output_type": "display_data"
    },
    {
     "name": "stdout",
     "output_type": "stream",
     "text": [
      "Mean diff between min and next min: \n",
      "\tCorrect (94): 0.05887 | 0.19521\n",
      "\tIncorrect (84): 0.02462 | 0.07095\n",
      "Thresholded at 0.05: \n",
      "\tCorrect (46) \t|\t\tIncorrect (11)\n",
      "\n",
      "Frame #900\t\tParent #640\t\tDistance to parent: d=0.1768\n",
      "*** Partial annotations available for 57 keypoints\n"
     ]
    },
    {
     "data": {
      "text/plain": "Tracking:   0%|          | 0/40 [00:00<?, ?epochs/s]",
      "application/vnd.jupyter.widget-view+json": {
       "version_major": 2,
       "version_minor": 0,
       "model_id": "843b2dfb918e4614a5aa58f8b79cda06"
      }
     },
     "metadata": {},
     "output_type": "display_data"
    },
    {
     "name": "stdout",
     "output_type": "stream",
     "text": [
      "Mean diff between min and next min: \n",
      "\tCorrect (109): 0.07553 | 0.18332\n",
      "\tIncorrect (69): 0.03127 | 0.12756\n",
      "Thresholded at 0.05: \n",
      "\tCorrect (69) \t|\t\tIncorrect (12)\n",
      "\n",
      "Frame #1000\t\tParent #640\t\tDistance to parent: d=0.0900\n",
      "*** Partial annotations available for 81 keypoints\n"
     ]
    },
    {
     "data": {
      "text/plain": "Tracking:   0%|          | 0/40 [00:00<?, ?epochs/s]",
      "application/vnd.jupyter.widget-view+json": {
       "version_major": 2,
       "version_minor": 0,
       "model_id": "3121a7e0dfa24c719709f36c28369b1f"
      }
     },
     "metadata": {},
     "output_type": "display_data"
    },
    {
     "name": "stdout",
     "output_type": "stream",
     "text": [
      "Mean diff between min and next min: \n",
      "\tCorrect (108): 0.06580 | 0.17485\n",
      "\tIncorrect (70): 0.02674 | 0.12498\n",
      "Thresholded at 0.05: \n",
      "\tCorrect (65) \t|\t\tIncorrect (10)\n",
      "\n",
      "Frame #1038\t\tParent #640\t\tDistance to parent: d=0.1242\n",
      "*** Partial annotations available for 75 keypoints\n"
     ]
    },
    {
     "data": {
      "text/plain": "Tracking:   0%|          | 0/40 [00:00<?, ?epochs/s]",
      "application/vnd.jupyter.widget-view+json": {
       "version_major": 2,
       "version_minor": 0,
       "model_id": "63e4f18523fb4108a5687b3e2a1fe6af"
      }
     },
     "metadata": {},
     "output_type": "display_data"
    },
    {
     "name": "stdout",
     "output_type": "stream",
     "text": [
      "Mean diff between min and next min: \n",
      "\tCorrect (31): 0.04718 | 0.11412\n",
      "\tIncorrect (147): 0.02259 | 0.09174\n",
      "Thresholded at 0.05: \n",
      "\tCorrect (13) \t|\t\tIncorrect (15)\n",
      "\n",
      "Frame #672\t\tParent #656\t\tDistance to parent: d=0.4158\n",
      "*** Partial annotations available for 28 keypoints\n"
     ]
    },
    {
     "data": {
      "text/plain": "Tracking:   0%|          | 0/40 [00:00<?, ?epochs/s]",
      "application/vnd.jupyter.widget-view+json": {
       "version_major": 2,
       "version_minor": 0,
       "model_id": "5158436b00454e2f88e183430334a6c2"
      }
     },
     "metadata": {},
     "output_type": "display_data"
    },
    {
     "name": "stdout",
     "output_type": "stream",
     "text": [
      "Mean diff between min and next min: \n",
      "\tCorrect (105): 0.08324 | 0.33166\n",
      "\tIncorrect (73): 0.03364 | 0.16162\n",
      "Thresholded at 0.05: \n",
      "\tCorrect (76) \t|\t\tIncorrect (16)\n",
      "\n",
      "Frame #700\t\tParent #656\t\tDistance to parent: d=0.0827\n",
      "*** Partial annotations available for 92 keypoints\n"
     ]
    },
    {
     "data": {
      "text/plain": "Tracking:   0%|          | 0/40 [00:00<?, ?epochs/s]",
      "application/vnd.jupyter.widget-view+json": {
       "version_major": 2,
       "version_minor": 0,
       "model_id": "f14b44f27dbf429aa51032c2d70a2b3a"
      }
     },
     "metadata": {},
     "output_type": "display_data"
    },
    {
     "name": "stdout",
     "output_type": "stream",
     "text": [
      "Mean diff between min and next min: \n",
      "\tCorrect (21): 0.04512 | 0.15750\n",
      "\tIncorrect (157): 0.02297 | 0.09261\n",
      "Thresholded at 0.05: \n",
      "\tCorrect (9) \t|\t\tIncorrect (19)\n",
      "\n",
      "Frame #764\t\tParent #656\t\tDistance to parent: d=0.4397\n",
      "*** Partial annotations available for 28 keypoints\n"
     ]
    },
    {
     "data": {
      "text/plain": "Tracking:   0%|          | 0/40 [00:00<?, ?epochs/s]",
      "application/vnd.jupyter.widget-view+json": {
       "version_major": 2,
       "version_minor": 0,
       "model_id": "b36ebd29923a4393acab3aab60c74c5b"
      }
     },
     "metadata": {},
     "output_type": "display_data"
    },
    {
     "name": "stdout",
     "output_type": "stream",
     "text": [
      "Mean diff between min and next min: \n",
      "\tCorrect (65): 0.05524 | 0.24274\n",
      "\tIncorrect (113): 0.03190 | 0.17519\n",
      "Thresholded at 0.05: \n",
      "\tCorrect (28) \t|\t\tIncorrect (26)\n",
      "\n",
      "Frame #800\t\tParent #656\t\tDistance to parent: d=0.1846\n",
      "*** Partial annotations available for 54 keypoints\n"
     ]
    },
    {
     "data": {
      "text/plain": "Tracking:   0%|          | 0/40 [00:00<?, ?epochs/s]",
      "application/vnd.jupyter.widget-view+json": {
       "version_major": 2,
       "version_minor": 0,
       "model_id": "ef886e104f674329a2be7ba49bf437dc"
      }
     },
     "metadata": {},
     "output_type": "display_data"
    },
    {
     "name": "stdout",
     "output_type": "stream",
     "text": [
      "Mean diff between min and next min: \n",
      "\tCorrect (98): 0.08086 | 0.22759\n",
      "\tIncorrect (80): 0.03949 | 0.19799\n",
      "Thresholded at 0.05: \n",
      "\tCorrect (66) \t|\t\tIncorrect (26)\n",
      "\n",
      "Frame #806\t\tParent #656\t\tDistance to parent: d=0.0579\n",
      "*** Partial annotations available for 92 keypoints\n"
     ]
    },
    {
     "data": {
      "text/plain": "Tracking:   0%|          | 0/40 [00:00<?, ?epochs/s]",
      "application/vnd.jupyter.widget-view+json": {
       "version_major": 2,
       "version_minor": 0,
       "model_id": "62e81578a56d4aaeb5b81e108eae4946"
      }
     },
     "metadata": {},
     "output_type": "display_data"
    },
    {
     "name": "stdout",
     "output_type": "stream",
     "text": [
      "Mean diff between min and next min: \n",
      "\tCorrect (49): 0.05435 | 0.18694\n",
      "\tIncorrect (129): 0.02738 | 0.18963\n",
      "Thresholded at 0.05: \n",
      "\tCorrect (24) \t|\t\tIncorrect (17)\n",
      "\n",
      "Frame #881\t\tParent #656\t\tDistance to parent: d=0.3543\n",
      "*** Partial annotations available for 41 keypoints\n"
     ]
    },
    {
     "data": {
      "text/plain": "Tracking:   0%|          | 0/40 [00:00<?, ?epochs/s]",
      "application/vnd.jupyter.widget-view+json": {
       "version_major": 2,
       "version_minor": 0,
       "model_id": "3a8ae9eed520402ebd8bdef4b192659e"
      }
     },
     "metadata": {},
     "output_type": "display_data"
    },
    {
     "name": "stdout",
     "output_type": "stream",
     "text": [
      "Mean diff between min and next min: \n",
      "\tCorrect (27): 0.03915 | 0.17059\n",
      "\tIncorrect (151): 0.02449 | 0.10658\n",
      "Thresholded at 0.05: \n",
      "\tCorrect (8) \t|\t\tIncorrect (14)\n",
      "\n",
      "Frame #900\t\tParent #656\t\tDistance to parent: d=0.4045\n",
      "*** Partial annotations available for 22 keypoints\n"
     ]
    },
    {
     "data": {
      "text/plain": "Tracking:   0%|          | 0/40 [00:00<?, ?epochs/s]",
      "application/vnd.jupyter.widget-view+json": {
       "version_major": 2,
       "version_minor": 0,
       "model_id": "868e483cf4a84d85be0457d0a81e9d1a"
      }
     },
     "metadata": {},
     "output_type": "display_data"
    },
    {
     "name": "stdout",
     "output_type": "stream",
     "text": [
      "Mean diff between min and next min: \n",
      "\tCorrect (29): 0.04803 | 0.19614\n",
      "\tIncorrect (149): 0.02236 | 0.10556\n",
      "Thresholded at 0.05: \n",
      "\tCorrect (11) \t|\t\tIncorrect (14)\n",
      "\n",
      "Frame #1000\t\tParent #656\t\tDistance to parent: d=0.3761\n",
      "*** Partial annotations available for 25 keypoints\n"
     ]
    },
    {
     "data": {
      "text/plain": "Tracking:   0%|          | 0/40 [00:00<?, ?epochs/s]",
      "application/vnd.jupyter.widget-view+json": {
       "version_major": 2,
       "version_minor": 0,
       "model_id": "fa86103ab8c142de897fe8e33aba1e2b"
      }
     },
     "metadata": {},
     "output_type": "display_data"
    },
    {
     "name": "stdout",
     "output_type": "stream",
     "text": [
      "Mean diff between min and next min: \n",
      "\tCorrect (37): 0.03172 | 0.11293\n",
      "\tIncorrect (141): 0.02167 | 0.09916\n",
      "Thresholded at 0.05: \n",
      "\tCorrect (7) \t|\t\tIncorrect (14)\n",
      "\n",
      "Frame #1038\t\tParent #656\t\tDistance to parent: d=0.3746\n",
      "*** Partial annotations available for 21 keypoints\n"
     ]
    },
    {
     "data": {
      "text/plain": "Tracking:   0%|          | 0/40 [00:00<?, ?epochs/s]",
      "application/vnd.jupyter.widget-view+json": {
       "version_major": 2,
       "version_minor": 0,
       "model_id": "05a8e2f2900b4417b711d8c0b0a1da01"
      }
     },
     "metadata": {},
     "output_type": "display_data"
    },
    {
     "name": "stdout",
     "output_type": "stream",
     "text": [
      "Mean diff between min and next min: \n",
      "\tCorrect (30): 0.03726 | 0.10708\n",
      "\tIncorrect (148): 0.01977 | 0.19839\n",
      "Thresholded at 0.05: \n",
      "\tCorrect (10) \t|\t\tIncorrect (10)\n",
      "\n",
      "Frame #700\t\tParent #672\t\tDistance to parent: d=0.5010\n",
      "*** Partial annotations available for 20 keypoints\n"
     ]
    },
    {
     "data": {
      "text/plain": "Tracking:   0%|          | 0/40 [00:00<?, ?epochs/s]",
      "application/vnd.jupyter.widget-view+json": {
       "version_major": 2,
       "version_minor": 0,
       "model_id": "e0562600d4614e60b3dea01816f9c586"
      }
     },
     "metadata": {},
     "output_type": "display_data"
    },
    {
     "name": "stdout",
     "output_type": "stream",
     "text": [
      "Mean diff between min and next min: \n",
      "\tCorrect (133): 0.12343 | 0.29710\n",
      "\tIncorrect (45): 0.04547 | 0.17522\n",
      "Thresholded at 0.05: \n",
      "\tCorrect (110) \t|\t\tIncorrect (15)\n",
      "\n",
      "Frame #764\t\tParent #672\t\tDistance to parent: d=0.0681\n",
      "*** Partial annotations available for 125 keypoints\n"
     ]
    },
    {
     "data": {
      "text/plain": "Tracking:   0%|          | 0/40 [00:00<?, ?epochs/s]",
      "application/vnd.jupyter.widget-view+json": {
       "version_major": 2,
       "version_minor": 0,
       "model_id": "aacf90cfaa0c42ba98ae29d559e08904"
      }
     },
     "metadata": {},
     "output_type": "display_data"
    },
    {
     "name": "stdout",
     "output_type": "stream",
     "text": [
      "Mean diff between min and next min: \n",
      "\tCorrect (59): 0.05459 | 0.14652\n",
      "\tIncorrect (119): 0.02630 | 0.14650\n",
      "Thresholded at 0.05: \n",
      "\tCorrect (25) \t|\t\tIncorrect (20)\n",
      "\n",
      "Frame #800\t\tParent #672\t\tDistance to parent: d=0.3108\n",
      "*** Partial annotations available for 45 keypoints\n"
     ]
    },
    {
     "data": {
      "text/plain": "Tracking:   0%|          | 0/40 [00:00<?, ?epochs/s]",
      "application/vnd.jupyter.widget-view+json": {
       "version_major": 2,
       "version_minor": 0,
       "model_id": "de9668945df745df95ef9990bf3c1a3a"
      }
     },
     "metadata": {},
     "output_type": "display_data"
    },
    {
     "name": "stdout",
     "output_type": "stream",
     "text": [
      "Mean diff between min and next min: \n",
      "\tCorrect (34): 0.04006 | 0.13457\n",
      "\tIncorrect (144): 0.02114 | 0.08878\n",
      "Thresholded at 0.05: \n",
      "\tCorrect (12) \t|\t\tIncorrect (12)\n",
      "\n",
      "Frame #806\t\tParent #672\t\tDistance to parent: d=0.4712\n",
      "*** Partial annotations available for 24 keypoints\n"
     ]
    },
    {
     "data": {
      "text/plain": "Tracking:   0%|          | 0/40 [00:00<?, ?epochs/s]",
      "application/vnd.jupyter.widget-view+json": {
       "version_major": 2,
       "version_minor": 0,
       "model_id": "f2eb6db9a66149c2b0a373d1ce4e08ff"
      }
     },
     "metadata": {},
     "output_type": "display_data"
    },
    {
     "name": "stdout",
     "output_type": "stream",
     "text": [
      "Mean diff between min and next min: \n",
      "\tCorrect (70): 0.06605 | 0.19981\n",
      "\tIncorrect (108): 0.02557 | 0.10302\n",
      "Thresholded at 0.05: \n",
      "\tCorrect (40) \t|\t\tIncorrect (17)\n",
      "\n",
      "Frame #881\t\tParent #672\t\tDistance to parent: d=0.1359\n",
      "*** Partial annotations available for 57 keypoints\n"
     ]
    },
    {
     "data": {
      "text/plain": "Tracking:   0%|          | 0/40 [00:00<?, ?epochs/s]",
      "application/vnd.jupyter.widget-view+json": {
       "version_major": 2,
       "version_minor": 0,
       "model_id": "f9616eaf144b4d0f80ac39cddef56024"
      }
     },
     "metadata": {},
     "output_type": "display_data"
    },
    {
     "name": "stdout",
     "output_type": "stream",
     "text": [
      "Mean diff between min and next min: \n",
      "\tCorrect (115): 0.10015 | 0.23949\n",
      "\tIncorrect (63): 0.03823 | 0.18959\n",
      "Thresholded at 0.05: \n",
      "\tCorrect (83) \t|\t\tIncorrect (16)\n",
      "\n",
      "Frame #900\t\tParent #672\t\tDistance to parent: d=0.0628\n",
      "*** Partial annotations available for 99 keypoints\n"
     ]
    },
    {
     "data": {
      "text/plain": "Tracking:   0%|          | 0/40 [00:00<?, ?epochs/s]",
      "application/vnd.jupyter.widget-view+json": {
       "version_major": 2,
       "version_minor": 0,
       "model_id": "e5d7b861823745b89c59a9baa7b9572b"
      }
     },
     "metadata": {},
     "output_type": "display_data"
    },
    {
     "name": "stdout",
     "output_type": "stream",
     "text": [
      "Mean diff between min and next min: \n",
      "\tCorrect (103): 0.07868 | 0.21627\n",
      "\tIncorrect (75): 0.02921 | 0.20714\n",
      "Thresholded at 0.05: \n",
      "\tCorrect (68) \t|\t\tIncorrect (9)\n",
      "\n",
      "Frame #1000\t\tParent #672\t\tDistance to parent: d=0.1055\n",
      "*** Partial annotations available for 77 keypoints\n"
     ]
    },
    {
     "data": {
      "text/plain": "Tracking:   0%|          | 0/40 [00:00<?, ?epochs/s]",
      "application/vnd.jupyter.widget-view+json": {
       "version_major": 2,
       "version_minor": 0,
       "model_id": "d61c7e81cb454d2b8bfa955c60c4f4af"
      }
     },
     "metadata": {},
     "output_type": "display_data"
    },
    {
     "name": "stdout",
     "output_type": "stream",
     "text": [
      "Mean diff between min and next min: \n",
      "\tCorrect (109): 0.09548 | 0.25999\n",
      "\tIncorrect (69): 0.03380 | 0.19258\n",
      "Thresholded at 0.05: \n",
      "\tCorrect (84) \t|\t\tIncorrect (18)\n",
      "\n",
      "Frame #1038\t\tParent #672\t\tDistance to parent: d=0.0637\n",
      "*** Partial annotations available for 102 keypoints\n"
     ]
    },
    {
     "data": {
      "text/plain": "Tracking:   0%|          | 0/40 [00:00<?, ?epochs/s]",
      "application/vnd.jupyter.widget-view+json": {
       "version_major": 2,
       "version_minor": 0,
       "model_id": "c6bbecaab8a742879a043919b7a27043"
      }
     },
     "metadata": {},
     "output_type": "display_data"
    },
    {
     "name": "stdout",
     "output_type": "stream",
     "text": [
      "Mean diff between min and next min: \n",
      "\tCorrect (28): 0.04292 | 0.18451\n",
      "\tIncorrect (150): 0.02555 | 0.11649\n",
      "Thresholded at 0.05: \n",
      "\tCorrect (8) \t|\t\tIncorrect (23)\n",
      "\n",
      "Frame #764\t\tParent #700\t\tDistance to parent: d=0.5011\n",
      "*** Partial annotations available for 31 keypoints\n"
     ]
    },
    {
     "data": {
      "text/plain": "Tracking:   0%|          | 0/40 [00:00<?, ?epochs/s]",
      "application/vnd.jupyter.widget-view+json": {
       "version_major": 2,
       "version_minor": 0,
       "model_id": "795a898735464e0db04b8591eab5a4c5"
      }
     },
     "metadata": {},
     "output_type": "display_data"
    },
    {
     "name": "stdout",
     "output_type": "stream",
     "text": [
      "Mean diff between min and next min: \n",
      "\tCorrect (78): 0.05639 | 0.18501\n",
      "\tIncorrect (100): 0.02407 | 0.11570\n",
      "Thresholded at 0.05: \n",
      "\tCorrect (38) \t|\t\tIncorrect (15)\n",
      "\n",
      "Frame #800\t\tParent #700\t\tDistance to parent: d=0.2626\n",
      "*** Partial annotations available for 53 keypoints\n"
     ]
    },
    {
     "data": {
      "text/plain": "Tracking:   0%|          | 0/40 [00:00<?, ?epochs/s]",
      "application/vnd.jupyter.widget-view+json": {
       "version_major": 2,
       "version_minor": 0,
       "model_id": "5fe7c8c8fec343b49b7e6fc3950c0ed2"
      }
     },
     "metadata": {},
     "output_type": "display_data"
    },
    {
     "name": "stdout",
     "output_type": "stream",
     "text": [
      "Mean diff between min and next min: \n",
      "\tCorrect (131): 0.09473 | 0.29208\n",
      "\tIncorrect (47): 0.04342 | 0.14635\n",
      "Thresholded at 0.05: \n",
      "\tCorrect (99) \t|\t\tIncorrect (18)\n",
      "\n",
      "Frame #806\t\tParent #700\t\tDistance to parent: d=0.0542\n",
      "*** Partial annotations available for 117 keypoints\n"
     ]
    },
    {
     "data": {
      "text/plain": "Tracking:   0%|          | 0/40 [00:00<?, ?epochs/s]",
      "application/vnd.jupyter.widget-view+json": {
       "version_major": 2,
       "version_minor": 0,
       "model_id": "ef9423441134471b9654c185ded24a04"
      }
     },
     "metadata": {},
     "output_type": "display_data"
    },
    {
     "name": "stdout",
     "output_type": "stream",
     "text": [
      "Mean diff between min and next min: \n",
      "\tCorrect (57): 0.05930 | 0.17773\n",
      "\tIncorrect (121): 0.02040 | 0.06683\n",
      "Thresholded at 0.05: \n",
      "\tCorrect (25) \t|\t\tIncorrect (11)\n",
      "\n",
      "Frame #881\t\tParent #700\t\tDistance to parent: d=0.4075\n",
      "*** Partial annotations available for 36 keypoints\n"
     ]
    },
    {
     "data": {
      "text/plain": "Tracking:   0%|          | 0/40 [00:00<?, ?epochs/s]",
      "application/vnd.jupyter.widget-view+json": {
       "version_major": 2,
       "version_minor": 0,
       "model_id": "a3863ac2d21e433786b87cc3978f42ad"
      }
     },
     "metadata": {},
     "output_type": "display_data"
    },
    {
     "name": "stdout",
     "output_type": "stream",
     "text": [
      "Mean diff between min and next min: \n",
      "\tCorrect (26): 0.04188 | 0.14225\n",
      "\tIncorrect (152): 0.02233 | 0.10152\n",
      "Thresholded at 0.05: \n",
      "\tCorrect (7) \t|\t\tIncorrect (11)\n",
      "\n",
      "Frame #900\t\tParent #700\t\tDistance to parent: d=0.4703\n",
      "*** Partial annotations available for 18 keypoints\n"
     ]
    },
    {
     "data": {
      "text/plain": "Tracking:   0%|          | 0/40 [00:00<?, ?epochs/s]",
      "application/vnd.jupyter.widget-view+json": {
       "version_major": 2,
       "version_minor": 0,
       "model_id": "34177c9c34b840fe8d2493a504a24f14"
      }
     },
     "metadata": {},
     "output_type": "display_data"
    },
    {
     "name": "stdout",
     "output_type": "stream",
     "text": [
      "Mean diff between min and next min: \n",
      "\tCorrect (38): 0.04380 | 0.15282\n",
      "\tIncorrect (140): 0.02275 | 0.08754\n",
      "Thresholded at 0.05: \n",
      "\tCorrect (13) \t|\t\tIncorrect (14)\n",
      "\n",
      "Frame #1000\t\tParent #700\t\tDistance to parent: d=0.4390\n",
      "*** Partial annotations available for 27 keypoints\n"
     ]
    },
    {
     "data": {
      "text/plain": "Tracking:   0%|          | 0/40 [00:00<?, ?epochs/s]",
      "application/vnd.jupyter.widget-view+json": {
       "version_major": 2,
       "version_minor": 0,
       "model_id": "36ed2eb07f69495ba130fa78ebddc4d6"
      }
     },
     "metadata": {},
     "output_type": "display_data"
    },
    {
     "name": "stdout",
     "output_type": "stream",
     "text": [
      "Mean diff between min and next min: \n",
      "\tCorrect (28): 0.04369 | 0.14403\n",
      "\tIncorrect (150): 0.02084 | 0.10582\n",
      "Thresholded at 0.05: \n",
      "\tCorrect (9) \t|\t\tIncorrect (10)\n",
      "\n",
      "Frame #1038\t\tParent #700\t\tDistance to parent: d=0.4515\n",
      "*** Partial annotations available for 19 keypoints\n"
     ]
    },
    {
     "data": {
      "text/plain": "Tracking:   0%|          | 0/40 [00:00<?, ?epochs/s]",
      "application/vnd.jupyter.widget-view+json": {
       "version_major": 2,
       "version_minor": 0,
       "model_id": "1edb287b2116411b87e4a8ec984ee0f3"
      }
     },
     "metadata": {},
     "output_type": "display_data"
    },
    {
     "name": "stdout",
     "output_type": "stream",
     "text": [
      "Mean diff between min and next min: \n",
      "\tCorrect (77): 0.05364 | 0.18603\n",
      "\tIncorrect (101): 0.02498 | 0.12512\n",
      "Thresholded at 0.05: \n",
      "\tCorrect (33) \t|\t\tIncorrect (12)\n",
      "\n",
      "Frame #800\t\tParent #764\t\tDistance to parent: d=0.2910\n",
      "*** Partial annotations available for 45 keypoints\n"
     ]
    },
    {
     "data": {
      "text/plain": "Tracking:   0%|          | 0/40 [00:00<?, ?epochs/s]",
      "application/vnd.jupyter.widget-view+json": {
       "version_major": 2,
       "version_minor": 0,
       "model_id": "00078366e92844a5b0441714e516c0c3"
      }
     },
     "metadata": {},
     "output_type": "display_data"
    },
    {
     "name": "stdout",
     "output_type": "stream",
     "text": [
      "Mean diff between min and next min: \n",
      "\tCorrect (33): 0.04417 | 0.14988\n",
      "\tIncorrect (145): 0.02225 | 0.12523\n",
      "Thresholded at 0.05: \n",
      "\tCorrect (14) \t|\t\tIncorrect (12)\n",
      "\n",
      "Frame #806\t\tParent #764\t\tDistance to parent: d=0.4445\n",
      "*** Partial annotations available for 26 keypoints\n"
     ]
    },
    {
     "data": {
      "text/plain": "Tracking:   0%|          | 0/40 [00:00<?, ?epochs/s]",
      "application/vnd.jupyter.widget-view+json": {
       "version_major": 2,
       "version_minor": 0,
       "model_id": "71f841d367ce4d3fbd0f957f3a1a20b5"
      }
     },
     "metadata": {},
     "output_type": "display_data"
    },
    {
     "name": "stdout",
     "output_type": "stream",
     "text": [
      "Mean diff between min and next min: \n",
      "\tCorrect (75): 0.05821 | 0.17922\n",
      "\tIncorrect (103): 0.02219 | 0.10729\n",
      "Thresholded at 0.05: \n",
      "\tCorrect (38) \t|\t\tIncorrect (11)\n",
      "\n",
      "Frame #881\t\tParent #764\t\tDistance to parent: d=0.1410\n",
      "*** Partial annotations available for 49 keypoints\n"
     ]
    },
    {
     "data": {
      "text/plain": "Tracking:   0%|          | 0/40 [00:00<?, ?epochs/s]",
      "application/vnd.jupyter.widget-view+json": {
       "version_major": 2,
       "version_minor": 0,
       "model_id": "54556463d891457691b3e6cfcd8ec1cc"
      }
     },
     "metadata": {},
     "output_type": "display_data"
    },
    {
     "name": "stdout",
     "output_type": "stream",
     "text": [
      "Mean diff between min and next min: \n",
      "\tCorrect (131): 0.10492 | 0.28067\n",
      "\tIncorrect (47): 0.03396 | 0.13872\n",
      "Thresholded at 0.05: \n",
      "\tCorrect (106) \t|\t\tIncorrect (12)\n",
      "\n",
      "Frame #900\t\tParent #764\t\tDistance to parent: d=0.0447\n",
      "*** Partial annotations available for 118 keypoints\n"
     ]
    },
    {
     "data": {
      "text/plain": "Tracking:   0%|          | 0/40 [00:00<?, ?epochs/s]",
      "application/vnd.jupyter.widget-view+json": {
       "version_major": 2,
       "version_minor": 0,
       "model_id": "9d794aeccc2440559cb81dcfb4574ac5"
      }
     },
     "metadata": {},
     "output_type": "display_data"
    },
    {
     "name": "stdout",
     "output_type": "stream",
     "text": [
      "Mean diff between min and next min: \n",
      "\tCorrect (102): 0.07982 | 0.23931\n",
      "\tIncorrect (76): 0.02978 | 0.17216\n",
      "Thresholded at 0.05: \n",
      "\tCorrect (63) \t|\t\tIncorrect (12)\n",
      "\n",
      "Frame #1000\t\tParent #764\t\tDistance to parent: d=0.1044\n",
      "*** Partial annotations available for 75 keypoints\n"
     ]
    },
    {
     "data": {
      "text/plain": "Tracking:   0%|          | 0/40 [00:00<?, ?epochs/s]",
      "application/vnd.jupyter.widget-view+json": {
       "version_major": 2,
       "version_minor": 0,
       "model_id": "d2e7d43d15364ddc9e4648faf40bc6ed"
      }
     },
     "metadata": {},
     "output_type": "display_data"
    },
    {
     "name": "stdout",
     "output_type": "stream",
     "text": [
      "Mean diff between min and next min: \n",
      "\tCorrect (100): 0.08404 | 0.26740\n",
      "\tIncorrect (78): 0.02781 | 0.15550\n",
      "Thresholded at 0.05: \n",
      "\tCorrect (70) \t|\t\tIncorrect (15)\n",
      "\n",
      "Frame #1038\t\tParent #764\t\tDistance to parent: d=0.1009\n",
      "*** Partial annotations available for 85 keypoints\n"
     ]
    },
    {
     "data": {
      "text/plain": "Tracking:   0%|          | 0/40 [00:00<?, ?epochs/s]",
      "application/vnd.jupyter.widget-view+json": {
       "version_major": 2,
       "version_minor": 0,
       "model_id": "c3b4e1f65a9148188716152cc98a9ae6"
      }
     },
     "metadata": {},
     "output_type": "display_data"
    },
    {
     "name": "stdout",
     "output_type": "stream",
     "text": [
      "Mean diff between min and next min: \n",
      "\tCorrect (94): 0.06762 | 0.23011\n",
      "\tIncorrect (84): 0.03069 | 0.14118\n",
      "Thresholded at 0.05: \n",
      "\tCorrect (53) \t|\t\tIncorrect (16)\n",
      "\n",
      "Frame #806\t\tParent #800\t\tDistance to parent: d=0.1640\n",
      "*** Partial annotations available for 69 keypoints\n"
     ]
    },
    {
     "data": {
      "text/plain": "Tracking:   0%|          | 0/40 [00:00<?, ?epochs/s]",
      "application/vnd.jupyter.widget-view+json": {
       "version_major": 2,
       "version_minor": 0,
       "model_id": "8c35ef67b167444a802f7908f038aa32"
      }
     },
     "metadata": {},
     "output_type": "display_data"
    },
    {
     "name": "stdout",
     "output_type": "stream",
     "text": [
      "Mean diff between min and next min: \n",
      "\tCorrect (101): 0.09873 | 0.22681\n",
      "\tIncorrect (77): 0.02665 | 0.16115\n",
      "Thresholded at 0.05: \n",
      "\tCorrect (77) \t|\t\tIncorrect (9)\n",
      "\n",
      "Frame #881\t\tParent #800\t\tDistance to parent: d=0.1455\n",
      "*** Partial annotations available for 86 keypoints\n"
     ]
    },
    {
     "data": {
      "text/plain": "Tracking:   0%|          | 0/40 [00:00<?, ?epochs/s]",
      "application/vnd.jupyter.widget-view+json": {
       "version_major": 2,
       "version_minor": 0,
       "model_id": "1698834555a94ce898e79e0d4d3ce2a4"
      }
     },
     "metadata": {},
     "output_type": "display_data"
    },
    {
     "name": "stdout",
     "output_type": "stream",
     "text": [
      "Mean diff between min and next min: \n",
      "\tCorrect (74): 0.06861 | 0.21993\n",
      "\tIncorrect (104): 0.02598 | 0.12417\n",
      "Thresholded at 0.05: \n",
      "\tCorrect (45) \t|\t\tIncorrect (17)\n",
      "\n",
      "Frame #900\t\tParent #800\t\tDistance to parent: d=0.2434\n",
      "*** Partial annotations available for 62 keypoints\n"
     ]
    },
    {
     "data": {
      "text/plain": "Tracking:   0%|          | 0/40 [00:00<?, ?epochs/s]",
      "application/vnd.jupyter.widget-view+json": {
       "version_major": 2,
       "version_minor": 0,
       "model_id": "9f1ebb498bd34e718ff3f7352a37bb4e"
      }
     },
     "metadata": {},
     "output_type": "display_data"
    },
    {
     "name": "stdout",
     "output_type": "stream",
     "text": [
      "Mean diff between min and next min: \n",
      "\tCorrect (88): 0.07631 | 0.20744\n",
      "\tIncorrect (90): 0.02714 | 0.10745\n",
      "Thresholded at 0.05: \n",
      "\tCorrect (56) \t|\t\tIncorrect (15)\n",
      "\n",
      "Frame #1000\t\tParent #800\t\tDistance to parent: d=0.1843\n",
      "*** Partial annotations available for 71 keypoints\n"
     ]
    },
    {
     "data": {
      "text/plain": "Tracking:   0%|          | 0/40 [00:00<?, ?epochs/s]",
      "application/vnd.jupyter.widget-view+json": {
       "version_major": 2,
       "version_minor": 0,
       "model_id": "1ff031501a6743db83e2643167f8e140"
      }
     },
     "metadata": {},
     "output_type": "display_data"
    },
    {
     "name": "stdout",
     "output_type": "stream",
     "text": [
      "Mean diff between min and next min: \n",
      "\tCorrect (71): 0.06787 | 0.17298\n",
      "\tIncorrect (107): 0.02524 | 0.13479\n",
      "Thresholded at 0.05: \n",
      "\tCorrect (44) \t|\t\tIncorrect (13)\n",
      "\n",
      "Frame #1038\t\tParent #800\t\tDistance to parent: d=0.2209\n",
      "*** Partial annotations available for 57 keypoints\n"
     ]
    },
    {
     "data": {
      "text/plain": "Tracking:   0%|          | 0/40 [00:00<?, ?epochs/s]",
      "application/vnd.jupyter.widget-view+json": {
       "version_major": 2,
       "version_minor": 0,
       "model_id": "a41ae0be425f4c53b123cb0d73091c31"
      }
     },
     "metadata": {},
     "output_type": "display_data"
    },
    {
     "name": "stdout",
     "output_type": "stream",
     "text": [
      "Mean diff between min and next min: \n",
      "\tCorrect (75): 0.07178 | 0.20307\n",
      "\tIncorrect (103): 0.02676 | 0.13197\n",
      "Thresholded at 0.05: \n",
      "\tCorrect (44) \t|\t\tIncorrect (14)\n",
      "\n",
      "Frame #881\t\tParent #806\t\tDistance to parent: d=0.3434\n",
      "*** Partial annotations available for 58 keypoints\n"
     ]
    },
    {
     "data": {
      "text/plain": "Tracking:   0%|          | 0/40 [00:00<?, ?epochs/s]",
      "application/vnd.jupyter.widget-view+json": {
       "version_major": 2,
       "version_minor": 0,
       "model_id": "109f40e1c2a4476b8e62eb85fc007a5d"
      }
     },
     "metadata": {},
     "output_type": "display_data"
    },
    {
     "name": "stdout",
     "output_type": "stream",
     "text": [
      "Mean diff between min and next min: \n",
      "\tCorrect (35): 0.04024 | 0.17143\n",
      "\tIncorrect (143): 0.02416 | 0.10895\n",
      "Thresholded at 0.05: \n",
      "\tCorrect (10) \t|\t\tIncorrect (22)\n",
      "\n",
      "Frame #900\t\tParent #806\t\tDistance to parent: d=0.4093\n",
      "*** Partial annotations available for 32 keypoints\n"
     ]
    },
    {
     "data": {
      "text/plain": "Tracking:   0%|          | 0/40 [00:00<?, ?epochs/s]",
      "application/vnd.jupyter.widget-view+json": {
       "version_major": 2,
       "version_minor": 0,
       "model_id": "f29c031d9e094337813b267acd37426f"
      }
     },
     "metadata": {},
     "output_type": "display_data"
    },
    {
     "name": "stdout",
     "output_type": "stream",
     "text": [
      "Mean diff between min and next min: \n",
      "\tCorrect (51): 0.05595 | 0.16650\n",
      "\tIncorrect (127): 0.02211 | 0.11557\n",
      "Thresholded at 0.05: \n",
      "\tCorrect (24) \t|\t\tIncorrect (14)\n",
      "\n",
      "Frame #1000\t\tParent #806\t\tDistance to parent: d=0.3735\n",
      "*** Partial annotations available for 38 keypoints\n"
     ]
    },
    {
     "data": {
      "text/plain": "Tracking:   0%|          | 0/40 [00:00<?, ?epochs/s]",
      "application/vnd.jupyter.widget-view+json": {
       "version_major": 2,
       "version_minor": 0,
       "model_id": "5554c8826e9b445fb1e79381d2b1cd94"
      }
     },
     "metadata": {},
     "output_type": "display_data"
    },
    {
     "name": "stdout",
     "output_type": "stream",
     "text": [
      "Mean diff between min and next min: \n",
      "\tCorrect (47): 0.04303 | 0.13105\n",
      "\tIncorrect (131): 0.02153 | 0.11748\n",
      "Thresholded at 0.05: \n",
      "\tCorrect (16) \t|\t\tIncorrect (15)\n",
      "\n",
      "Frame #1038\t\tParent #806\t\tDistance to parent: d=0.4019\n",
      "*** Partial annotations available for 31 keypoints\n"
     ]
    },
    {
     "data": {
      "text/plain": "Tracking:   0%|          | 0/40 [00:00<?, ?epochs/s]",
      "application/vnd.jupyter.widget-view+json": {
       "version_major": 2,
       "version_minor": 0,
       "model_id": "34bd8ce5a5b947b0b9d0392446dd12ce"
      }
     },
     "metadata": {},
     "output_type": "display_data"
    },
    {
     "name": "stdout",
     "output_type": "stream",
     "text": [
      "Mean diff between min and next min: \n",
      "\tCorrect (87): 0.06061 | 0.17864\n",
      "\tIncorrect (91): 0.02674 | 0.12077\n",
      "Thresholded at 0.05: \n",
      "\tCorrect (46) \t|\t\tIncorrect (18)\n",
      "\n",
      "Frame #900\t\tParent #881\t\tDistance to parent: d=0.0678\n",
      "*** Partial annotations available for 64 keypoints\n"
     ]
    },
    {
     "data": {
      "text/plain": "Tracking:   0%|          | 0/40 [00:00<?, ?epochs/s]",
      "application/vnd.jupyter.widget-view+json": {
       "version_major": 2,
       "version_minor": 0,
       "model_id": "9d4a0c425ef04a979e19743491e9f6ad"
      }
     },
     "metadata": {},
     "output_type": "display_data"
    },
    {
     "name": "stdout",
     "output_type": "stream",
     "text": [
      "Mean diff between min and next min: \n",
      "\tCorrect (116): 0.09939 | 0.26732\n",
      "\tIncorrect (62): 0.02390 | 0.12240\n",
      "Thresholded at 0.05: \n",
      "\tCorrect (92) \t|\t\tIncorrect (5)\n",
      "\n",
      "Frame #1000\t\tParent #881\t\tDistance to parent: d=0.0192\n",
      "*** Partial annotations available for 97 keypoints\n"
     ]
    },
    {
     "data": {
      "text/plain": "Tracking:   0%|          | 0/40 [00:00<?, ?epochs/s]",
      "application/vnd.jupyter.widget-view+json": {
       "version_major": 2,
       "version_minor": 0,
       "model_id": "81fb6b163a9a4d2187e953cdfe9e9edd"
      }
     },
     "metadata": {},
     "output_type": "display_data"
    },
    {
     "name": "stdout",
     "output_type": "stream",
     "text": [
      "Mean diff between min and next min: \n",
      "\tCorrect (107): 0.08167 | 0.25193\n",
      "\tIncorrect (71): 0.02649 | 0.08878\n",
      "Thresholded at 0.05: \n",
      "\tCorrect (69) \t|\t\tIncorrect (12)\n",
      "\n",
      "Frame #1038\t\tParent #881\t\tDistance to parent: d=0.0395\n",
      "*** Partial annotations available for 81 keypoints\n"
     ]
    },
    {
     "data": {
      "text/plain": "Tracking:   0%|          | 0/40 [00:00<?, ?epochs/s]",
      "application/vnd.jupyter.widget-view+json": {
       "version_major": 2,
       "version_minor": 0,
       "model_id": "c55cd6a09680482f86bdae1474662a10"
      }
     },
     "metadata": {},
     "output_type": "display_data"
    },
    {
     "name": "stdout",
     "output_type": "stream",
     "text": [
      "Mean diff between min and next min: \n",
      "\tCorrect (130): 0.09421 | 0.26455\n",
      "\tIncorrect (48): 0.04746 | 0.20529\n",
      "Thresholded at 0.05: \n",
      "\tCorrect (93) \t|\t\tIncorrect (12)\n",
      "\n",
      "Frame #1000\t\tParent #900\t\tDistance to parent: d=0.0336\n",
      "*** Partial annotations available for 105 keypoints\n"
     ]
    },
    {
     "data": {
      "text/plain": "Tracking:   0%|          | 0/40 [00:00<?, ?epochs/s]",
      "application/vnd.jupyter.widget-view+json": {
       "version_major": 2,
       "version_minor": 0,
       "model_id": "d68f5c6d192a469cb1c78416dac70659"
      }
     },
     "metadata": {},
     "output_type": "display_data"
    },
    {
     "name": "stdout",
     "output_type": "stream",
     "text": [
      "Mean diff between min and next min: \n",
      "\tCorrect (125): 0.10545 | 0.30475\n",
      "\tIncorrect (53): 0.05856 | 0.22022\n",
      "Thresholded at 0.05: \n",
      "\tCorrect (97) \t|\t\tIncorrect (20)\n",
      "\n",
      "Frame #1038\t\tParent #900\t\tDistance to parent: d=0.0329\n",
      "*** Partial annotations available for 117 keypoints\n"
     ]
    },
    {
     "data": {
      "text/plain": "Tracking:   0%|          | 0/40 [00:00<?, ?epochs/s]",
      "application/vnd.jupyter.widget-view+json": {
       "version_major": 2,
       "version_minor": 0,
       "model_id": "9f87d66ece3147c9b63ad26fcb333c0a"
      }
     },
     "metadata": {},
     "output_type": "display_data"
    },
    {
     "name": "stdout",
     "output_type": "stream",
     "text": [
      "Mean diff between min and next min: \n",
      "\tCorrect (159): 0.14206 | 0.37786\n",
      "\tIncorrect (19): 0.01955 | 0.07785\n",
      "Thresholded at 0.05: \n",
      "\tCorrect (147) \t|\t\tIncorrect (2)\n",
      "\n",
      "Frame #1038\t\tParent #1000\t\tDistance to parent: d=0.0164\n",
      "*** Partial annotations available for 149 keypoints\n"
     ]
    },
    {
     "data": {
      "text/plain": "Tracking:   0%|          | 0/40 [00:00<?, ?epochs/s]",
      "application/vnd.jupyter.widget-view+json": {
       "version_major": 2,
       "version_minor": 0,
       "model_id": "c882dc1f0bcf4c7aabe8a7725b657e33"
      }
     },
     "metadata": {},
     "output_type": "display_data"
    }
   ],
   "source": [
    "n_corr_ir = []\n",
    "root = 0\n",
    "t_annot = container.get('t_annot')\n",
    "for t_parent in tqdm(t_annot):\n",
    "    \n",
    "    a_parent = results[t_parent]\n",
    "    v_parent = get_data(dataset, t_parent, c=1, g=2)\n",
    "    with torch.no_grad():\n",
    "        v_p = to_tensor(v_parent, n_dim=5, dev=dev)\n",
    "        zephir.theta.zero_()\n",
    "        zephir.rho.zero_()\n",
    "        zephir.rho[:1].add_(\n",
    "            to_tensor(a_parent, dev=dev).expand(1, -1, -1)\n",
    "        )\n",
    "        descriptors_p = zephir(v_p.expand(1, -1, -1, -1, -1, -1))\n",
    "\n",
    "    if root >= len(t_annot):\n",
    "        break\n",
    "        \n",
    "    for t_child in t_annot[root+1:]:\n",
    "        \n",
    "        a_child = results[t_child]\n",
    "        v_child = get_data(dataset, t_child, c=1, g=2)\n",
    "\n",
    "        with torch.no_grad():\n",
    "            v_c = to_tensor(v_child, n_dim=5, dev=dev)\n",
    "            zephir.theta.zero_()\n",
    "            zephir.rho.zero_()\n",
    "            zephir.rho[:1].add_(\n",
    "                to_tensor(a_child, dev=dev).expand(1, -1, -1)\n",
    "            )\n",
    "            descriptors_c = zephir(v_c.expand(1, -1, -1, -1, -1, -1))\n",
    "\n",
    "        pw_losses = np.zeros((descriptors_p.shape[1], descriptors_c.shape[1]))\n",
    "        for i in range(descriptors_p.shape[1]):\n",
    "            desc_p_i = descriptors_p[:, i, ...].unsqueeze(1)\n",
    "            for j in range(descriptors_c.shape[1]):\n",
    "                desc_c_j = descriptors_c[:, j, ...].unsqueeze(1)\n",
    "                loss_ij = corr_loss(desc_c_j, desc_p_i)[0]\n",
    "                pw_losses[i, j] = to_numpy(loss_ij)\n",
    "\n",
    "        min_diff01 = np.empty((0, 2))\n",
    "        min_corr = np.empty((0, 3))\n",
    "        min_incorr = np.empty((0, 3))\n",
    "        for i in range(pw_losses.shape[1]):\n",
    "        #     plt.hist(pw_losses[i, :], bins='auto')\n",
    "        #     plt.show()\n",
    "            _sorted = np.sort(pw_losses[i, :])\n",
    "            _min0, _min1 = _sorted[0], _sorted[1]\n",
    "            min_diff01 = np.append(min_diff01, [[i, _min1 - _min0]], axis=0)\n",
    "            if _min0 == pw_losses[i, i]:\n",
    "                min_corr = np.append(min_corr, [[i, _min0, _min1]], axis=0)\n",
    "            else:\n",
    "                min_incorr = np.append(min_incorr, [[i, _min0, _min1]], axis=0)\n",
    "\n",
    "        # print(f'Mean diff between min and next min: \\n'\n",
    "        #       f'\\tCorrect ({len(min_corr)}): {np.mean(min_corr[:, 2] - min_corr[:, 1]):.5f} | {np.max(min_corr[:, 2] - min_corr[:, 1]):.5f}\\n'\n",
    "        #       f'\\tIncorrect ({len(min_incorr)}): {np.mean(min_incorr[:, 2] - min_incorr[:, 1]):.5f} | {np.max(min_incorr[:, 2] - min_incorr[:, 1]):.5f}')\n",
    "        # print(f'Thresholded at 0.05: \\n'\n",
    "        #       f'\\tCorrect ({len(np.where((min_corr[:, 2] - min_corr[:, 1]) > 0.05)[0])}) \\t|\\t'\n",
    "        #       f'\\tIncorrect ({len(np.where((min_incorr[:, 2] - min_incorr[:, 1]) > 0.05)[0])})')\n",
    "        n_corr_dl_c.append(len(np.where((min_corr[:, 2] - min_corr[:, 1]) > 0.05)[0]))\n",
    "        n_corr_dl_i.append(len(np.where((min_incorr[:, 2] - min_incorr[:, 1]) > 0.05)[0]))\n",
    "\n",
    "        # turn linked results to partial annotations here\n",
    "        partial_annot = {}\n",
    "        idx = min_diff01[np.where(min_diff01[:, 1] > 0.05)[0], 0].astype(int)\n",
    "        partial_annot[t_child] = (idx, a_child[idx, :])\n",
    "\n",
    "        distance = d_full[t_parent, t_child]\n",
    "        if lr_coef > 0 and distance > 0:\n",
    "            lr_init = min(max(lr_coef * distance, lr_floor), lr_ceiling)\n",
    "        else:\n",
    "            lr_init = lr_floor\n",
    "        tqdm.write(f'\\nFrame #{t_child}\\t\\tParent #{t_parent}'\n",
    "                   f'\\t\\tDistance to parent: d={distance:.4f}')\n",
    "\n",
    "        with torch.no_grad():\n",
    "\n",
    "            # compiling target descriptors from reference frame for image registration, L_R\n",
    "            zephir.theta.zero_()\n",
    "            zephir.rho.zero_()\n",
    "            zephir.rho[:1].add_(\n",
    "                to_tensor(a_parent, dev=dev).expand(1, -1, -1)\n",
    "            )\n",
    "            target_tensor = zephir(v_p.expand(1, -1, -1, -1, -1, -1))\n",
    "\n",
    "            # loading input volumes\n",
    "            input_tensor = to_tensor(v_child, n_dim=5, dev=dev).expand(1, -1, -1, -1, -1, -1)\n",
    "\n",
    "            # initializing model parameters at parent coordinates\n",
    "            xyz_parent = to_tensor(a_parent, dev=dev)\n",
    "            zephir.theta.zero_()\n",
    "            zephir.rho.zero_()\n",
    "            zephir.rho[:1].add_(\n",
    "                xyz_parent.expand(1, -1, -1)\n",
    "            )\n",
    "            registration_init = to_numpy(zephir.rho)[0]\n",
    "\n",
    "            # compiling spring connections and stiffnesses for spatial regularization, L_N\n",
    "            ind = neighbors[root][:, :, 0]\n",
    "            d_ref = to_tensor(neighbors[root][:, :, 1:], dev=dev)\n",
    "            if covar is not None:\n",
    "                nn_covar = np.empty_like(ind)\n",
    "                for k in range(ind.shape[1]):\n",
    "                    nn_covar[:, k] = covar[range(ind.shape[0]), ind[:, k].astype(int)]/20\n",
    "                k_ij = to_tensor(\n",
    "                    nn_covar /\n",
    "                    np.clip(np.max(nn_covar, axis=-1)[:, None], 1, None),\n",
    "                    grad=False, dev=dev\n",
    "                )\n",
    "                k_ij = lambda_n * torch.relu(k_ij)\n",
    "            elif torch.max(d_ref) < 0:\n",
    "                k_ij = torch.zeros_like(\n",
    "                    to_tensor(ind), requires_grad=False, device=dev\n",
    "                )\n",
    "            else:\n",
    "                k_ij = lambda_n * torch.ones_like(\n",
    "                    to_tensor(ind), requires_grad=False, device=dev\n",
    "                )\n",
    "\n",
    "            # loading partial annotations if available\n",
    "            p_idx, pins, params = [], [], []\n",
    "            subset = _rho = None\n",
    "            if t_child in partial_annot:\n",
    "                _pins, _params = partial_annot[t_child]\n",
    "                tqdm.write(f'*** Partial annotations available '\n",
    "                           f'for {len(_pins)} keypoints')\n",
    "\n",
    "                # using partial annotations to interpolate a flow field\n",
    "                # and calculate new initial parameters for tracking\n",
    "                corners = np.stack(list(product((-1, 1), repeat=3)), axis=0)\n",
    "                p = np.append(results[t_parent, _pins, :], corners, axis=0)\n",
    "                v = np.append(_params - results[t_parent, _pins, :], np.zeros((8, 3)), axis=0)\n",
    "                gd = griddata(p, v, results[t_parent, ...], method='linear', fill_value=0)\n",
    "                zephir.rho[0].add_(to_tensor(gd, dev=dev))\n",
    "\n",
    "                # p_idx.append(0)\n",
    "                # pins.append(to_tensor(_pins, dtype=torch.int64, dev=dev))\n",
    "                # params.append(to_tensor(_params, dev=dev))\n",
    "\n",
    "            # resetting optimizer state\n",
    "            optimizer = optim.SGD(zephir.parameters(), lr=lr_init)\n",
    "            scheduler = optim.lr_scheduler.StepLR(optimizer, 10, 0.5)\n",
    "            _kernel_size = (3, 9, 9)\n",
    "            _sigmas = (1, 4, 4)\n",
    "\n",
    "        # training loop here\n",
    "        registration_results = np.zeros_like(a_child)\n",
    "        zephir.train()\n",
    "        pbar = tqdm(range(n_epoch), desc='Tracking', unit='epochs')\n",
    "        for epoch in pbar:\n",
    "\n",
    "            if (epoch + 1) % nb_epoch == 0:\n",
    "                with torch.no_grad():\n",
    "                    # updating kernels for dynamic Gaussian blurring\n",
    "                    _kernel_size = (3, _kernel_size[1] - nb_delta[0], _kernel_size[2] - nb_delta[0])\n",
    "                    _sigmas = (1, _sigmas[1] - nb_delta[1], _sigmas[1] - nb_delta[1])\n",
    "                    if _kernel_size[1] <= 1 or _sigmas[1] <= 1:\n",
    "                        # resets kernels to be inactive when it reaches a threshold\n",
    "                        _kernel_size = (1, 1, 1)\n",
    "                        _sigmas = (1, 1, 1)\n",
    "\n",
    "            optimizer.zero_grad()\n",
    "\n",
    "            # using automatic matrix precision casting to dynamically switch\n",
    "            # between float16 and float32 to minimize memory consumption\n",
    "            with torch.autocast(device_type=dev):\n",
    "\n",
    "                # sampling child descriptors at model parameters from child frames\n",
    "                pred = zephir(input_tensor)\n",
    "\n",
    "                # dynamic Gaussian blurring\n",
    "                blur_target = blur3d(target_tensor, _kernel_size, _sigmas, dev=dev)\n",
    "                blur_pred = blur3d(pred, _kernel_size, _sigmas, dev=dev)\n",
    "\n",
    "                reg = 0\n",
    "                # image registration loss, L_R\n",
    "                loss = torch.mean(corr_loss(blur_pred, blur_target))\n",
    "\n",
    "                if torch.max(k_ij) > 0:\n",
    "                    # spatial regularization, L_N\n",
    "                    reg += torch.mean(\n",
    "                        reg_n(k_ij, zephir.rho, _rho, ind, d_ref,\n",
    "                              subset, lambda_n_mode)\n",
    "                    )\n",
    "                loss += reg\n",
    "\n",
    "            # backpropagation call\n",
    "            loss.backward()\n",
    "            if clip_grad > 0.:\n",
    "                nn.utils.clip_grad_value_(zephir.parameters(), clip_grad)\n",
    "            if z_compensator > 0.:\n",
    "                # due to anisotropy in depth-axis commonly found in 3D datasets,\n",
    "                # gradient descent may not properly update parameters in that axis\n",
    "                # so we multiply calculated gradients in that axis by (1+z_compensator)\n",
    "                # to compensate\n",
    "                with torch.no_grad():\n",
    "                    zephir.rho[:, :, -1] += (\n",
    "                        - z_compensator\n",
    "                        * optimizer.param_groups[0]['lr']\n",
    "                        * zephir.rho.grad[:, :, -1]\n",
    "                    )\n",
    "\n",
    "            # gradient descent step, update model parameters\n",
    "            optimizer.step()\n",
    "            scheduler.step()\n",
    "\n",
    "            with torch.no_grad():\n",
    "                current_lr = optimizer.param_groups[0]['lr']\n",
    "                pbar.set_postfix(OrderedDict(\n",
    "                    Loss=f'{loss.item():.4f}',\n",
    "                    Loss_R=f'{(loss - reg).item():.4f}',\n",
    "                    LR=f'{current_lr:.4f}'\n",
    "                ))\n",
    "\n",
    "                # resetting model parameters for rotation\n",
    "                # if not allow_rotation:\n",
    "                zephir.theta.zero_()\n",
    "\n",
    "                for _i, i in enumerate(p_idx):\n",
    "                    _pins, _params = pins[_i], params[_i]\n",
    "                    if subset is not None:\n",
    "                        _pins = [np.where(subset == w)[0][-1]\n",
    "                                 for w in to_numpy(_pins) if w in subset]\n",
    "                        _pins = to_tensor(_pins, dtype=torch.int64, dev=dev)\n",
    "                    zephir.rho[i].index_fill_(0, _pins, 0)\n",
    "                    zephir.rho[i].index_add_(0, _pins, _params)\n",
    "\n",
    "        # updating array with tracking results for the child frame\n",
    "        with torch.no_grad():\n",
    "            registration_results = to_numpy(zephir.rho)[0]\n",
    "\n",
    "        diff = a_child - registration_results\n",
    "        diff = np.linalg.norm(diff / 2 * img_shape[None, :], axis=-1)\n",
    "        n_corr = len(np.where(diff < 2.0)[0])\n",
    "        # n_corr_ir.append(n_corr)\n",
    "        n_corr_ir_dl.append(n_corr)\n",
    "        \n",
    "    root += 1"
   ]
  },
  {
   "cell_type": "code",
   "execution_count": 14,
   "id": "19fda4ea",
   "metadata": {},
   "outputs": [
    {
     "data": {
      "image/png": "[encoded data removed]",
      "text/plain": [
       "<Figure size 640x480 with 1 Axes>"
      ]
     },
     "metadata": {},
     "output_type": "display_data"
    }
   ],
   "source": [
    "n_corr_ir = np.array(n_corr_ir)\n",
    "n_corr_ir_dl = np.array(n_corr_ir_dl)\n",
    "n_corr_dl_c = np.array(n_corr_dl_c)\n",
    "n_corr_dl_i = np.array(n_corr_dl_i)\n",
    "plt.scatter(n_corr_dl_c / (n_corr_dl_c + n_corr_dl_i), n_corr_ir_dl)\n",
    "plt.scatter(n_corr_dl_c / (n_corr_dl_c + n_corr_dl_i), n_corr_ir)\n",
    "plt.xlabel('% Correct links (N_correct / N_total_detections)')\n",
    "plt.ylabel('N Correct Neuron Tracking (out of 178)')\n",
    "plt.show()"
   ]
  },
  {
   "cell_type": "code",
   "execution_count": null,
   "outputs": [],
   "source": [],
   "metadata": {
    "collapsed": false
   },
   "id": "575ba995d27b6028"
  }
 ],
 "metadata": {
  "kernelspec": {
   "display_name": "Python 3 (ipykernel)",
   "language": "python",
   "name": "python3"
  },
  "language_info": {
   "codemirror_mode": {
    "name": "ipython",
    "version": 3
   },
   "file_extension": ".py",
   "mimetype": "text/x-python",
   "name": "python",
   "nbconvert_exporter": "python",
   "pygments_lexer": "ipython3",
   "version": "3.9.15"
  }
 },
 "nbformat": 4,
 "nbformat_minor": 5
}
